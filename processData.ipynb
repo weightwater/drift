{
 "cells": [
  {
   "cell_type": "code",
   "execution_count": null,
   "metadata": {},
   "outputs": [],
   "source": [
    "import scipy.io as io\n",
    "import numpy as np\n",
    "import os\n",
    "import torch\n",
    "import time"
   ]
  },
  {
   "cell_type": "code",
   "execution_count": null,
   "metadata": {},
   "outputs": [],
   "source": [
    "# data shape is [repeat, frame, cell]\n",
    "# output is [N, cellNum*stride]\n",
    "def split_data_FCAE_original(data, stride=6):\n",
    "    repeatNum, frameNum, cellNum = data.shape\n",
    "    result = np.empty([0, cellNum*stride])\n",
    "    for i in range(repeatNum):\n",
    "        for j in range(frameNum - stride):\n",
    "            result = np.concatenate((result, data[i, j:j+stride, :].reshape((1, cellNum*stride))))\n",
    "    return result\n",
    "\n",
    "def split_data_FCAE(data, stride=6, withoutGray=False, vedio='PDG'):\n",
    "    data = torch.tensor(data)\n",
    "    if withoutGray:\n",
    "        if vedio == 'PDG':\n",
    "            data = data.reshape(8, 12, 60, -1) \n",
    "            data = data[:, :, :20].reshape((8, 20*12, -1))\n",
    "        elif vedio == 'MOV':\n",
    "            data = data[:, 50:]\n",
    "    repeat, frame, cell = data.shape\n",
    "    if stride > frame:\n",
    "        print(\"stride cannot larger than frame number\")\n",
    "        return None\n",
    "    repeat_data = data.repeat((1, 1, stride))\n",
    "    reshape_data = repeat_data.reshape((repeat, frame, stride, cell))\n",
    "    for i in range(1, stride):\n",
    "        reshape_data[:, :-i, i] = reshape_data[:, i:, i]\n",
    "    reshape_data = reshape_data.reshape((repeat*frame, cell*stride))\n",
    "    return reshape_data.numpy()\n",
    "\n",
    "# data shape is [repeat, frame, cell]\n",
    "# output is [N, stride, cellNum]\n",
    "def split_data_LSTMAE_original(data, stride=6):\n",
    "    repeatNum, frameNum, cellNum = data.shape\n",
    "    result = np.empty([0, stride, cellNum])\n",
    "    for i in range(repeatNum):\n",
    "        for j in range(frameNum-stride):\n",
    "            result = np.concatenate((result, data[i:i+1, j:j+stride, :]))\n",
    "    \n",
    "    return result\n",
    "\n",
    "def split_data_LSTMAE(data, stride=6, withoutGray=False, vedio='PDG'):\n",
    "    data = torch.tensor(data)\n",
    "    if withoutGray:\n",
    "        if vedio == 'PDG':\n",
    "            data = data.reshape(8, 12, 60, -1) \n",
    "            data = data[:, :, :20].reshape((8, 20*12, -1))\n",
    "        elif vedio == 'MOV':\n",
    "            data = data[:, 50:]\n",
    "    repeat, frame, cell = data.shape\n",
    "    if stride > frame:\n",
    "        print(\"stride cannot larger than frame number\")\n",
    "        return None\n",
    "    repeat_data = data.repeat((1, 1, stride))\n",
    "    reshape_data = repeat_data.reshape((repeat, frame, stride, cell))\n",
    "    for i in range(1, stride):\n",
    "        reshape_data[:, :-i, i] = reshape_data[:, i:, i]\n",
    "    reshape_data = reshape_data.reshape((repeat*frame, stride, cell))\n",
    "    return reshape_data.numpy()\n"
   ]
  },
  {
   "cell_type": "code",
   "execution_count": null,
   "metadata": {},
   "outputs": [],
   "source": [
    "# 测试预处理函数\n",
    "d = [i for i in range(3*10*5)]\n",
    "t = torch.as_tensor(d).reshape(3, 10, 5)\n",
    "print(t)\n",
    "result = split_data_LSTMAE(t, stride=2)\n",
    "# print(result)\n"
   ]
  },
  {
   "cell_type": "code",
   "execution_count": null,
   "metadata": {},
   "outputs": [],
   "source": [
    "data = io.loadmat('./Main experiments/Mouse 2/Window 1/RespData.mat')\n",
    "# data = io.loadmat('./Main experiments/Mouse 1/RespData.mat')\n",
    "MOV_data = data['RespData'][0][0][1][0][0][0][:, :, :, 0]\n",
    "PDG_data = data['RespData'][0][0][0][0][0][0][:, :, :, 0]\n",
    "\n",
    "# tic = time.time()\n",
    "# original_result = split_data_LSTMAE_original(MOV_data)\n",
    "# toc = time.time()\n",
    "# print('orignal algorithm cost %d' % (toc-tic))\n",
    "\n",
    "print(PDG_data.shape)\n",
    "\n",
    "tic = time.time()\n",
    "new_result = split_data_LSTMAE(PDG_data, stride=12, withoutGray=True, vedio='PDG')\n",
    "toc = time.time()\n",
    "print('new algorithm cost: %d' % (toc-tic))\n",
    "print(new_result.shape)"
   ]
  },
  {
   "cell_type": "code",
   "execution_count": null,
   "metadata": {},
   "outputs": [],
   "source": [
    "def standardize(data):\n",
    "    repeatNum, frameNum, cellNum = data.shape\n",
    "    data = data.reshape((repeatNum * frameNum, cellNum))\n",
    "    data = (data - np.mean(data, axis=1, keepdims=True)) / np.std(data, axis=1, keepdims=True)\n",
    "    data = data.reshape((repeatNum, frameNum, cellNum))\n",
    "    return data"
   ]
  },
  {
   "cell_type": "code",
   "execution_count": null,
   "metadata": {},
   "outputs": [],
   "source": [
    "filePath = './Main experiments/Mouse {index}/RespData.mat'\n",
    "mouseNum = 1\n",
    "savePDGPath = './myData/Day{day}_PDG/PDG_mouse{index}_{model}.npy'\n",
    "saveMOVPath = './myData/Day{day}_MOV/MOV_mouse{index}_{model}.npy'\n",
    "stride = 6\n",
    "withoutgray = True"
   ]
  },
  {
   "cell_type": "code",
   "execution_count": null,
   "metadata": {},
   "outputs": [],
   "source": [
    "for i in range(mouseNum):\n",
    "    if i+1 != 2:\n",
    "        data = io.loadmat(filePath.format(index=i+1))\n",
    "    else:\n",
    "        data = io.loadmat('./Main experiments/Mouse 2/Window 1/RespData.mat')\n",
    "\n",
    "    sessionNum = data['RespData'][0][0][0][0][0][0].shape[3]\n",
    "\n",
    "    for j in range(0, sessionNum):\n",
    "        PDG_data = data['RespData'][0][0][0][0][0][0][:, :, :, j]\n",
    "        MOV_data = data['RespData'][0][0][1][0][0][0][:, :, :, j]\n",
    "\n",
    "        if not os.path.isdir('./myData/Day{index}_MOV'.format(index=j*7)):\n",
    "            os.mkdir('./myData/Day{day}_MOV/'.format(day=j*7))\n",
    "            os.mkdir('./myData/Day{day}_PDG/'.format(day=j*7))\n",
    "\n",
    "        repeatNumMOV, frameNumMOV, cellNumMOV = MOV_data.shape\n",
    "        MOV_data = standardize(MOV_data)\n",
    "\n",
    "        MOV_data_split_LSTMAE = split_data_LSTMAE(MOV_data, withoutGray=True, vedio='MOV')\n",
    "        np.save(saveMOVPath.format(day=j*7, index=i+1, model='LSTMAE'), MOV_data_split_LSTMAE)\n",
    "        MOV_data_split_FCAE = split_data_FCAE(MOV_data, withoutGray=True, vedio='MOV')\n",
    "        np.save(saveMOVPath.format(day=j*7, index=i+1, model='FCAE'), MOV_data_split_FCAE)\n",
    "        print(f'save success mouse{i+1} day{j*7} MOV')\n",
    "\n",
    "        repeatNumPDG, frameNumPDG, cellNumPDG = PDG_data.shape\n",
    "        PDG_data = standardize(PDG_data)\n",
    "\n",
    "        PDG_data_split_LSTMAE = split_data_LSTMAE(PDG_data, withoutGray=True, vedio='PDG')\n",
    "        np.save(savePDGPath.format(day=j*7, index=i+1, model='LSTMAE'), PDG_data_split_LSTMAE)\n",
    "        PDG_data_split_FCAE = split_data_FCAE(PDG_data, withoutGray=True, vedio='PDG')\n",
    "        np.save(savePDGPath.format(day=j*7, index=i+1, model='FCAE'), PDG_data_split_FCAE)\n",
    "        print(f'save success mouse{i+1} day{j*7} PDG')\n"
   ]
  },
  {
   "cell_type": "code",
   "execution_count": null,
   "metadata": {},
   "outputs": [],
   "source": []
  }
 ],
 "metadata": {
  "kernelspec": {
   "display_name": "Python 3.7.9 64-bit",
   "language": "python",
   "name": "python3"
  },
  "language_info": {
   "codemirror_mode": {
    "name": "ipython",
    "version": 3
   },
   "file_extension": ".py",
   "mimetype": "text/x-python",
   "name": "python",
   "nbconvert_exporter": "python",
   "pygments_lexer": "ipython3",
   "version": "3.7.9"
  },
  "orig_nbformat": 4,
  "vscode": {
   "interpreter": {
    "hash": "f1215c2695fb854c4ba7da04e87047ff6ad0cd3a897d5f699d6446d61aa011c7"
   }
  }
 },
 "nbformat": 4,
 "nbformat_minor": 2
}
