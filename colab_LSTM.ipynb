{
 "cells": [
  {
   "cell_type": "code",
   "execution_count": null,
   "metadata": {},
   "outputs": [],
   "source": [
    "import math\n",
    "import numpy as np\n",
    "\n",
    "import pandas as pd \n",
    "import scipy.io as io\n",
    "import os \n",
    "\n",
    "from tqdm import tqdm\n",
    "\n",
    "import torch \n",
    "import torch.nn as nn\n",
    "from torch.utils.data import DataLoader, Dataset, random_split\n",
    "\n",
    "from torch.utils.tensorboard import SummaryWriter\n",
    "\n",
    "import seaborn as sns\n",
    "import matplotlib.pyplot as plt\n",
    "import matplotlib as mpl"
   ]
  },
  {
   "cell_type": "code",
   "execution_count": 2,
   "metadata": {},
   "outputs": [],
   "source": [
    "def same_seed(seed):\n",
    "    torch.backends.cudnn.deterministic = True\n",
    "    torch.backends.cudnn.deterministic = False\n",
    "    np.random.seed(seed)\n",
    "    torch.manual_seed(seed)\n",
    "    if torch.cuda.is_available():\n",
    "        torch.cuda.manual_seed_all(seed)\n",
    "    \n",
    "def train_valid_split(data_set, valid_ratio, seed):\n",
    "    valid_dataset_size = int(len(data_set) * valid_ratio)\n",
    "    train_dataset_size = len(data_set) - valid_dataset_size\n",
    "    train_dataset, valid_dataset = random_split(data_set, [train_dataset_size, valid_dataset_size], generator=torch.Generator().manual_seed(seed))\n",
    "    return np.array(train_dataset), np.array(valid_dataset)\n",
    "\n",
    "def predict(test_loader, model, device):\n",
    "    model.eval()\n",
    "    preds = torch.Tensor([])\n",
    "    for x in tqdm(test_loader):\n",
    "        x = x.float().to(device)\n",
    "        with torch.no_grad():\n",
    "            pred = model(x)\n",
    "            preds = torch.concat((preds, pred.detach().to('cpu')))\n",
    "    return preds\n",
    "\n",
    "def splitResp(RespData, stride=6):\n",
    "    repeatNum, frameNum, cellNum = RespData.shape\n",
    "    result = np.empty([0, stride, cellNum])\n",
    "    for i in range(repeatNum):\n",
    "        for j in range(frameNum-stride):\n",
    "            result = np.concatenate((result, RespData[i:i+1, j:j+stride, :]))\n",
    "    \n",
    "    return result"
   ]
  },
  {
   "cell_type": "code",
   "execution_count": 3,
   "metadata": {},
   "outputs": [],
   "source": [
    "class RespData(Dataset):\n",
    "\n",
    "    def __init__(self, x):\n",
    "        self.x = x\n",
    "    \n",
    "    def __getitem__(self, idx):\n",
    "        return self.x[idx]\n",
    "    \n",
    "    def __len__(self):\n",
    "        return len(self.x)\n",
    "    "
   ]
  },
  {
   "cell_type": "code",
   "execution_count": 4,
   "metadata": {},
   "outputs": [],
   "source": [
    "class LSTMAE(nn.Module):\n",
    "\n",
    "    def __init__(self, inputDim, hidden_layer=32):\n",
    "        super(LSTMAE, self).__init__()\n",
    "        # self.batch_size = batch_size\n",
    "        self.hidden_layer = 32\n",
    "\n",
    "        self.encoder = nn.LSTM(inputDim, self.hidden_layer, batch_first=True)\n",
    "        self.decoder = nn.LSTM(self.hidden_layer, inputDim, batch_first=True)\n",
    "\n",
    "    def forward(self, x):\n",
    "        x, (h, c) = self.encoder(x)\n",
    "        x, (h, c) = self.decoder(x)\n",
    "        return x"
   ]
  },
  {
   "cell_type": "code",
   "execution_count": 5,
   "metadata": {},
   "outputs": [],
   "source": [
    "def trainer(train_loader, valid_loader, model, config, device):\n",
    "    creterion = nn.MSELoss(reduction='mean')\n",
    "    optimizer = torch.optim.Adam(model.parameters(), lr=config['learning_rate'])\n",
    "    scheduler = torch.optim.lr_scheduler.StepLR(optimizer, step_size=config['step_size'], gamma=config['gamma'])\n",
    "\n",
    "    writer = SummaryWriter()\n",
    "\n",
    "    if not os.path.isdir('LSTMAE'):\n",
    "        os.mkdir('./LSTMAE')\n",
    "    \n",
    "    n_epochs, best_loss, step, early_stop_count = config['n_epochs'], np.inf, 0, 0\n",
    "\n",
    "\n",
    "    for epoch in range(n_epochs):    \n",
    "        model.train()\n",
    "        loss_record = []\n",
    "\n",
    "        train_qbar = tqdm(train_loader, position=0, leave=True)\n",
    "\n",
    "        for x in train_qbar:\n",
    "            optimizer.zero_grad()\n",
    "            x = x.float().to(device)\n",
    "            prediction = model(x)\n",
    "            # print(prediction.shape)\n",
    "            loss = creterion(prediction, x)\n",
    "            loss.backward()\n",
    "            optimizer.step()\n",
    "            scheduler.step()\n",
    "            step += 1\n",
    "            loss_record.append(loss)\n",
    "\n",
    "            train_qbar.set_description(f'Epoch [{epoch}/{n_epochs}]')\n",
    "            train_qbar.set_postfix({'loss': loss.detach().item()})\n",
    "        \n",
    "        mean_train_loss = sum(loss_record) / len(loss_record)\n",
    "        writer.add_scalar('LSTMAE_Loss/train', mean_train_loss, step)\n",
    "\n",
    "        loss_record = []\n",
    "        model.eval()\n",
    "        for x in valid_loader:\n",
    "            x = x.float().to(device)\n",
    "            with torch.no_grad():\n",
    "                pred = model(x)\n",
    "                loss = creterion(pred, x)\n",
    "            loss_record.append(loss)\n",
    "\n",
    "        mean_valid_loss = sum(loss_record) / len(loss_record)\n",
    "        print(f'Epoch [{epoch+1} / {n_epochs}]: Tain loss: {mean_train_loss:.4f}, Valid loss: {mean_valid_loss:.4f}')\n",
    "        writer.add_scalar('LSTMAE_Loss/valid', mean_valid_loss, step)\n",
    "\n",
    "        if mean_valid_loss < best_loss:\n",
    "            best_loss = mean_valid_loss\n",
    "            torch.save(model.state_dict(), config['best_model'])\n",
    "            print(f'Saveing model with loss {best_loss:.3f} ...')\n",
    "            early_stop_count = 0\n",
    "        else:\n",
    "            early_stop_count += 1\n",
    "        \n",
    "        if early_stop_count >= config['early_stop']:\n",
    "            print('\\nModel is not imporving, so we halt the training session')\n",
    "            return\n",
    "        \n",
    "        torch.save(model.state_dict(), config['last_model'])\n",
    "    writer.flush()\n",
    "    writer.close()\n",
    "            "
   ]
  },
  {
   "cell_type": "code",
   "execution_count": 6,
   "metadata": {},
   "outputs": [],
   "source": [
    "device = 'cuda' if torch.cuda.is_available() else 'cpu'\n",
    "\n",
    "config = {\n",
    "    'learning_rate': 1e-3,\n",
    "    'seed': 122914,\n",
    "    'valid_ratio': 0.1,\n",
    "    'early_stop': 400,\n",
    "    'n_epochs': 10000,\n",
    "    'best_model': './LSTMAE/lstm_best_0811.ckpt',\n",
    "    'last_model': './LSTMAE/lstm_last_0811.ckpt',\n",
    "    'step_size': 1000,\n",
    "    'gamma': 0.99,\n",
    "}\n"
   ]
  },
  {
   "cell_type": "code",
   "execution_count": 7,
   "metadata": {},
   "outputs": [],
   "source": [
    "PDG_data = np.load('./myData/Day0_PDG/PDG_mouse1_LSTMAE.npy')"
   ]
  },
  {
   "cell_type": "code",
   "execution_count": 8,
   "metadata": {},
   "outputs": [],
   "source": [
    "cellNumPDG = 371\n",
    "\n",
    "train_data, valid_data = train_valid_split(PDG_data, config['valid_ratio'], config['seed'])\n",
    "\n",
    "train_dataset, valid_dataset = RespData(train_data), RespData(valid_data)\n",
    "\n",
    "train_loader, valid_loader = DataLoader(train_dataset, batch_size=16), DataLoader(valid_dataset, batch_size=16)"
   ]
  },
  {
   "cell_type": "code",
   "execution_count": null,
   "metadata": {},
   "outputs": [],
   "source": [
    "model = LSTMAE(inputDim=cellNumPDG).to(device)\n",
    "# print(next(model.parameters()).device)\n",
    "trainer(train_loader, valid_loader, model, config, device)"
   ]
  },
  {
   "cell_type": "code",
   "execution_count": null,
   "metadata": {},
   "outputs": [],
   "source": []
  }
 ],
 "metadata": {
  "kernelspec": {
   "display_name": "Python 3.7.9 64-bit",
   "language": "python",
   "name": "python3"
  },
  "language_info": {
   "codemirror_mode": {
    "name": "ipython",
    "version": 3
   },
   "file_extension": ".py",
   "mimetype": "text/x-python",
   "name": "python",
   "nbconvert_exporter": "python",
   "pygments_lexer": "ipython3",
   "version": "3.7.9"
  },
  "orig_nbformat": 4,
  "vscode": {
   "interpreter": {
    "hash": "f1215c2695fb854c4ba7da04e87047ff6ad0cd3a897d5f699d6446d61aa011c7"
   }
  }
 },
 "nbformat": 4,
 "nbformat_minor": 2
}
