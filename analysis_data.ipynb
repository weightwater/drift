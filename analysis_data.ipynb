{
 "cells": [
  {
   "cell_type": "code",
   "execution_count": null,
   "metadata": {},
   "outputs": [],
   "source": [
    "import math\n",
    "import numpy as np\n",
    "\n",
    "import pandas as pd\n",
    "import scipy.io as io\n",
    "import os \n",
    "import csv\n",
    "\n",
    "from tqdm import tqdm \n",
    "\n",
    "import torch\n",
    "import torch.nn as nn\n",
    "from torch.utils.data import Dataset, DataLoader, random_split\n",
    "\n",
    "from torch.utils.tensorboard import SummaryWriter\n",
    "\n",
    "import seaborn as sns\n",
    "import matplotlib as mpl\n",
    "import matplotlib.pyplot as plt\n",
    "\n",
    "from FCAEClass import FCAE\n",
    "from RespDataClass import RespData"
   ]
  },
  {
   "cell_type": "markdown",
   "metadata": {},
   "source": [
    "### 辅助函数\n",
    "- 预测网络结果\n",
    "- 制造白噪声\n",
    "- 计算误差，MSE\n",
    "- 绘制误差分布"
   ]
  },
  {
   "cell_type": "code",
   "execution_count": null,
   "metadata": {},
   "outputs": [],
   "source": [
    "def predict(test_loader, model, device):\n",
    "    model.eval()\n",
    "    preds = torch.Tensor([])\n",
    "    for x in tqdm(test_loader):\n",
    "        x = x.float().to(device)\n",
    "        with torch.no_grad():\n",
    "            pred = model(x)\n",
    "            preds = torch.concat((preds, pred.detach().to('cpu')))\n",
    "    # prds = torch.cat(preds, dim=0).numpy()\n",
    "    return preds\n"
   ]
  },
  {
   "cell_type": "code",
   "execution_count": null,
   "metadata": {},
   "outputs": [],
   "source": [
    "from utils import getMSE, draw_hitogram"
   ]
  },
  {
   "cell_type": "code",
   "execution_count": null,
   "metadata": {},
   "outputs": [],
   "source": [
    "device = torch.device('cuda' if torch.cuda.is_available() else 'cpu')\n",
    "\n",
    "mouseID = 1\n",
    "\n",
    "Respdata = io.loadmat('./Main experiments/Mouse 1/RespData.mat')\n",
    "Respdata = Respdata['RespData'][0][0][0][0][0][0]\n",
    "repeatNum, frameNum, cellNum, sessionNum = Respdata.shape\n",
    "\n",
    "stride = 6\n"
   ]
  },
  {
   "cell_type": "markdown",
   "metadata": {},
   "source": [
    "#### 加载数据"
   ]
  },
  {
   "cell_type": "code",
   "execution_count": null,
   "metadata": {},
   "outputs": [],
   "source": [
    "PDG_Data = [np.load(f'./myData/Day{i*7}_PDG/PDG_mouse{mouseID}_FCAE.npy') for i in range(sessionNum)]\n",
    "MOV_Data = np.load(f'./myData/Day0_MOV/MOV_mouse1_FCAE.npy')\n",
    "# whiteNoisy_Data = np.random.normal(0, 1, (10000, stride*cellNum))"
   ]
  },
  {
   "cell_type": "code",
   "execution_count": null,
   "metadata": {},
   "outputs": [],
   "source": [
    "PDG_Dataset = [RespData(d) for d in PDG_Data]\n",
    "MOV_Dataset = RespData(MOV_Data)\n",
    "# whiteNoisy_Dataset = RespData(whiteNoisy_Data)\n",
    "\n",
    "PDG_Dataloader = [DataLoader(PDGset, batch_size=16) for PDGset in PDG_Dataset]\n",
    "MOV_Dataloader = DataLoader(MOV_Dataset, batch_size=16)\n",
    "# whiteNoisy_Dataloader = DataLoader(whiteNoisy_Dataset, batch_size=16)"
   ]
  },
  {
   "cell_type": "code",
   "execution_count": null,
   "metadata": {},
   "outputs": [],
   "source": [
    "model = FCAE(cellNum*stride)\n",
    "model.load_state_dict(torch.load('./FCAE/last_08261732_mouse1_day0.ckpt'))\n",
    "model.to(device)"
   ]
  },
  {
   "cell_type": "code",
   "execution_count": null,
   "metadata": {},
   "outputs": [],
   "source": [
    "PDG_Predictions = [predict(loader, model, device) for loader in PDG_Dataloader]\n",
    "MOV_Predictions = predict(MOV_Dataloader, model, device)\n",
    "# whiteNoisy_Predictions = predict(whiteNoisy_Data, model, device)"
   ]
  },
  {
   "cell_type": "code",
   "execution_count": null,
   "metadata": {},
   "outputs": [],
   "source": [
    "PDG_MSE = [getMSE(d, pred.numpy()) for d, pred in zip(PDG_Data, PDG_Predictions)]\n",
    "MOV_MSE = getMSE(MOV_Data, MOV_Predictions.numpy())\n",
    "# whiteNoisy_MSE = getMSE(whiteNoisy_Data.numpy(), whiteNoisy_Predictions.numpy())"
   ]
  },
  {
   "cell_type": "code",
   "execution_count": null,
   "metadata": {},
   "outputs": [],
   "source": [
    "PDG_df = [pd.DataFrame(mse, columns=[f'MSE Day {i*7}']) for i, mse in enumerate(PDG_MSE)]\n",
    "MOV_df = pd.DataFrame(MOV_MSE, columns=[f'MSE'])"
   ]
  },
  {
   "cell_type": "code",
   "execution_count": null,
   "metadata": {},
   "outputs": [],
   "source": [
    "# Fixing random state for reproducibility\n",
    "np.random.seed(19680801)\n",
    "\n",
    "plt.style.use('bmh')\n",
    "fig, ax = plt.subplots()\n",
    "# print(PDG_df)\n",
    "ax.hist(PDG_df[0][PDG_df[0]['MSE Day 0'] < 1.25], histtype=\"stepfilled\", bins=25, alpha=0.8, density=True, label='Day0')\n",
    "# ax.hist(PDG_df[1][PDG_df[1]['MSE Day 7'] < 1.25], histtype=\"stepfilled\", bins=25, alpha=0.8, density=True, label='Day7')\n",
    "# ax.hist(PDG_df[2][PDG_df[2]['MSE Day 14'] < 1.25], histtype=\"stepfilled\", bins=25, alpha=0.8, density=True, label='Day14')\n",
    "# ax.hist(PDG_df[3][PDG_df[3]['MSE Day 21'] < 1.25], histtype=\"stepfilled\", bins=25, alpha=0.8, density=True, label='Day21')\n",
    "# ax.hist(PDG_df[4][PDG_df[4]['MSE Day 28'] < 1.25], histtype=\"stepfilled\", bins=25, alpha=0.8, density=True, label='Day28')\n",
    "ax.hist(MOV_df[MOV_df['MSE'] < 1.25], histtype=\"stepfilled\", bins=25, alpha=0.8, density=True, label='MOV')\n",
    "# ax.hist(whiteNoise_df[whiteNoise_df['MSE'] < 1.25], histtype=\"stepfilled\", bins=25, alpha=0.8, density=True, label='WN')\n",
    "ax.set_title(\"Different Session MSE\")\n",
    "\n",
    "ax.legend(loc='upper left')\n",
    "\n",
    "plt.show()\n",
    "# plt.savefig('./LSTMAE_DAY.jpg', dpi=400)"
   ]
  },
  {
   "cell_type": "code",
   "execution_count": null,
   "metadata": {},
   "outputs": [],
   "source": []
  }
 ],
 "metadata": {
  "kernelspec": {
   "display_name": "Python 3.7.9 64-bit",
   "language": "python",
   "name": "python3"
  },
  "language_info": {
   "codemirror_mode": {
    "name": "ipython",
    "version": 3
   },
   "file_extension": ".py",
   "mimetype": "text/x-python",
   "name": "python",
   "nbconvert_exporter": "python",
   "pygments_lexer": "ipython3",
   "version": "3.7.9"
  },
  "orig_nbformat": 4,
  "vscode": {
   "interpreter": {
    "hash": "f1215c2695fb854c4ba7da04e87047ff6ad0cd3a897d5f699d6446d61aa011c7"
   }
  }
 },
 "nbformat": 4,
 "nbformat_minor": 2
}
