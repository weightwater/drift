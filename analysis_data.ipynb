{
 "cells": [
  {
   "cell_type": "code",
   "execution_count": 3,
   "metadata": {},
   "outputs": [
    {
     "name": "stderr",
     "output_type": "stream",
     "text": [
      "c:\\Users\\weightwater\\AppData\\Local\\Programs\\Python\\Python37\\lib\\site-packages\\tqdm\\auto.py:22: TqdmWarning: IProgress not found. Please update jupyter and ipywidgets. See https://ipywidgets.readthedocs.io/en/stable/user_install.html\n",
      "  from .autonotebook import tqdm as notebook_tqdm\n"
     ]
    }
   ],
   "source": [
    "import math\n",
    "import numpy as np\n",
    "\n",
    "import pandas as pd\n",
    "import scipy.io as io\n",
    "import os \n",
    "import csv\n",
    "\n",
    "from tqdm import tqdm \n",
    "\n",
    "import torch\n",
    "import torch.nn as nn\n",
    "from torch.utils.data import Dataset, DataLoader, random_split\n",
    "\n",
    "from torch.utils.tensorboard import SummaryWriter\n",
    "\n",
    "import seaborn as sns\n",
    "import matplotlib as mpl\n",
    "import matplotlib.pyplot as plt\n",
    "\n",
    "from FCAEClass import FCAE\n",
    "from RespDataClass import RespData"
   ]
  },
  {
   "cell_type": "markdown",
   "metadata": {},
   "source": [
    "### 辅助函数\n",
    "- 预测网络结果\n",
    "- 制造白噪声\n",
    "- 计算误差，MSE\n",
    "- 绘制误差分布"
   ]
  },
  {
   "cell_type": "code",
   "execution_count": 4,
   "metadata": {},
   "outputs": [],
   "source": [
    "def predict(test_loader, model, device):\n",
    "    model.eval()\n",
    "    preds = torch.Tensor([])\n",
    "    for x in tqdm(test_loader):\n",
    "        x = x.float().to(device)\n",
    "        with torch.no_grad():\n",
    "            pred = model(x)\n",
    "            preds = torch.concat((preds, pred.detach().to('cpu')))\n",
    "    # prds = torch.cat(preds, dim=0).numpy()\n",
    "    return preds\n"
   ]
  },
  {
   "cell_type": "code",
   "execution_count": 5,
   "metadata": {},
   "outputs": [],
   "source": [
    "from utils import getMSE, draw_hitogram"
   ]
  },
  {
   "cell_type": "code",
   "execution_count": 6,
   "metadata": {},
   "outputs": [],
   "source": [
    "device = torch.device('cuda' if torch.cuda.is_available() else 'cpu')\n",
    "\n",
    "mouseID = 1\n",
    "\n",
    "Respdata = io.loadmat('./Main experiments/Mouse 1/RespData.mat')\n",
    "Respdata = Respdata['RespData'][0][0][0][0][0][0]\n",
    "repeatNum, frameNum, cellNum, sessionNum = Respdata.shape\n",
    "\n",
    "stride = 6\n"
   ]
  },
  {
   "cell_type": "markdown",
   "metadata": {},
   "source": [
    "#### 加载数据"
   ]
  },
  {
   "cell_type": "code",
   "execution_count": 7,
   "metadata": {},
   "outputs": [],
   "source": [
    "PDG_Data = [np.load(f'./myData/Day{i*7}_PDG/PDG_mouse{mouseID}_FCAE.npy') for i in range(sessionNum)]\n",
    "MOV_Data = np.load(f'./myData/Day0_MOV/MOV_mouse1_FCAE.npy')\n",
    "# whiteNoisy_Data = np.random.normal(0, 1, (10000, stride*cellNum))"
   ]
  },
  {
   "cell_type": "code",
   "execution_count": 9,
   "metadata": {},
   "outputs": [],
   "source": [
    "PDG_Dataset = [RespData(d) for d in PDG_Data]\n",
    "MOV_Dataset = RespData(MOV_Data)\n",
    "# whiteNoisy_Dataset = RespData(whiteNoisy_Data)\n",
    "\n",
    "PDG_Dataloader = [DataLoader(PDGset, batch_size=16) for PDGset in PDG_Dataset]\n",
    "MOV_Dataloader = DataLoader(MOV_Dataset, batch_size=16)\n",
    "# whiteNoisy_Dataloader = DataLoader(whiteNoisy_Dataset, batch_size=16)"
   ]
  },
  {
   "cell_type": "code",
   "execution_count": 8,
   "metadata": {},
   "outputs": [
    {
     "data": {
      "text/plain": [
       "FCAE(\n",
       "  (encoder): Sequential(\n",
       "    (0): Linear(in_features=2226, out_features=512, bias=True)\n",
       "    (1): ReLU()\n",
       "    (2): Linear(in_features=512, out_features=256, bias=True)\n",
       "    (3): ReLU()\n",
       "    (4): Linear(in_features=256, out_features=128, bias=True)\n",
       "    (5): ReLU()\n",
       "    (6): Linear(in_features=128, out_features=64, bias=True)\n",
       "    (7): ReLU()\n",
       "    (8): Linear(in_features=64, out_features=32, bias=True)\n",
       "    (9): ReLU()\n",
       "    (10): Linear(in_features=32, out_features=16, bias=True)\n",
       "  )\n",
       "  (decoder): Sequential(\n",
       "    (0): Linear(in_features=16, out_features=32, bias=True)\n",
       "    (1): ReLU()\n",
       "    (2): Linear(in_features=32, out_features=64, bias=True)\n",
       "    (3): ReLU()\n",
       "    (4): Linear(in_features=64, out_features=128, bias=True)\n",
       "    (5): ReLU()\n",
       "    (6): Linear(in_features=128, out_features=256, bias=True)\n",
       "    (7): ReLU()\n",
       "    (8): Linear(in_features=256, out_features=512, bias=True)\n",
       "    (9): ReLU()\n",
       "    (10): Linear(in_features=512, out_features=2226, bias=True)\n",
       "  )\n",
       ")"
      ]
     },
     "execution_count": 8,
     "metadata": {},
     "output_type": "execute_result"
    }
   ],
   "source": [
    "model = FCAE(cellNum*stride)\n",
    "model.load_state_dict(torch.load('./FCAE/last_08261732_mouse1_day0.ckpt'))\n",
    "model.to(device)"
   ]
  },
  {
   "cell_type": "code",
   "execution_count": 10,
   "metadata": {},
   "outputs": [
    {
     "name": "stderr",
     "output_type": "stream",
     "text": [
      "100%|██████████| 120/120 [00:02<00:00, 59.59it/s] \n",
      "100%|██████████| 120/120 [00:00<00:00, 290.90it/s]\n",
      "100%|██████████| 120/120 [00:00<00:00, 287.82it/s]\n",
      "100%|██████████| 120/120 [00:00<00:00, 304.24it/s]\n",
      "100%|██████████| 120/120 [00:00<00:00, 309.42it/s]\n",
      "100%|██████████| 563/563 [00:06<00:00, 86.32it/s] \n"
     ]
    }
   ],
   "source": [
    "PDG_Predictions = [predict(loader, model, device) for loader in PDG_Dataloader]\n",
    "MOV_Predictions = predict(MOV_Dataloader, model, device)\n",
    "# whiteNoisy_Predictions = predict(whiteNoisy_Data, model, device)"
   ]
  },
  {
   "cell_type": "code",
   "execution_count": 11,
   "metadata": {},
   "outputs": [],
   "source": [
    "PDG_MSE = [getMSE(d, pred.numpy()) for d, pred in zip(PDG_Data, PDG_Predictions)]\n",
    "MOV_MSE = getMSE(MOV_Data, MOV_Predictions.numpy())\n",
    "# whiteNoisy_MSE = getMSE(whiteNoisy_Data.numpy(), whiteNoisy_Predictions.numpy())"
   ]
  },
  {
   "cell_type": "code",
   "execution_count": 12,
   "metadata": {},
   "outputs": [],
   "source": [
    "PDG_df = [pd.DataFrame(mse, columns=[f'MSE Day {i*7}']) for i, mse in enumerate(PDG_MSE)]\n",
    "MOV_df = pd.DataFrame(MOV_MSE, columns=[f'MSE'])"
   ]
  },
  {
   "cell_type": "code",
   "execution_count": 13,
   "metadata": {},
   "outputs": [
    {
     "data": {
      "image/png": "[encoded data removed]",
      "text/plain": [
       "<Figure size 432x288 with 1 Axes>"
      ]
     },
     "metadata": {
      "needs_background": "light"
     },
     "output_type": "display_data"
    }
   ],
   "source": [
    "# Fixing random state for reproducibility\n",
    "np.random.seed(19680801)\n",
    "\n",
    "plt.style.use('bmh')\n",
    "fig, ax = plt.subplots()\n",
    "# print(PDG_df)\n",
    "ax.hist(PDG_df[0][PDG_df[0]['MSE Day 0'] < 1.25], histtype=\"stepfilled\", bins=50, alpha=0.8, density=True, label='Day0')\n",
    "ax.hist(PDG_df[1][PDG_df[1]['MSE Day 7'] < 1.25], histtype=\"stepfilled\", bins=50, alpha=0.8, density=True, label='Day7')\n",
    "ax.hist(PDG_df[2][PDG_df[2]['MSE Day 14'] < 1.25], histtype=\"stepfilled\", bins=50, alpha=0.8, density=True, label='Day14')\n",
    "ax.hist(PDG_df[3][PDG_df[3]['MSE Day 21'] < 1.25], histtype=\"stepfilled\", bins=25, alpha=0.8, density=True, label='Day21')\n",
    "ax.hist(PDG_df[4][PDG_df[4]['MSE Day 28'] < 1.25], histtype=\"stepfilled\", bins=25, alpha=0.8, density=True, label='Day28')\n",
    "ax.hist(MOV_df[MOV_df['MSE'] < 1.25], histtype=\"stepfilled\", bins=25, alpha=0.8, density=True, label='MOV')\n",
    "# ax.hist(whiteNoise_df[whiteNoise_df['MSE'] < 1.25], histtype=\"stepfilled\", bins=25, alpha=0.8, density=True, label='WN')\n",
    "ax.set_title(\"Different Session MSE\")\n",
    "\n",
    "ax.legend(loc='upper left')\n",
    "\n",
    "plt.show()\n",
    "# plt.savefig('./LSTMAE_DAY.jpg', dpi=400)"
   ]
  },
  {
   "cell_type": "markdown",
   "metadata": {},
   "source": [
    "#### 统计误差MSE较小的特征，或是小于AutoEncoder阈值的特征"
   ]
  },
  {
   "cell_type": "markdown",
   "metadata": {},
   "source": [
    "- 顺序遍历寻找低MSE的Cellid\n",
    "- 顺序遍历所有连续帧寻找MSE低的段落"
   ]
  },
  {
   "cell_type": "code",
   "execution_count": 13,
   "metadata": {},
   "outputs": [],
   "source": [
    "timeMSETable = [{i: 0 for i in range(14)} for j in range(sessionNum)]\n",
    "timeNUMTable = [{i: 0 for i in range(14)} for j in range(sessionNum)]\n",
    "\n",
    "cellNumTable = [{i: 0 for i in range(cellNum)} for j in range(sessionNum)]\n",
    "cellMSETable = [{i: 0 for i in range(cellNum)} for j in range(sessionNum)]"
   ]
  },
  {
   "cell_type": "code",
   "execution_count": 14,
   "metadata": {},
   "outputs": [],
   "source": [
    "for i, MSE in enumerate(PDG_MSE):\n",
    "    for j, mse in enumerate(MSE):\n",
    "        if j % 20 < 14:\n",
    "            timeMSETable[i][j%20] += mse\n",
    "            timeNUMTable[i][j%20] += 1\n",
    "    for j in range(14):\n",
    "        timeMSETable[i][j] /= timeNUMTable[i][j]"
   ]
  },
  {
   "cell_type": "code",
   "execution_count": 15,
   "metadata": {},
   "outputs": [
    {
     "name": "stdout",
     "output_type": "stream",
     "text": [
      "{0: 0.486528396278239, 1: 0.48085265150880846, 2: 0.4756913032294141, 3: 0.4672226511873598, 4: 0.46297778706277226, 5: 0.457220730100137, 6: 0.4588268690563937, 7: 0.45869007577206683, 8: 0.46272314559118466, 9: 0.47349069514304903, 10: 0.47008881815838555, 11: 0.4745266506311741, 12: 0.4759057493178847, 13: 0.4855929244822132}\n",
      "{0: 0.855122885776617, 1: 0.8604512217440027, 2: 0.8655575309877187, 3: 0.8714577722889462, 4: 0.8756000938145901, 5: 0.8792854808742555, 6: 0.8847901855880805, 7: 0.8895475383215169, 8: 0.8956155994731239, 9: 0.8993232579145518, 10: 0.90505867087208, 11: 0.910248822262857, 12: 0.9180420557980079, 13: 0.9274851196591188}\n",
      "{0: 0.7905949458708116, 1: 0.799535660006648, 2: 0.8112442366381373, 3: 0.8184257878637226, 4: 0.8252177211225468, 5: 0.8329309146129743, 6: 0.844655280829461, 7: 0.8542083062244221, 8: 0.8641443740433351, 9: 0.8739896573198399, 10: 0.878629277706087, 11: 0.8845635966814106, 12: 0.8886587498917856, 13: 0.8946863911675935}\n",
      "{0: 0.848671671744329, 1: 0.8620849916941307, 2: 0.8727013282906331, 3: 0.8840461027296492, 4: 0.8914254767744038, 5: 0.8997524169046539, 6: 0.9049764082291597, 7: 0.9073311158254289, 8: 0.9099874093683402, 9: 0.915414384105668, 10: 0.9229393220539971, 11: 0.9266220323782043, 12: 0.9276280042630668, 13: 0.9308426650380591}\n",
      "{0: 0.8557074447552332, 1: 0.8676881281891607, 2: 0.8764327934299097, 3: 0.8868116414929665, 4: 0.8971182194181083, 5: 0.9071576036235639, 6: 0.917025728949617, 7: 0.9258780890882078, 8: 0.9316783673442911, 9: 0.9394184949854175, 10: 0.9428184920356505, 11: 0.9482613753868326, 12: 0.9533251515144018, 13: 0.9599674842506568}\n"
     ]
    }
   ],
   "source": [
    "for table in timeMSETable:\n",
    "    print(table)"
   ]
  },
  {
   "cell_type": "code",
   "execution_count": 16,
   "metadata": {},
   "outputs": [
    {
     "name": "stdout",
     "output_type": "stream",
     "text": [
      "dict_keys([0, 1, 2, 3, 4, 5, 6, 7, 8, 9, 10, 11, 12, 13]) dict_values([0.486528396278239, 0.48085265150880846, 0.4756913032294141, 0.4672226511873598, 0.46297778706277226, 0.457220730100137, 0.4588268690563937, 0.45869007577206683, 0.46272314559118466, 0.47349069514304903, 0.47008881815838555, 0.4745266506311741, 0.4759057493178847, 0.4855929244822132])\n"
     ]
    }
   ],
   "source": [
    "print(timeMSETable[0].keys(), timeMSETable[0].values())"
   ]
  },
  {
   "cell_type": "code",
   "execution_count": 17,
   "metadata": {},
   "outputs": [
    {
     "data": {
      "image/png": "[encoded data removed]",
      "text/plain": [
       "<Figure size 640x480 with 1 Axes>"
      ]
     },
     "metadata": {},
     "output_type": "display_data"
    }
   ],
   "source": [
    "gap = [f'{i}-{i+6}' for i in range(14)]\n",
    "\n",
    "np.random.seed(19680801)\n",
    "plt.rcdefaults()\n",
    "fig, ax = plt.subplots()\n",
    "ax.barh(list(timeMSETable[1].keys()), list(timeMSETable[1].values()))\n",
    "ax.set_yticks(list(timeMSETable[1].keys()), gap)\n",
    "ax.invert_yaxis()\n",
    "ax.set_xlabel('MSE')\n",
    "\n",
    "plt.show()\n"
   ]
  },
  {
   "cell_type": "code",
   "execution_count": null,
   "metadata": {},
   "outputs": [],
   "source": []
  }
 ],
 "metadata": {
  "kernelspec": {
   "display_name": "Python 3.7.9 64-bit",
   "language": "python",
   "name": "python3"
  },
  "language_info": {
   "codemirror_mode": {
    "name": "ipython",
    "version": 3
   },
   "file_extension": ".py",
   "mimetype": "text/x-python",
   "name": "python",
   "nbconvert_exporter": "python",
   "pygments_lexer": "ipython3",
   "version": "3.7.9"
  },
  "orig_nbformat": 4,
  "vscode": {
   "interpreter": {
    "hash": "f1215c2695fb854c4ba7da04e87047ff6ad0cd3a897d5f699d6446d61aa011c7"
   }
  }
 },
 "nbformat": 4,
 "nbformat_minor": 2
}
