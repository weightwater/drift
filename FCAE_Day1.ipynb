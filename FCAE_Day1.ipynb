{
 "cells": [
  {
   "cell_type": "code",
   "execution_count": null,
   "metadata": {},
   "outputs": [],
   "source": [
    "import math\n",
    "import numpy as np\n",
    "\n",
    "import pandas as pd\n",
    "import scipy.io as io\n",
    "import os \n",
    "import csv\n",
    "\n",
    "from tqdm import tqdm \n",
    "\n",
    "import torch\n",
    "import torch.nn as nn\n",
    "from torch.utils.data import Dataset, DataLoader, random_split\n",
    "\n",
    "from torch.utils.tensorboard import SummaryWriter\n",
    "\n",
    "import seaborn as sns\n",
    "import matplotlib as mpl\n",
    "import matplotlib.pyplot as plt"
   ]
  },
  {
   "cell_type": "code",
   "execution_count": null,
   "metadata": {},
   "outputs": [],
   "source": [
    "def same_seed(seed):\n",
    "    torch.backends.cudnn.deterministic = True\n",
    "    torch.backends.cudnn.benchmark = False\n",
    "    np.random.seed(seed)\n",
    "    torch.manual_seed(seed)\n",
    "    if torch.cuda.is_available():\n",
    "        torch.cuda.manual_seed_all(seed)\n",
    "\n",
    "def train_valid_split(data_set, valid_ratio, seed):\n",
    "    valid_dataset_size = int(len(data_set) * valid_ratio)\n",
    "    train_dataset_size = len(data_set) - valid_dataset_size\n",
    "    train_set, valid_dataset = random_split(data_set, [train_dataset_size, valid_dataset_size], generator=torch.Generator().manual_seed(seed))\n",
    "    return np.array(train_set), np.array(valid_dataset)\n",
    "\n",
    "def predict(test_loader, model, device):\n",
    "    model.eval()\n",
    "    preds = torch.Tensor([])\n",
    "    for x in tqdm(test_loader):\n",
    "        x = x.float().to(device)\n",
    "        with torch.no_grad():\n",
    "            pred = model(x)\n",
    "            preds = torch.concat((preds, pred.detach().to('cpu')))\n",
    "    # prds = torch.cat(preds, dim=0).numpy()\n",
    "    return preds\n",
    "\n",
    "def sparseLoss(model, signal):\n",
    "    model_children = list(model.children())\n",
    "    loss = 0\n",
    "    value = signal\n",
    "    for child in model_children:\n",
    "        value = model(signal)\n",
    "        loss += torch.mean(torch.abs(value))\n",
    "    return loss"
   ]
  },
  {
   "cell_type": "code",
   "execution_count": null,
   "metadata": {},
   "outputs": [],
   "source": [
    "class RespData(Dataset):\n",
    "\n",
    "    def __init__(self, x):\n",
    "        self.x = x\n",
    "\n",
    "    def __getitem__(self, idx):\n",
    "        return self.x[idx]\n",
    "    \n",
    "    def __len__(self):\n",
    "        return len(self.x)"
   ]
  },
  {
   "cell_type": "code",
   "execution_count": null,
   "metadata": {},
   "outputs": [],
   "source": [
    "class FCAE(nn.Module):\n",
    "\n",
    "    def __init__(self, inputDim):\n",
    "        super(FCAE, self).__init__()\n",
    "        self.encoder = nn.Sequential(\n",
    "            nn.Linear(inputDim, 512),\n",
    "            nn.ReLU(),\n",
    "            nn.Linear(512, 256),\n",
    "            nn.ReLU(),\n",
    "            nn.Linear(256, 128),\n",
    "            nn.ReLU(),\n",
    "            nn.Linear(128, 64),\n",
    "            nn.ReLU(),\n",
    "            nn.Linear(64, 32),\n",
    "            nn.ReLU(),\n",
    "            nn.Linear(32, 16)\n",
    "        )\n",
    "        self.decoder = nn.Sequential(\n",
    "            nn.Linear(16, 32),\n",
    "            nn.ReLU(),\n",
    "            nn.Linear(32, 64),\n",
    "            nn.ReLU(),\n",
    "            nn.Linear(64, 128),\n",
    "            nn.ReLU(),\n",
    "            nn.Linear(128, 256),\n",
    "            nn.ReLU(),\n",
    "            nn.Linear(256, 512),\n",
    "            nn.ReLU(),\n",
    "            nn.Linear(512, inputDim)\n",
    "        )\n",
    "\n",
    "    def forward(self, x):\n",
    "        x = self.encoder(x)\n",
    "        x = self.decoder(x)\n",
    "        return x"
   ]
  },
  {
   "cell_type": "code",
   "execution_count": null,
   "metadata": {},
   "outputs": [],
   "source": [
    "def trainer(train_loader, valid_loader, model, config, device):\n",
    "    criterion = nn.MSELoss(reduction='mean')\n",
    "    optimizer = torch.optim.Adam(model.parameters(), lr=config['learning_rate'])    \n",
    "    scheduler = torch.optim.lr_scheduler.StepLR(optimizer, step_size=config['step_size'], gamma=config['gamma'])\n",
    "\n",
    "    writer = SummaryWriter()\n",
    "\n",
    "    if not os.path.isdir('./FCAE/'):\n",
    "        os.mkdir('./FCAE')\n",
    "    \n",
    "    n_epochs, best_loss, step, early_stop_count = config['n_epochs'], np.inf, 0, 0\n",
    "\n",
    "    for epoch in range(n_epochs):\n",
    "        model.train()\n",
    "        loss_record = []\n",
    "\n",
    "        train_pbar = tqdm(train_loader, position=0, leave=True)\n",
    "\n",
    "        for x in train_pbar:\n",
    "            optimizer.zero_grad()\n",
    "            x = x.float().to(device)\n",
    "            pred = model(x)\n",
    "            loss = criterion(pred, x)\n",
    "            if config['useL1']:\n",
    "                loss += sparseLoss(model, x)\n",
    "\n",
    "            loss.backward()\n",
    "            optimizer.step()\n",
    "            scheduler.step()\n",
    "\n",
    "            step += 1\n",
    "            loss_record.append(loss)\n",
    "\n",
    "            train_pbar.set_description(f'Epoch [{epoch}/{n_epochs}]')\n",
    "            train_pbar.set_postfix({'loss': loss.detach().item()})\n",
    "        \n",
    "        mean_train_loss = sum(loss_record) / len(loss_record)\n",
    "        writer.add_scalar('FCAE_Loss/train', mean_train_loss, step)\n",
    "\n",
    "        model.eval()\n",
    "        loss_record = []\n",
    "        for x in valid_loader:\n",
    "            x = x.float().to(device)\n",
    "            with torch.no_grad():\n",
    "                pred = model(x)\n",
    "                loss = criterion(pred, x)\n",
    "            loss_record.append(loss.item())\n",
    "        \n",
    "        mean_valid_loss = sum(loss_record) / len(loss_record)\n",
    "        print(f'Epoch [{epoch+1}/{n_epochs}]: Train loss: {mean_train_loss:.4f}, Valid loss: {mean_valid_loss:.4f}')\n",
    "        writer.add_scalar('FCAE_Loss/valid', mean_valid_loss, step)\n",
    "\n",
    "        if mean_valid_loss < best_loss:\n",
    "            best_loss = mean_valid_loss\n",
    "            torch.save(model.state_dict(), config['best_model'])\n",
    "            print('Saving model with loss {:.3f}...'.format(best_loss))\n",
    "            early_stop_count = 0\n",
    "        else:\n",
    "            early_stop_count += 1\n",
    "        \n",
    "        if early_stop_count >= config['early_stop']:\n",
    "            print('\\nModel is not imporving, so we halt the traing session.')\n",
    "            return \n",
    "        \n",
    "        torch.save(model.state_dict(), config['last_model'])\n",
    "    writer.flush()\n",
    "    writer.close()\n"
   ]
  },
  {
   "cell_type": "code",
   "execution_count": null,
   "metadata": {},
   "outputs": [],
   "source": [
    "device = 'cuda' if torch.cuda.is_available() else 'cpu'\n",
    "\n",
    "config = {\n",
    "    'learning_rate': 1e-4,\n",
    "    'seed': 914122,\n",
    "    'valid_ratio': 0.1,\n",
    "    'n_epochs': 10000,\n",
    "    'batch_size': 16,\n",
    "    'early_stop': 400,\n",
    "    'best_model': './FCAE/best_0810.ckpt',\n",
    "    'last_model': './FCAE/last_0810.ckpt',\n",
    "    'step_size': 1000,\n",
    "    'gamma': 0.9999,\n",
    "    'useL1': True\n",
    "}"
   ]
  },
  {
   "cell_type": "code",
   "execution_count": null,
   "metadata": {},
   "outputs": [],
   "source": [
    "def split_data(data, stride=6):\n",
    "    repeatNum, frameNum, cellNum = data.shape\n",
    "    result = np.empty([0, cellNum*stride])\n",
    "    for i in range(repeatNum):\n",
    "        for j in range(frameNum - stride):\n",
    "            result = np.concatenate((result, data[i, j:j+stride, :].reshape((1, cellNum*stride))))\n",
    "    return result"
   ]
  },
  {
   "cell_type": "code",
   "execution_count": null,
   "metadata": {},
   "outputs": [],
   "source": [
    "same_seed(config['seed'])\n",
    "\n",
    "data = np.load('./myData/PDG_data_split_FCAE.npy')\n",
    "\n",
    "sequenceNum, cellNum = data.shape\n",
    "data = data.reshape((sequenceNum, cellNum))\n",
    "\n",
    "train_data, valid_data = train_valid_split(data, config['valid_ratio'], config['seed'])\n",
    "train_dataset, valid_dataset = RespData(train_data), RespData(valid_data)\n",
    "print(f'train dataset size: {train_data.shape}')\n",
    "print(f'valid dataset size: {valid_data.shape}')\n"
   ]
  },
  {
   "cell_type": "code",
   "execution_count": null,
   "metadata": {},
   "outputs": [],
   "source": [
    "train_loader = DataLoader(train_dataset, batch_size=config['batch_size'], shuffle=True, pin_memory=True)\n",
    "valid_loader = DataLoader(valid_dataset, batch_size=config['batch_size'], pin_memory=True)"
   ]
  },
  {
   "cell_type": "code",
   "execution_count": null,
   "metadata": {},
   "outputs": [],
   "source": [
    "Day1FCAE = FCAE(cellNum).to(device)\n",
    "trainer(train_loader, valid_loader, Day1FCAE, config, device)"
   ]
  },
  {
   "cell_type": "code",
   "execution_count": null,
   "metadata": {},
   "outputs": [],
   "source": [
    "%reload_ext tensorboard\n",
    "%tensorboard --logdir=./runs/"
   ]
  },
  {
   "cell_type": "code",
   "execution_count": null,
   "metadata": {},
   "outputs": [],
   "source": [
    "# MAPE 平均绝对百分比误差\n",
    "# formula np.sum((y-yhat) ** 2 / y**2, axis=1) / cellNum\n",
    "# 更换方法 np.sum(abs(y-yhat) / y, axis=1) / cellNum\n",
    "def getMAPE(y, yHat):\n",
    "    num = y.shape[1]\n",
    "    return np.sum((y-yHat)**2 / y**2, axis=1) / num"
   ]
  },
  {
   "cell_type": "markdown",
   "metadata": {},
   "source": [
    "#### 比较使用Day1数据训练的AE在数据MOV和PDG中的表现（均使用Day1数据测试，Mouse1）"
   ]
  },
  {
   "cell_type": "code",
   "execution_count": null,
   "metadata": {},
   "outputs": [],
   "source": [
    "def getMSE(y, yHat):\n",
    "    num = y.shape[1]\n",
    "    return np.sum((y-yHat)**2, axis=1) / num"
   ]
  },
  {
   "cell_type": "code",
   "execution_count": null,
   "metadata": {},
   "outputs": [],
   "source": [
    "MOV_data = np.load('./myData/MOV_data_split_FCAE.npy')\n",
    "PDG_data = np.load('./myData/PDG_data_split_FCAE.npy')\n",
    "\n",
    "cell_frame = MOV_data.shape[1]"
   ]
  },
  {
   "cell_type": "code",
   "execution_count": null,
   "metadata": {},
   "outputs": [],
   "source": [
    "device = 'cuda' if torch.cuda.is_available() else 'cpu' \n",
    "Day1FCAE = FCAE(cell_frame)\n",
    "Day1FCAE.load_state_dict(torch.load('./FCAE/last_0811.ckpt'))\n",
    "Day1FCAE = Day1FCAE.to(device)"
   ]
  },
  {
   "cell_type": "code",
   "execution_count": null,
   "metadata": {},
   "outputs": [],
   "source": [
    "MOV_dataset, PDG_dataset = RespData(MOV_data), RespData(PDG_data)\n",
    "\n",
    "MOV_dataloader, PDG_dataloader = DataLoader(MOV_dataset, batch_size=16), DataLoader(PDG_dataset, batch_size=16)"
   ]
  },
  {
   "cell_type": "code",
   "execution_count": null,
   "metadata": {},
   "outputs": [],
   "source": [
    "MOV_pred = predict(MOV_dataloader, Day1FCAE, device)\n",
    "print(torch.Tensor(MOV_pred).shape)\n",
    "\n",
    "PDG_pred = predict(PDG_dataloader, Day1FCAE, device)\n",
    "print(PDG_pred.shape)"
   ]
  },
  {
   "cell_type": "code",
   "execution_count": null,
   "metadata": {},
   "outputs": [],
   "source": [
    "def draw_hitogram(df, column='MAPE'):\n",
    "    sns.set_theme(style=\"ticks\")\n",
    "\n",
    "    f, ax = plt.subplots(figsize=(7, 5))\n",
    "    sns.despine(f)\n",
    "\n",
    "    sns.histplot(\n",
    "        df,\n",
    "        x=column,\n",
    "        multiple=\"stack\",\n",
    "        palette=\"light:m_r\",\n",
    "        edgecolor=\".3\",\n",
    "        linewidth=.5,\n",
    "        log_scale=False,\n",
    "    )\n",
    "    ax.xaxis.set_major_formatter(mpl.ticker.ScalarFormatter())\n",
    "    # ax.set_xticks([500, 1000, 2000, 5000, 10000])"
   ]
  },
  {
   "cell_type": "code",
   "execution_count": null,
   "metadata": {},
   "outputs": [],
   "source": [
    "# MOV_MAPE = getMAPE(MOV_data, MOV_pred.numpy())\n",
    "# PDG_MAPE = getMAPE(PDG_data, PDG_pred.numpy())\n",
    "# # print(test_MAPE.shape)\n",
    "# MOV_df = pd.DataFrame(MOV_MAPE, columns=['MAPE'])\n",
    "# PDG_df = pd.DataFrame(PDG_MAPE, columns=['MAPE'])\n",
    "\n",
    "MOV_MSE = getMSE(MOV_data, MOV_pred.numpy())\n",
    "PDG_MSE = getMSE(PDG_data, PDG_pred.numpy())\n",
    "# print(test_MAPE.shape)\n",
    "MOV_df = pd.DataFrame(MOV_MSE, columns=['MSE'])\n",
    "PDG_df = pd.DataFrame(PDG_MSE, columns=['MSE'])"
   ]
  },
  {
   "cell_type": "code",
   "execution_count": null,
   "metadata": {},
   "outputs": [],
   "source": [
    "draw_hitogram(MOV_df, column='MSE')\n",
    "plt.title('Day1 FCAE MSE in MOV', fontsize='xx-large',fontweight='heavy')\n",
    "# plt.savefig('./FCAE_MOV.jpg', dpi=400)\n"
   ]
  },
  {
   "cell_type": "code",
   "execution_count": null,
   "metadata": {},
   "outputs": [],
   "source": [
    "draw_hitogram(PDG_df, column='MSE')\n",
    "plt.title('Day1 FCAE MSE in PDG', fontsize='xx-large',fontweight='heavy')\n",
    "# plt.savefig('./FCAE_PDG.jpg', dpi=400)"
   ]
  },
  {
   "cell_type": "markdown",
   "metadata": {},
   "source": [
    "#### 比较白噪声"
   ]
  },
  {
   "cell_type": "code",
   "execution_count": null,
   "metadata": {},
   "outputs": [],
   "source": [
    "whiteNoise = np.random.normal(0, 1, (10000, cell_frame))\n",
    "whiteNoise_dataset = RespData(whiteNoise)\n",
    "whiteNoise_dataloader = DataLoader(whiteNoise_dataset, batch_size=16)"
   ]
  },
  {
   "cell_type": "code",
   "execution_count": null,
   "metadata": {},
   "outputs": [],
   "source": [
    "whiteNoise_prediction = predict(whiteNoise_dataloader, Day1FCAE, device)"
   ]
  },
  {
   "cell_type": "code",
   "execution_count": null,
   "metadata": {},
   "outputs": [],
   "source": [
    "whiteNoise_MAPE = getMSE(whiteNoise, whiteNoise_prediction.numpy())\n",
    "whiteNoise_df = pd.DataFrame(whiteNoise_MAPE, columns=['MSE'])"
   ]
  },
  {
   "cell_type": "code",
   "execution_count": null,
   "metadata": {},
   "outputs": [],
   "source": [
    "draw_hitogram(whiteNoise_df, column='MSE')\n",
    "plt.title('Day1 FCAE MSE in White Noise', fontsize='xx-large',fontweight='heavy')\n",
    "# plt.savefig('./FCAE_WhiteNoise.jpg')"
   ]
  },
  {
   "cell_type": "markdown",
   "metadata": {},
   "source": [
    "#### 不同时间预测误差分布"
   ]
  },
  {
   "cell_type": "code",
   "execution_count": null,
   "metadata": {},
   "outputs": [],
   "source": [
    "def getPDGDataset(sessionData):\n",
    "    repeatNum, frameNum, cellNum = sessionData.shape\n",
    "    sessionData = sessionData.reshape((repeatNum*frameNum, cellNum))\n",
    "    sessionData = (sessionData - np.mean(sessionData, axis=1, keepdims=True)) / np.std(sessionData, axis=1, keepdims=True)\n",
    "    sessionData = sessionData.reshape((repeatNum, frameNum, cellNum))\n",
    "\n",
    "    # split the data, stride 6, step 1\n",
    "    sessionData = split_data(sessionData)\n",
    "\n",
    "    return sessionData"
   ]
  },
  {
   "cell_type": "code",
   "execution_count": null,
   "metadata": {},
   "outputs": [],
   "source": [
    "Respdata = io.loadmat('./Main experiments/Mouse 1/RespData.mat')\n",
    "Respdata = Respdata['RespData'][0][0][0][0][0][0]"
   ]
  },
  {
   "cell_type": "code",
   "execution_count": null,
   "metadata": {},
   "outputs": [],
   "source": [
    "repeatNum, frameNum, cellNum, sessionNum = Respdata.shape\n",
    "# PDG_Data = [getPDGDataset(Respdata[:, :, :, i]) for i in range(sessionNum)]\n",
    "PDG_Data = [np.load(f'./myData/Mouse1/Session{i}_PDG_split.npy') for i in range(5)]\n"
   ]
  },
  {
   "cell_type": "code",
   "execution_count": null,
   "metadata": {},
   "outputs": [],
   "source": [
    "PDG_Dataset = [RespData(d) for d in PDG_Data]\n",
    "PDG_Dataloader = [DataLoader(dataset, batch_size=16) for dataset in PDG_Dataset]"
   ]
  },
  {
   "cell_type": "code",
   "execution_count": null,
   "metadata": {},
   "outputs": [],
   "source": [
    "PDG_Predictions = [predict(dataloader, Day1FCAE, device) for dataloader in PDG_Dataloader]"
   ]
  },
  {
   "cell_type": "code",
   "execution_count": null,
   "metadata": {},
   "outputs": [],
   "source": [
    "PDG_MSE = [getMSE(d, pred.numpy()) for d, pred in zip(PDG_Data, PDG_Predictions)]"
   ]
  },
  {
   "cell_type": "code",
   "execution_count": null,
   "metadata": {},
   "outputs": [],
   "source": [
    "PDG_df = [pd.DataFrame(mse, columns=[f'MSE Day {i*7}']) for i, mse in enumerate(PDG_MSE)]"
   ]
  },
  {
   "cell_type": "code",
   "execution_count": null,
   "metadata": {},
   "outputs": [],
   "source": [
    "for i in range(5):\n",
    "    draw_hitogram(PDG_df[i][PDG_df[i][f'MSE Day {i*7}'] <= 5], f'MSE Day {i*7}')\n",
    "    # plt.savefig(f'FCAE{i}.jpg', dpi=400)"
   ]
  },
  {
   "cell_type": "code",
   "execution_count": null,
   "metadata": {},
   "outputs": [],
   "source": [
    "# Fixing random state for reproducibility\n",
    "np.random.seed(19680801)\n",
    "\n",
    "plt.style.use('bmh')\n",
    "fig, ax = plt.subplots()\n",
    "# print(PDG_df)\n",
    "ax.hist(PDG_df[0][PDG_df[0]['MSE Day 0'] < 1.25], histtype=\"stepfilled\", bins=25, alpha=0.8, density=True, label='Day0')\n",
    "ax.hist(PDG_df[1][PDG_df[1]['MSE Day 7'] < 1.25], histtype=\"stepfilled\", bins=25, alpha=0.8, density=True, label='Day7')\n",
    "ax.hist(PDG_df[2][PDG_df[2]['MSE Day 14'] < 1.25], histtype=\"stepfilled\", bins=25, alpha=0.8, density=True, label='Day14')\n",
    "ax.hist(PDG_df[3][PDG_df[3]['MSE Day 21'] < 1.25], histtype=\"stepfilled\", bins=25, alpha=0.8, density=True, label='Day21')\n",
    "ax.hist(PDG_df[4][PDG_df[4]['MSE Day 28'] < 1.25], histtype=\"stepfilled\", bins=25, alpha=0.8, density=True, label='Day28')\n",
    "ax.hist(MOV_df[MOV_df['MSE'] < 1.25], histtype=\"stepfilled\", bins=25, alpha=0.8, density=True, label='MOV')\n",
    "ax.hist(whiteNoise_df[whiteNoise_df['MSE'] < 1.25], histtype=\"stepfilled\", bins=25, alpha=0.8, density=True, label='WN')\n",
    "ax.set_title(\"Different Session MSE\")\n",
    "\n",
    "ax.legend(loc='upper left')\n",
    "\n",
    "plt.show()\n",
    "# plt.savefig('./LSTMAE_DAY.jpg', dpi=400)"
   ]
  },
  {
   "cell_type": "code",
   "execution_count": null,
   "metadata": {},
   "outputs": [],
   "source": [
    "# Fixing random state for reproducibility\n",
    "np.random.seed(19680801)\n",
    "\n",
    "plt.style.use('bmh')\n",
    "\n",
    "fig, ax = plt.subplots()\n",
    "# print(PDG_df)\n",
    "ax.hist(PDG_df[0][PDG_df[0]['MSE Day 0'] < 1.25], histtype=\"stepfilled\", bins=25, alpha=0.8, density=True, label='PDG')\n",
    "ax.hist(whiteNoise_df[whiteNoise_df['MSE'] < 1.25], histtype=\"stepfilled\", bins=25, alpha=0.8, density=True, label='WN')\n",
    "ax.hist(MOV_df[MOV_df['MSE'] < 1.25], histtype=\"stepfilled\", bins=25, alpha=0.8, density=True, label='MOV')\n",
    "ax.set_title(\"Different Signal MSE\")\n",
    "\n",
    "ax.legend(loc='upper left')\n",
    "\n",
    "plt.show()\n",
    "\n",
    "# plt.savefig('./LSTMAE_SIGNAL.jpg', dpi=400)"
   ]
  },
  {
   "cell_type": "markdown",
   "metadata": {},
   "source": [
    "#### 测试多只小鼠"
   ]
  },
  {
   "cell_type": "code",
   "execution_count": null,
   "metadata": {},
   "outputs": [],
   "source": [
    "mouseNum = 3\n",
    "MOVPath = './myData/Day0_MOV/MOV_mouse{index}_FCAE.npy'\n",
    "PDGPath = './myData/Day{day}_PDG/PDG_mouse{index}_FCAE.npy'\n",
    "modelPath = './FCAE/best_0813_mouse{index}.ckpt'\n",
    "filePath = './Main experiments/Mouse {index}/RespData.mat'\n"
   ]
  },
  {
   "cell_type": "code",
   "execution_count": null,
   "metadata": {},
   "outputs": [],
   "source": [
    "from operator import index\n",
    "\n",
    "\n",
    "for i in range(mouseNum):\n",
    "    MOV_data = np.load(MOVPath.format(index=i+1))\n",
    "    PDG_data = np.load(PDGPath.format(day=0, index=i+1))\n",
    "    cell_frame = PDG_data.shape[1]\n",
    "\n",
    "    MOV_dataset, PDG_dataset = RespData(MOV_data), RespData(PDG_data)\n",
    "    MOV_dataloader, PDG_dataloader = DataLoader(MOV_dataset, batch_size=16), DataLoader(PDG_dataset, batch_size=16)\n",
    "\n",
    "    device = 'cuda' if torch.cuda.is_available() else 'cpu' \n",
    "    Day1FCAE = FCAE(cell_frame)\n",
    "    Day1FCAE.load_state_dict(torch.load(modelPath.format(index=i+1)))\n",
    "    Day1FCAE = Day1FCAE.to(device)\n",
    "\n",
    "    MOV_pred = predict(MOV_dataloader, Day1FCAE, device)\n",
    "    print(torch.Tensor(MOV_pred).shape)\n",
    "\n",
    "    PDG_pred = predict(PDG_dataloader, Day1FCAE, device)\n",
    "    print(PDG_pred.shape)\n",
    "\n",
    "    MOV_MSE = getMSE(MOV_data, MOV_pred.numpy())\n",
    "    PDG_MSE = getMSE(PDG_data, PDG_pred.numpy())\n",
    "    # print(test_MAPE.shape)\n",
    "    MOV_df = pd.DataFrame(MOV_MSE, columns=['MSE'])\n",
    "    PDG_df = pd.DataFrame(PDG_MSE, columns=['MSE'])\n",
    "\n",
    "    whiteNoise = np.random.normal(0, 1, (10000, cell_frame))\n",
    "    whiteNoise_dataset = RespData(whiteNoise)\n",
    "    whiteNoise_dataloader = DataLoader(whiteNoise_dataset, batch_size=16)\n",
    "    whiteNoise_prediction = predict(whiteNoise_dataloader, Day1FCAE, device)\n",
    "\n",
    "    whiteNoise_MAPE = getMSE(whiteNoise, whiteNoise_prediction.numpy())\n",
    "    whiteNoise_df = pd.DataFrame(whiteNoise_MAPE, columns=['MSE'])\n",
    "\n",
    "    \n",
    "    plt.style.use('bmh')\n",
    "\n",
    "    fig, ax = plt.subplots()\n",
    "    # print(PDG_df)\n",
    "    ax.hist(PDG_df['MSE'], histtype=\"stepfilled\", bins=25, alpha=0.8, density=True, label='PDG')\n",
    "    ax.hist(whiteNoise_df['MSE'], histtype=\"stepfilled\", bins=25, alpha=0.8, density=True, label='WN')\n",
    "    ax.hist(MOV_df['MSE'], histtype=\"stepfilled\", bins=25, alpha=0.8, density=True, label='MOV')\n",
    "    ax.set_title(\"Different Signal MSE\")\n",
    "\n",
    "    ax.legend(loc='upper left')\n",
    "\n",
    "    plt.show()\n",
    "\n",
    "    if i+1 != 2:\n",
    "        data = io.loadmat(filePath.format(index=i+1))\n",
    "    else:\n",
    "         \n",
    "        data = io.loadmat('./Main experiments/Mouse 2/Window 1/RespData.mat')\n",
    "\n",
    "    sessionNum = data['RespData'][0][0][0][0][0][0].shape[3]\n",
    "    print(f'session number is {sessionNum}')\n",
    "\n",
    "    # PDG_Data = [getPDGDataset(Respdata[:, :, :, i]) for i in range(sessionNum)]\n",
    "    PDG_Data = [np.load(PDGPath.format(day=d*7, index=i+1)) for d in range(sessionNum)]\n",
    "    PDG_Dataset = [RespData(d) for d in PDG_Data]\n",
    "    PDG_Dataloader = [DataLoader(dataset, batch_size=16) for dataset in PDG_Dataset]\n",
    "    PDG_Predictions = [predict(dataloader, Day1FCAE, device) for dataloader in PDG_Dataloader]\n",
    "    PDG_MSE = [getMSE(d, pred.numpy()) for d, pred in zip(PDG_Data, PDG_Predictions)]\n",
    "    PDG_df = [pd.DataFrame(mse, columns=[f'MSE Day {i*7}']) for i, mse in enumerate(PDG_MSE)]\n",
    "\n",
    "    fig, ax = plt.subplots()\n",
    "    # print(PDG_df)\n",
    "    for j in range(sessionNum):\n",
    "        ax.hist(PDG_df[j][f'MSE Day {j*7}'], histtype=\"stepfilled\", bins=25, alpha=0.8, density=True, label=f'Day{j*7}')\n",
    "    ax.hist(MOV_df['MSE'], histtype=\"stepfilled\", bins=25, alpha=0.8, density=True, label='MOV')\n",
    "    ax.hist(whiteNoise_df['MSE'], histtype=\"stepfilled\", bins=25, alpha=0.8, density=True, label='WN')\n",
    "    ax.set_title(\"Different Session MSE\")\n",
    "\n",
    "    ax.legend(loc='upper left')\n",
    "\n",
    "    plt.show()\n"
   ]
  },
  {
   "cell_type": "code",
   "execution_count": null,
   "metadata": {},
   "outputs": [],
   "source": [
    "print(sessionNum)"
   ]
  },
  {
   "cell_type": "code",
   "execution_count": null,
   "metadata": {},
   "outputs": [],
   "source": []
  }
 ],
 "metadata": {
  "kernelspec": {
   "display_name": "Python 3.7.9 64-bit",
   "language": "python",
   "name": "python3"
  },
  "language_info": {
   "codemirror_mode": {
    "name": "ipython",
    "version": 3
   },
   "file_extension": ".py",
   "mimetype": "text/x-python",
   "name": "python",
   "nbconvert_exporter": "python",
   "pygments_lexer": "ipython3",
   "version": "3.7.9"
  },
  "orig_nbformat": 4,
  "vscode": {
   "interpreter": {
    "hash": "f1215c2695fb854c4ba7da04e87047ff6ad0cd3a897d5f699d6446d61aa011c7"
   }
  }
 },
 "nbformat": 4,
 "nbformat_minor": 2
}
