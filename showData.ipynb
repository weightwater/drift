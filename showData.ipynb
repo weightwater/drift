{
 "cells": [
  {
   "cell_type": "code",
   "execution_count": 1,
   "metadata": {},
   "outputs": [],
   "source": [
    "import scipy.io as io\n",
    "Respdata=io.loadmat('./Main experiments/Mouse 1/RespData.mat')\n",
    "# print(Respdata)"
   ]
  },
  {
   "cell_type": "markdown",
   "metadata": {},
   "source": [
    "#### RespData"
   ]
  },
  {
   "cell_type": "code",
   "execution_count": 2,
   "metadata": {},
   "outputs": [
    {
     "name": "stdout",
     "output_type": "stream",
     "text": [
      "(8, 720, 371, 5)\n",
      "(8, 720)\n"
     ]
    }
   ],
   "source": [
    "# show RespData\n",
    "data = Respdata['RespData'][0][0][0][0][0][0]\n",
    "print(data.shape)\n",
    "print(data[:, :, 0, 0].shape)"
   ]
  },
  {
   "cell_type": "code",
   "execution_count": null,
   "metadata": {},
   "outputs": [],
   "source": [
    "import random\n",
    "import numpy as np\n",
    "import torch\n",
    "from torch import nn\n",
    "from torch.utils.data import DataLoader, RandomSampler, SequentialSampler, TensorDataset\n",
    "from torchvision.transforms import transforms\n",
    "import torch.nn.functional as F \n",
    "from torch.autograd import Variable\n",
    "import torchvision.models as models\n",
    "from torch.optim import Adam, AdamW\n",
    "import pandas as pd"
   ]
  },
  {
   "cell_type": "code",
   "execution_count": null,
   "metadata": {},
   "outputs": [],
   "source": [
    "import matplotlib.pyplot as plt\n",
    "import matplotlib.gridspec as gridspec\n",
    "\n",
    "fig = plt.figure(tight_layout=True, figsize=(24, 24))\n",
    "gs = gridspec.GridSpec(8, 2)\n",
    "\n",
    "for i in range(7):\n",
    "    ax = fig.add_subplot(gs[i, :])\n",
    "    ax.plot(np.arange(720), data[i, :, 1, 0] - data[i+1, :, 1, 0])\n",
    "    ax.set_ylabel('Response in Repeat %d' % (i+1))\n",
    "plt.show()"
   ]
  },
  {
   "cell_type": "code",
   "execution_count": null,
   "metadata": {},
   "outputs": [],
   "source": [
    "# a = np.array([[[1, 2, 4], [2, 5, 5]], [[6, 7, 3], [7, 4, 5]]])\n",
    "# print(a)\n",
    "# print(a.reshape((4, 3)))\n",
    "\n"
   ]
  },
  {
   "cell_type": "code",
   "execution_count": null,
   "metadata": {},
   "outputs": [],
   "source": [
    "repeat, frame, cellNum = Respdata['RespData'][0][0][0][0][0][0][:, :, :, 0].shape\n",
    "\n",
    "Day1_data = Respdata['RespData'][0][0][0][0][0][0][:, :, :, 0].reshape((repeat*frame, cellNum))\n",
    "Day7_data = Respdata['RespData'][0][0][0][0][0][0][:, :, :, 1].reshape((repeat*frame, cellNum))\n",
    "Day14_data = Respdata['RespData'][0][0][0][0][0][0][:, :, :, 2].reshape((repeat*frame, cellNum))\n",
    "Day21_data = Respdata['RespData'][0][0][0][0][0][0][:, :, :, 3].reshape((repeat*frame, cellNum))\n",
    "Day28_data = Respdata['RespData'][0][0][0][0][0][0][:, :, :, 4].reshape((repeat*frame, cellNum))\n",
    "\n",
    "\n",
    "Day1_data = (Day1_data - np.mean(Day1_data, axis=0, keepdims=True)) / np.std(Day1_data, axis=0, keepdims=True)\n",
    "Day7_data = (Day7_data - np.mean(Day7_data, axis=0, keepdims=True)) / np.std(Day7_data, axis=0, keepdims=True)\n",
    "Day14_data = (Day14_data - np.mean(Day14_data, axis=0, keepdims=True)) / np.std(Day14_data, axis=0, keepdims=True)\n",
    "Day21_data = (Day21_data - np.mean(Day21_data, axis=0, keepdims=True)) / np.std(Day21_data, axis=0, keepdims=True)\n",
    "Day28_data = (Day28_data - np.mean(Day28_data, axis=0, keepdims=True)) / np.std(Day28_data, axis=0, keepdims=True)\n",
    "\n",
    "\n",
    "print(len(Day1_data))\n",
    "print(torch.tensor(Day1_data).shape)\n"
   ]
  },
  {
   "cell_type": "code",
   "execution_count": null,
   "metadata": {},
   "outputs": [],
   "source": [
    "class fcn_autoencoder(nn.Module):\n",
    "    \n",
    "    def __init__(self):\n",
    "        super(fcn_autoencoder, self).__init__()\n",
    "        self.encoder = nn.Sequential(\n",
    "            nn.Linear(cellNum, 128),\n",
    "            nn.ReLU(), \n",
    "            nn.Linear(128, 64), \n",
    "            nn.ReLU(), \n",
    "            nn.Linear(64, 12), \n",
    "            nn.ReLU(), \n",
    "            nn.Linear(12, 3)\n",
    "        )\n",
    "        self.decoder = nn.Sequential(\n",
    "            nn.Linear(3, 12), \n",
    "            nn.ReLU(), \n",
    "            nn.Linear(12, 64), \n",
    "            nn.ReLU(),\n",
    "            nn.Linear(64, 128), \n",
    "            nn.ReLU(), \n",
    "            nn.Linear(128, cellNum),\n",
    "            nn.Tanh()\n",
    "        )\n",
    "    \n",
    "    def forward(self, x):\n",
    "        x = self.encoder(x)\n",
    "        x = self.decoder(x)\n",
    "        return x\n"
   ]
  },
  {
   "cell_type": "code",
   "execution_count": null,
   "metadata": {},
   "outputs": [],
   "source": [
    "class Day1Dataset(TensorDataset):\n",
    "\n",
    "    def __init__(self, tensors):\n",
    "        self.tensors = tensors\n",
    "    \n",
    "    def __getitem__(self, index):\n",
    "        return self.tensors[index, :]\n",
    "\n",
    "    def __len__(self):\n",
    "        return len(self.tensors)"
   ]
  },
  {
   "cell_type": "code",
   "execution_count": null,
   "metadata": {},
   "outputs": [],
   "source": [
    "# hyperparameters\n",
    "num_epochs = 50000\n",
    "batch_size = 64\n",
    "learning_rate = 1e-3\n",
    "\n",
    "# dataloader\n",
    "x = torch.from_numpy(Day1_data)\n",
    "day1TrainData = Day1Dataset(x)\n",
    "\n",
    "train_sampler = RandomSampler(day1TrainData)\n",
    "train_loader = DataLoader(day1TrainData, sampler=train_sampler, batch_size=batch_size)\n",
    "\n",
    "# build model\n",
    "Day1AutoEncoder = fcn_autoencoder().cuda()\n",
    "\n",
    "# loss and optimizer\n",
    "criterion = nn.MSELoss()\n",
    "optimizer = torch.optim.Adam(Day1AutoEncoder.parameters(), lr=learning_rate)\n"
   ]
  },
  {
   "cell_type": "code",
   "execution_count": null,
   "metadata": {},
   "outputs": [],
   "source": [
    "best_loss = np.inf\n",
    "Loss = []\n",
    "\n",
    "for epoch in range(num_epochs):\n",
    "    total_loss = []\n",
    "    for data in train_loader:\n",
    "\n",
    "        responses = data.float().cuda()\n",
    "        responses = responses.view(-1, cellNum)\n",
    "\n",
    "        output = Day1AutoEncoder(responses)\n",
    "        loss = criterion(output, responses)\n",
    "        total_loss.append(loss.item())\n",
    "\n",
    "        optimizer.zero_grad()\n",
    "        loss.backward()\n",
    "        optimizer.step()\n",
    "    mean_loss = np.mean(total_loss)\n",
    "    if mean_loss < best_loss:\n",
    "        best_loss = mean_loss\n",
    "        torch.save(Day1AutoEncoder, 'best_model_Day1.pt')\n",
    "    print('epoch %d, loss %f' % (epoch, mean_loss))\n",
    "    Loss.append(mean_loss)\n",
    "torch.save(Day1AutoEncoder, 'last_model_Day1.pt')"
   ]
  },
  {
   "cell_type": "code",
   "execution_count": null,
   "metadata": {},
   "outputs": [],
   "source": [
    "plt.figure()\n",
    "plt.plot(np.arange(num_epochs), np.array(Loss))\n",
    "plt.show()\n"
   ]
  },
  {
   "cell_type": "markdown",
   "metadata": {},
   "source": [
    "#### validation"
   ]
  },
  {
   "cell_type": "code",
   "execution_count": null,
   "metadata": {},
   "outputs": [],
   "source": [
    "# MAPE 平均绝对百分比误差\n",
    "# formula np.sum((y-yhat) ** 2 / y**2, axis=1) / cellNum\n",
    "# 更换方法 np.sum((y-yhat) ** 2 / y**2, axis=1) / cellNum\n",
    "def getMAPE(y, yHat):\n",
    "    num = y.shape[1]\n",
    "    return np.sum(np.abs(y-yHat) / np.abs(y), axis=1) / num"
   ]
  },
  {
   "cell_type": "code",
   "execution_count": null,
   "metadata": {},
   "outputs": [],
   "source": [
    "# caculate MAPE and show frequency historgram\n",
    "def signalScore(AE, dataSet):\n",
    "    prediction = AE(dataSet)\n",
    "    MAPE = getMAPE(dataSet.cpu().detach().numpy(), prediction.cpu().detach().numpy())\n",
    "    df = pd.DataFrame(MAPE, columns=['MAPE'])\n",
    "    print(df)\n",
    "    df.MAPE.plot(kind='hist', label='MAPE', bins=20, range=(0, 10))\n",
    "    plt.ylabel('Frequence')\n",
    "    plt.xlabel('MAPE')\n",
    "    plt.title('MAPE historgram')\n",
    "    plt.legend()\n",
    "    plt.show()\n"
   ]
  },
  {
   "cell_type": "code",
   "execution_count": null,
   "metadata": {},
   "outputs": [],
   "source": [
    "model = torch.load('./best_model_Day1.pt')\n",
    "signalScore(model, torch.from_numpy(Day1_data).float().cuda())"
   ]
  },
  {
   "cell_type": "code",
   "execution_count": null,
   "metadata": {},
   "outputs": [],
   "source": [
    "def plotSignal(y, yHat):\n",
    "    rowNum, num = y.shape\n",
    "    print(rowNum)\n",
    "    fig = plt.figure(tight_layout=True, figsize=(24, 24))\n",
    "    gs = gridspec.GridSpec(rowNum, 2)\n",
    "\n",
    "    for i in range(rowNum):\n",
    "        ax = fig.add_subplot(gs[i, 0])\n",
    "        ax.plot(np.arange(num), yHat[i, :], color='r')\n",
    "        ax.plot(np.arange(num), y[i, :], color='b')\n",
    "        ax = fig.add_subplot(gs[i, 1])\n",
    "        ax.scatter(yHat[i, :], y[i, :])\n",
    "    plt.show()\n",
    "\n"
   ]
  },
  {
   "cell_type": "code",
   "execution_count": null,
   "metadata": {},
   "outputs": [],
   "source": [
    "plotSignal(Day1_data[:5, :], model.cpu()(torch.from_numpy(Day1_data[:5, :]).float()).detach().numpy())"
   ]
  },
  {
   "cell_type": "code",
   "execution_count": null,
   "metadata": {},
   "outputs": [],
   "source": [
    "signalScore(model, torch.from_numpy(Day1_data).float())"
   ]
  },
  {
   "cell_type": "code",
   "execution_count": null,
   "metadata": {},
   "outputs": [],
   "source": [
    "plotSignal(Day7_data[:5, :], model.cpu()(torch.from_numpy(Day7_data[:5, :]).float()).detach().numpy())"
   ]
  },
  {
   "cell_type": "code",
   "execution_count": null,
   "metadata": {},
   "outputs": [],
   "source": [
    "# print(Day7_data)\n",
    "signalScore(model, torch.from_numpy(Day7_data).float())"
   ]
  },
  {
   "cell_type": "code",
   "execution_count": null,
   "metadata": {},
   "outputs": [],
   "source": [
    "plotSignal(Day14_data[:5, :], model.cpu()(torch.from_numpy(Day14_data[:5, :]).float()).detach().numpy())"
   ]
  },
  {
   "cell_type": "code",
   "execution_count": null,
   "metadata": {},
   "outputs": [],
   "source": [
    "# print(Day14_data)\n",
    "signalScore(model, torch.from_numpy(Day14_data).float())"
   ]
  },
  {
   "cell_type": "code",
   "execution_count": null,
   "metadata": {},
   "outputs": [],
   "source": [
    "plotSignal(Day21_data[:5, :], model.cpu()(torch.from_numpy(Day21_data[:5, :]).float()).detach().numpy())"
   ]
  },
  {
   "cell_type": "code",
   "execution_count": null,
   "metadata": {},
   "outputs": [],
   "source": [
    "signalScore(model, torch.from_numpy(Day21_data).float())"
   ]
  },
  {
   "cell_type": "code",
   "execution_count": null,
   "metadata": {},
   "outputs": [],
   "source": [
    "plotSignal(Day28_data[:5, :], model.cpu()(torch.from_numpy(Day21_data[:5, :]).float()).detach().numpy())"
   ]
  },
  {
   "cell_type": "code",
   "execution_count": null,
   "metadata": {},
   "outputs": [],
   "source": [
    "signalScore(model, torch.from_numpy(Day21_data).float())"
   ]
  },
  {
   "cell_type": "markdown",
   "metadata": {},
   "source": [
    "#### StabilityData"
   ]
  },
  {
   "cell_type": "code",
   "execution_count": null,
   "metadata": {},
   "outputs": [],
   "source": [
    "Stadata = io.loadmat('./Main experiments/Mouse 1/PDG_ChronicImaging_maps.mat')\n",
    "print(Stadata)"
   ]
  },
  {
   "cell_type": "code",
   "execution_count": null,
   "metadata": {},
   "outputs": [],
   "source": [
    "data = Stadata['PDG_ChronicImaging_maps'][0][0][0]\n",
    "print(data.shape)"
   ]
  },
  {
   "cell_type": "code",
   "execution_count": null,
   "metadata": {},
   "outputs": [],
   "source": []
  }
 ],
 "metadata": {
  "kernelspec": {
   "display_name": "Python 3.7.9 64-bit",
   "language": "python",
   "name": "python3"
  },
  "language_info": {
   "codemirror_mode": {
    "name": "ipython",
    "version": 3
   },
   "file_extension": ".py",
   "mimetype": "text/x-python",
   "name": "python",
   "nbconvert_exporter": "python",
   "pygments_lexer": "ipython3",
   "version": "3.7.9"
  },
  "orig_nbformat": 4,
  "vscode": {
   "interpreter": {
    "hash": "f1215c2695fb854c4ba7da04e87047ff6ad0cd3a897d5f699d6446d61aa011c7"
   }
  }
 },
 "nbformat": 4,
 "nbformat_minor": 2
}
