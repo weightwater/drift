{
 "cells": [
  {
   "cell_type": "code",
   "execution_count": 1,
   "metadata": {},
   "outputs": [
    {
     "name": "stderr",
     "output_type": "stream",
     "text": [
      "c:\\Users\\weightwater\\AppData\\Local\\Programs\\Python\\Python37\\lib\\site-packages\\tqdm\\auto.py:22: TqdmWarning: IProgress not found. Please update jupyter and ipywidgets. See https://ipywidgets.readthedocs.io/en/stable/user_install.html\n",
      "  from .autonotebook import tqdm as notebook_tqdm\n"
     ]
    }
   ],
   "source": [
    "import math\n",
    "import numpy as np\n",
    "\n",
    "import pandas as pd \n",
    "import scipy.io as io\n",
    "import os \n",
    "\n",
    "from tqdm import tqdm\n",
    "\n",
    "import torch \n",
    "import torch.nn as nn\n",
    "from torch.utils.data import DataLoader, Dataset, random_split\n",
    "\n",
    "from torch.utils.tensorboard import SummaryWriter\n",
    "\n",
    "import seaborn as sns\n",
    "import matplotlib.pyplot as plt\n",
    "import matplotlib as mpl"
   ]
  },
  {
   "cell_type": "code",
   "execution_count": 2,
   "metadata": {},
   "outputs": [],
   "source": [
    "def same_seed(seed):\n",
    "    torch.backends.cudnn.deterministic = True\n",
    "    torch.backends.cudnn.deterministic = False\n",
    "    np.random.seed(seed)\n",
    "    torch.manual_seed(seed)\n",
    "    if torch.cuda.is_available():\n",
    "        torch.cuda.manual_seed_all(seed)\n",
    "    \n",
    "def train_valid_split(data_set, valid_ratio, seed):\n",
    "    valid_dataset_size = int(len(data_set) * valid_ratio)\n",
    "    train_dataset_size = len(data_set) - valid_dataset_size\n",
    "    train_dataset, valid_dataset = random_split(data_set, [train_dataset_size, valid_dataset_size], generator=torch.Generator().manual_seed(seed))\n",
    "    return np.array(train_dataset), np.array(valid_dataset)\n",
    "\n",
    "def predict(test_loader, model, device):\n",
    "    model.eval()\n",
    "    preds = torch.Tensor([])\n",
    "    for x in tqdm(test_loader):\n",
    "        x = x.float().to(device)\n",
    "        with torch.no_grad():\n",
    "            pred = model(x)\n",
    "            preds = torch.concat((preds, pred.detach().to('cpu')))\n",
    "    return preds"
   ]
  },
  {
   "cell_type": "code",
   "execution_count": 3,
   "metadata": {},
   "outputs": [],
   "source": [
    "class RespData(Dataset):\n",
    "\n",
    "    def __init__(self, x):\n",
    "        self.x = x\n",
    "    \n",
    "    def __getitem__(self, idx):\n",
    "        return self.x[idx]\n",
    "    \n",
    "    def __len__(self):\n",
    "        return len(self.x)\n",
    "    "
   ]
  },
  {
   "cell_type": "code",
   "execution_count": 4,
   "metadata": {},
   "outputs": [],
   "source": [
    "class LSTMAE(nn.Module):\n",
    "\n",
    "    def __init__(self, inputDim, hidden_layer=32):\n",
    "        super(LSTMAE, self).__init__()\n",
    "        # self.batch_size = batch_size\n",
    "        self.hidden_layer = 32\n",
    "\n",
    "        self.encoder = nn.LSTM(inputDim, self.hidden_layer, batch_first=True)\n",
    "        self.decoder = nn.LSTM(self.hidden_layer, inputDim, batch_first=True)\n",
    "\n",
    "    def forward(self, x):\n",
    "        x, (h, c) = self.encoder(x)\n",
    "        x, (h, c) = self.decoder(x)\n",
    "        return x"
   ]
  },
  {
   "cell_type": "code",
   "execution_count": 5,
   "metadata": {},
   "outputs": [],
   "source": [
    "def trainer(train_loader, valid_loader, model, config, device):\n",
    "    creterion = nn.MSELoss(reduction='mean')\n",
    "    optimizer = torch.optim.Adam(model.parameters(), lr=config['learning_rate'])\n",
    "    scheduler = torch.optim.lr_scheduler.StepLR(optimizer, step_size=config['step_size'], gamma=config['gamma'])\n",
    "\n",
    "    writer = SummaryWriter()\n",
    "\n",
    "    if not os.path.isdir('LSTMAE'):\n",
    "        os.mkdir('./LSTMAE')\n",
    "    \n",
    "    n_epochs, best_loss, step, early_stop_count = config['n_epochs'], np.inf, 0, 0\n",
    "\n",
    "\n",
    "    for epoch in range(n_epochs):    \n",
    "        model.train()\n",
    "        loss_record = []\n",
    "\n",
    "        train_qbar = tqdm(train_loader, position=0, leave=True)\n",
    "\n",
    "        for x in train_qbar:\n",
    "            optimizer.zero_grad()\n",
    "            x = x.float().to(device)\n",
    "            prediction = model(x)\n",
    "            # print(prediction.shape)\n",
    "            loss = creterion(prediction, x)\n",
    "            loss.backward()\n",
    "            optimizer.step()\n",
    "            scheduler.step()\n",
    "            step += 1\n",
    "            loss_record.append(loss)\n",
    "\n",
    "            train_qbar.set_description(f'Epoch [{epoch}/{n_epochs}]')\n",
    "            train_qbar.set_postfix({'loss': loss.detach().item()})\n",
    "        \n",
    "        mean_train_loss = sum(loss_record) / len(loss_record)\n",
    "        writer.add_scalar('LSTMAE_Loss/train', mean_train_loss, step)\n",
    "\n",
    "        loss_record = []\n",
    "        model.eval()\n",
    "        for x in valid_loader:\n",
    "            x = x.float().to(device)\n",
    "            with torch.no_grad():\n",
    "                pred = model(x)\n",
    "                loss = creterion(pred, x)\n",
    "            loss_record.append(loss)\n",
    "\n",
    "        mean_valid_loss = sum(loss_record) / len(loss_record)\n",
    "        print(f'Epoch [{epoch+1} / {n_epochs}]: Tain loss: {mean_train_loss:.4f}, Valid loss: {mean_valid_loss:.4f}')\n",
    "        writer.add_scalar('LSTMAE_Loss/valid', mean_valid_loss, step)\n",
    "\n",
    "        if mean_valid_loss < best_loss:\n",
    "            best_loss = mean_valid_loss\n",
    "            torch.save(model.state_dict(), config['best_model'])\n",
    "            print(f'Saveing model with loss {best_loss:.3f} ...')\n",
    "            early_stop_count = 0\n",
    "        else:\n",
    "            early_stop_count += 1\n",
    "        \n",
    "        if early_stop_count >= config['early_stop']:\n",
    "            print('\\nModel is not imporving, so we halt the training session')\n",
    "            return\n",
    "        \n",
    "        torch.save(model.state_dict(), config['last_model'])\n",
    "    writer.flush()\n",
    "    writer.close()\n",
    "            "
   ]
  },
  {
   "cell_type": "code",
   "execution_count": 6,
   "metadata": {},
   "outputs": [],
   "source": [
    "device = 'cuda' if torch.cuda.is_available() else 'cpu'\n",
    "\n",
    "config = {\n",
    "    'learning_rate': 1e-3,\n",
    "    'seed': 122914,\n",
    "    'valid_ratio': 0.1,\n",
    "    'early_stop': 400,\n",
    "    'n_epochs': 10000,\n",
    "    'best_model': './LSTMAE/lstm_best_0811.ckpt',\n",
    "    'last_model': './LSTMAE/lstm_last_0811.ckpt',\n",
    "    'step_size': 1000,\n",
    "    'gamma': 0.99,\n",
    "    'cellNumPDG': 371\n",
    "}\n"
   ]
  },
  {
   "cell_type": "code",
   "execution_count": 7,
   "metadata": {},
   "outputs": [
    {
     "name": "stdout",
     "output_type": "stream",
     "text": [
      "[[1. 2. 3.]\n",
      " [1. 2. 3.]]\n"
     ]
    }
   ],
   "source": [
    "a = np.empty([0, 3])\n",
    "b = np.array([[1, 2, 3]])\n",
    "a = np.append(a, b, axis=0)\n",
    "a = np.concatenate((a, b))\n",
    "print(a)"
   ]
  },
  {
   "cell_type": "code",
   "execution_count": 8,
   "metadata": {},
   "outputs": [],
   "source": [
    "def splitResp(RespData, stride=6):\n",
    "    repeatNum, frameNum, cellNum = RespData.shape\n",
    "    result = np.empty([0, stride, cellNum])\n",
    "    for i in range(repeatNum):\n",
    "        for j in range(frameNum-stride):\n",
    "            result = np.concatenate((result, RespData[i:i+1, j:j+stride, :]))\n",
    "    \n",
    "    return result"
   ]
  },
  {
   "cell_type": "markdown",
   "metadata": {},
   "source": [
    "- origin data shape like (repeat, frame, cellid)\n",
    "- target data shape like (Number of Sequence, Number of Frames, Number of Cells)"
   ]
  },
  {
   "cell_type": "code",
   "execution_count": 9,
   "metadata": {},
   "outputs": [],
   "source": [
    "same_seed(config['seed'])\n",
    "\n",
    "frame_cell = 6*371\n",
    "\n",
    "data = io.loadmat('./Main experiments/Mouse 1/RespData.mat')\n",
    "PDG_data = data['RespData'][0][0][0][0][0][0][:, :, :, 0]\n",
    "MOV_data = data['RespData'][0][0][1][0][0][0][:, :, :, 0]\n",
    "\n",
    "repeatNumMOV, frameNumMOV, cellNumMOV = MOV_data.shape\n",
    "MOV_data = MOV_data.reshape((repeatNumMOV * frameNumMOV, cellNumMOV))\n",
    "MOV_data = (MOV_data - np.mean(MOV_data, axis=1, keepdims=True)) / np.std(MOV_data, axis=1, keepdims=True)\n",
    "MOV_data = MOV_data.reshape((repeatNumMOV, frameNumMOV, cellNumMOV))\n",
    "\n",
    "repeatNumPDG, frameNumPDG, cellNumPDG = PDG_data.shape\n",
    "PDG_data = PDG_data.reshape((repeatNumPDG * frameNumPDG, cellNumPDG))\n",
    "PDG_data = (PDG_data - np.mean(PDG_data, axis=1, keepdims=True)) / np.std(PDG_data, axis=1, keepdims=True)\n",
    "PDG_data = PDG_data.reshape((repeatNumPDG, frameNumPDG, cellNumPDG))\n",
    "\n",
    "# 处理数据格式符合LSTM，6frame，步长为1\n",
    "# PDG_data = splitResp(PDG_data)\n",
    "# MOV_data = splitResp(MOV_data)\n",
    "\n"
   ]
  },
  {
   "cell_type": "code",
   "execution_count": 8,
   "metadata": {},
   "outputs": [],
   "source": [
    "PDG_data = np.load('./myData/PDG_data_split_LSTMAE.npy')\n",
    "MOV_data = np.load('./myData/MOV_data_split_LSTMAE.npy')"
   ]
  },
  {
   "cell_type": "code",
   "execution_count": 9,
   "metadata": {},
   "outputs": [],
   "source": [
    "train_data, valid_data = train_valid_split(PDG_data, config['valid_ratio'], config['seed'])\n",
    "test_data = MOV_data\n",
    "\n",
    "train_dataset, valid_dataset, test_dataset = RespData(train_data), RespData(valid_data), RespData(test_data)\n",
    "\n",
    "train_loader, valid_loader = DataLoader(train_dataset, batch_size=16), DataLoader(valid_dataset, batch_size=16)\n",
    "test_loader = DataLoader(test_dataset)"
   ]
  },
  {
   "cell_type": "code",
   "execution_count": 93,
   "metadata": {},
   "outputs": [
    {
     "name": "stderr",
     "output_type": "stream",
     "text": [
      "Epoch [0/10000]: 100%|██████████| 322/322 [00:01<00:00, 174.64it/s, loss=0.832]\n"
     ]
    },
    {
     "name": "stdout",
     "output_type": "stream",
     "text": [
      "Epoch [1 / 10000]: Tain loss: 0.8492, Valid loss: 0.7869\n",
      "Saveing model with loss 0.787 ...\n"
     ]
    },
    {
     "name": "stderr",
     "output_type": "stream",
     "text": [
      "Epoch [1/10000]: 100%|██████████| 322/322 [00:01<00:00, 198.48it/s, loss=0.789]\n"
     ]
    },
    {
     "name": "stdout",
     "output_type": "stream",
     "text": [
      "Epoch [2 / 10000]: Tain loss: 0.7669, Valid loss: 0.7483\n",
      "Saveing model with loss 0.748 ...\n"
     ]
    },
    {
     "name": "stderr",
     "output_type": "stream",
     "text": [
      "Epoch [2/10000]: 100%|██████████| 322/322 [00:01<00:00, 201.37it/s, loss=0.759]\n"
     ]
    },
    {
     "name": "stdout",
     "output_type": "stream",
     "text": [
      "Epoch [3 / 10000]: Tain loss: 0.7363, Valid loss: 0.7267\n",
      "Saveing model with loss 0.727 ...\n"
     ]
    },
    {
     "name": "stderr",
     "output_type": "stream",
     "text": [
      "Epoch [3/10000]: 100%|██████████| 322/322 [00:01<00:00, 222.10it/s, loss=0.738]\n"
     ]
    },
    {
     "name": "stdout",
     "output_type": "stream",
     "text": [
      "Epoch [4 / 10000]: Tain loss: 0.7179, Valid loss: 0.7134\n",
      "Saveing model with loss 0.713 ...\n"
     ]
    },
    {
     "name": "stderr",
     "output_type": "stream",
     "text": [
      "Epoch [4/10000]: 100%|██████████| 322/322 [00:01<00:00, 227.12it/s, loss=0.723]\n"
     ]
    },
    {
     "name": "stdout",
     "output_type": "stream",
     "text": [
      "Epoch [5 / 10000]: Tain loss: 0.7055, Valid loss: 0.7039\n",
      "Saveing model with loss 0.704 ...\n"
     ]
    },
    {
     "name": "stderr",
     "output_type": "stream",
     "text": [
      "Epoch [5/10000]: 100%|██████████| 322/322 [00:01<00:00, 227.28it/s, loss=0.711]\n"
     ]
    },
    {
     "name": "stdout",
     "output_type": "stream",
     "text": [
      "Epoch [6 / 10000]: Tain loss: 0.6963, Valid loss: 0.6968\n",
      "Saveing model with loss 0.697 ...\n"
     ]
    },
    {
     "name": "stderr",
     "output_type": "stream",
     "text": [
      "Epoch [6/10000]: 100%|██████████| 322/322 [00:01<00:00, 221.34it/s, loss=0.701]\n"
     ]
    },
    {
     "name": "stdout",
     "output_type": "stream",
     "text": [
      "Epoch [7 / 10000]: Tain loss: 0.6890, Valid loss: 0.6912\n",
      "Saveing model with loss 0.691 ...\n"
     ]
    },
    {
     "name": "stderr",
     "output_type": "stream",
     "text": [
      "Epoch [7/10000]: 100%|██████████| 322/322 [00:01<00:00, 221.77it/s, loss=0.692]\n"
     ]
    },
    {
     "name": "stdout",
     "output_type": "stream",
     "text": [
      "Epoch [8 / 10000]: Tain loss: 0.6830, Valid loss: 0.6867\n",
      "Saveing model with loss 0.687 ...\n"
     ]
    },
    {
     "name": "stderr",
     "output_type": "stream",
     "text": [
      "Epoch [8/10000]: 100%|██████████| 322/322 [00:01<00:00, 214.20it/s, loss=0.684]\n"
     ]
    },
    {
     "name": "stdout",
     "output_type": "stream",
     "text": [
      "Epoch [9 / 10000]: Tain loss: 0.6779, Valid loss: 0.6828\n",
      "Saveing model with loss 0.683 ...\n"
     ]
    },
    {
     "name": "stderr",
     "output_type": "stream",
     "text": [
      "Epoch [9/10000]: 100%|██████████| 322/322 [00:01<00:00, 237.84it/s, loss=0.677]\n"
     ]
    },
    {
     "name": "stdout",
     "output_type": "stream",
     "text": [
      "Epoch [10 / 10000]: Tain loss: 0.6735, Valid loss: 0.6794\n",
      "Saveing model with loss 0.679 ...\n"
     ]
    },
    {
     "name": "stderr",
     "output_type": "stream",
     "text": [
      "Epoch [10/10000]: 100%|██████████| 322/322 [00:01<00:00, 227.49it/s, loss=0.671]\n"
     ]
    },
    {
     "name": "stdout",
     "output_type": "stream",
     "text": [
      "Epoch [11 / 10000]: Tain loss: 0.6696, Valid loss: 0.6764\n",
      "Saveing model with loss 0.676 ...\n"
     ]
    },
    {
     "name": "stderr",
     "output_type": "stream",
     "text": [
      "Epoch [11/10000]: 100%|██████████| 322/322 [00:01<00:00, 218.86it/s, loss=0.666]\n"
     ]
    },
    {
     "name": "stdout",
     "output_type": "stream",
     "text": [
      "Epoch [12 / 10000]: Tain loss: 0.6662, Valid loss: 0.6738\n",
      "Saveing model with loss 0.674 ...\n"
     ]
    },
    {
     "name": "stderr",
     "output_type": "stream",
     "text": [
      "Epoch [12/10000]: 100%|██████████| 322/322 [00:01<00:00, 219.67it/s, loss=0.661]\n"
     ]
    },
    {
     "name": "stdout",
     "output_type": "stream",
     "text": [
      "Epoch [13 / 10000]: Tain loss: 0.6631, Valid loss: 0.6715\n",
      "Saveing model with loss 0.671 ...\n"
     ]
    },
    {
     "name": "stderr",
     "output_type": "stream",
     "text": [
      "Epoch [13/10000]: 100%|██████████| 322/322 [00:01<00:00, 215.55it/s, loss=0.656]\n"
     ]
    },
    {
     "name": "stdout",
     "output_type": "stream",
     "text": [
      "Epoch [14 / 10000]: Tain loss: 0.6604, Valid loss: 0.6695\n",
      "Saveing model with loss 0.669 ...\n"
     ]
    },
    {
     "name": "stderr",
     "output_type": "stream",
     "text": [
      "Epoch [14/10000]: 100%|██████████| 322/322 [00:01<00:00, 220.68it/s, loss=0.652]\n"
     ]
    },
    {
     "name": "stdout",
     "output_type": "stream",
     "text": [
      "Epoch [15 / 10000]: Tain loss: 0.6579, Valid loss: 0.6677\n",
      "Saveing model with loss 0.668 ...\n"
     ]
    },
    {
     "name": "stderr",
     "output_type": "stream",
     "text": [
      "Epoch [15/10000]: 100%|██████████| 322/322 [00:01<00:00, 218.36it/s, loss=0.649]\n"
     ]
    },
    {
     "name": "stdout",
     "output_type": "stream",
     "text": [
      "Epoch [16 / 10000]: Tain loss: 0.6555, Valid loss: 0.6661\n",
      "Saveing model with loss 0.666 ...\n"
     ]
    },
    {
     "name": "stderr",
     "output_type": "stream",
     "text": [
      "Epoch [16/10000]: 100%|██████████| 322/322 [00:01<00:00, 220.09it/s, loss=0.645]\n"
     ]
    },
    {
     "name": "stdout",
     "output_type": "stream",
     "text": [
      "Epoch [17 / 10000]: Tain loss: 0.6534, Valid loss: 0.6647\n",
      "Saveing model with loss 0.665 ...\n"
     ]
    },
    {
     "name": "stderr",
     "output_type": "stream",
     "text": [
      "Epoch [17/10000]: 100%|██████████| 322/322 [00:01<00:00, 222.66it/s, loss=0.642]\n"
     ]
    },
    {
     "name": "stdout",
     "output_type": "stream",
     "text": [
      "Epoch [18 / 10000]: Tain loss: 0.6515, Valid loss: 0.6634\n",
      "Saveing model with loss 0.663 ...\n"
     ]
    },
    {
     "name": "stderr",
     "output_type": "stream",
     "text": [
      "Epoch [18/10000]: 100%|██████████| 322/322 [00:01<00:00, 211.17it/s, loss=0.639]\n"
     ]
    },
    {
     "name": "stdout",
     "output_type": "stream",
     "text": [
      "Epoch [19 / 10000]: Tain loss: 0.6497, Valid loss: 0.6623\n",
      "Saveing model with loss 0.662 ...\n"
     ]
    },
    {
     "name": "stderr",
     "output_type": "stream",
     "text": [
      "Epoch [19/10000]: 100%|██████████| 322/322 [00:01<00:00, 223.04it/s, loss=0.636]\n"
     ]
    },
    {
     "name": "stdout",
     "output_type": "stream",
     "text": [
      "Epoch [20 / 10000]: Tain loss: 0.6481, Valid loss: 0.6614\n",
      "Saveing model with loss 0.661 ...\n"
     ]
    },
    {
     "name": "stderr",
     "output_type": "stream",
     "text": [
      "Epoch [20/10000]: 100%|██████████| 322/322 [00:01<00:00, 224.40it/s, loss=0.634]\n"
     ]
    },
    {
     "name": "stdout",
     "output_type": "stream",
     "text": [
      "Epoch [21 / 10000]: Tain loss: 0.6466, Valid loss: 0.6605\n",
      "Saveing model with loss 0.661 ...\n"
     ]
    },
    {
     "name": "stderr",
     "output_type": "stream",
     "text": [
      "Epoch [21/10000]: 100%|██████████| 322/322 [00:01<00:00, 223.51it/s, loss=0.631]\n"
     ]
    },
    {
     "name": "stdout",
     "output_type": "stream",
     "text": [
      "Epoch [22 / 10000]: Tain loss: 0.6452, Valid loss: 0.6598\n",
      "Saveing model with loss 0.660 ...\n"
     ]
    },
    {
     "name": "stderr",
     "output_type": "stream",
     "text": [
      "Epoch [22/10000]: 100%|██████████| 322/322 [00:01<00:00, 225.80it/s, loss=0.629]\n"
     ]
    },
    {
     "name": "stdout",
     "output_type": "stream",
     "text": [
      "Epoch [23 / 10000]: Tain loss: 0.6438, Valid loss: 0.6591\n",
      "Saveing model with loss 0.659 ...\n"
     ]
    },
    {
     "name": "stderr",
     "output_type": "stream",
     "text": [
      "Epoch [23/10000]: 100%|██████████| 322/322 [00:01<00:00, 222.88it/s, loss=0.627]\n"
     ]
    },
    {
     "name": "stdout",
     "output_type": "stream",
     "text": [
      "Epoch [24 / 10000]: Tain loss: 0.6426, Valid loss: 0.6585\n",
      "Saveing model with loss 0.658 ...\n"
     ]
    },
    {
     "name": "stderr",
     "output_type": "stream",
     "text": [
      "Epoch [24/10000]: 100%|██████████| 322/322 [00:01<00:00, 227.05it/s, loss=0.625]\n"
     ]
    },
    {
     "name": "stdout",
     "output_type": "stream",
     "text": [
      "Epoch [25 / 10000]: Tain loss: 0.6415, Valid loss: 0.6580\n",
      "Saveing model with loss 0.658 ...\n"
     ]
    },
    {
     "name": "stderr",
     "output_type": "stream",
     "text": [
      "Epoch [25/10000]: 100%|██████████| 322/322 [00:01<00:00, 226.59it/s, loss=0.623]\n"
     ]
    },
    {
     "name": "stdout",
     "output_type": "stream",
     "text": [
      "Epoch [26 / 10000]: Tain loss: 0.6404, Valid loss: 0.6575\n",
      "Saveing model with loss 0.657 ...\n"
     ]
    },
    {
     "name": "stderr",
     "output_type": "stream",
     "text": [
      "Epoch [26/10000]: 100%|██████████| 322/322 [00:01<00:00, 223.22it/s, loss=0.621]\n"
     ]
    },
    {
     "name": "stdout",
     "output_type": "stream",
     "text": [
      "Epoch [27 / 10000]: Tain loss: 0.6394, Valid loss: 0.6571\n",
      "Saveing model with loss 0.657 ...\n"
     ]
    },
    {
     "name": "stderr",
     "output_type": "stream",
     "text": [
      "Epoch [27/10000]: 100%|██████████| 322/322 [00:01<00:00, 224.95it/s, loss=0.62] \n"
     ]
    },
    {
     "name": "stdout",
     "output_type": "stream",
     "text": [
      "Epoch [28 / 10000]: Tain loss: 0.6384, Valid loss: 0.6567\n",
      "Saveing model with loss 0.657 ...\n"
     ]
    },
    {
     "name": "stderr",
     "output_type": "stream",
     "text": [
      "Epoch [28/10000]: 100%|██████████| 322/322 [00:01<00:00, 225.46it/s, loss=0.618]\n"
     ]
    },
    {
     "name": "stdout",
     "output_type": "stream",
     "text": [
      "Epoch [29 / 10000]: Tain loss: 0.6375, Valid loss: 0.6564\n",
      "Saveing model with loss 0.656 ...\n"
     ]
    },
    {
     "name": "stderr",
     "output_type": "stream",
     "text": [
      "Epoch [29/10000]: 100%|██████████| 322/322 [00:01<00:00, 221.98it/s, loss=0.617]\n"
     ]
    },
    {
     "name": "stdout",
     "output_type": "stream",
     "text": [
      "Epoch [30 / 10000]: Tain loss: 0.6367, Valid loss: 0.6562\n",
      "Saveing model with loss 0.656 ...\n"
     ]
    },
    {
     "name": "stderr",
     "output_type": "stream",
     "text": [
      "Epoch [30/10000]: 100%|██████████| 322/322 [00:01<00:00, 225.11it/s, loss=0.615]\n"
     ]
    },
    {
     "name": "stdout",
     "output_type": "stream",
     "text": [
      "Epoch [31 / 10000]: Tain loss: 0.6359, Valid loss: 0.6559\n",
      "Saveing model with loss 0.656 ...\n"
     ]
    },
    {
     "name": "stderr",
     "output_type": "stream",
     "text": [
      "Epoch [31/10000]: 100%|██████████| 322/322 [00:01<00:00, 225.86it/s, loss=0.614]\n"
     ]
    },
    {
     "name": "stdout",
     "output_type": "stream",
     "text": [
      "Epoch [32 / 10000]: Tain loss: 0.6351, Valid loss: 0.6557\n",
      "Saveing model with loss 0.656 ...\n"
     ]
    },
    {
     "name": "stderr",
     "output_type": "stream",
     "text": [
      "Epoch [32/10000]: 100%|██████████| 322/322 [00:01<00:00, 222.54it/s, loss=0.613]\n"
     ]
    },
    {
     "name": "stdout",
     "output_type": "stream",
     "text": [
      "Epoch [33 / 10000]: Tain loss: 0.6344, Valid loss: 0.6555\n",
      "Saveing model with loss 0.656 ...\n"
     ]
    },
    {
     "name": "stderr",
     "output_type": "stream",
     "text": [
      "Epoch [33/10000]: 100%|██████████| 322/322 [00:01<00:00, 222.88it/s, loss=0.612]\n"
     ]
    },
    {
     "name": "stdout",
     "output_type": "stream",
     "text": [
      "Epoch [34 / 10000]: Tain loss: 0.6337, Valid loss: 0.6554\n",
      "Saveing model with loss 0.655 ...\n"
     ]
    },
    {
     "name": "stderr",
     "output_type": "stream",
     "text": [
      "Epoch [34/10000]: 100%|██████████| 322/322 [00:01<00:00, 223.38it/s, loss=0.61] \n"
     ]
    },
    {
     "name": "stdout",
     "output_type": "stream",
     "text": [
      "Epoch [35 / 10000]: Tain loss: 0.6330, Valid loss: 0.6552\n",
      "Saveing model with loss 0.655 ...\n"
     ]
    },
    {
     "name": "stderr",
     "output_type": "stream",
     "text": [
      "Epoch [35/10000]: 100%|██████████| 322/322 [00:01<00:00, 224.41it/s, loss=0.609]\n"
     ]
    },
    {
     "name": "stdout",
     "output_type": "stream",
     "text": [
      "Epoch [36 / 10000]: Tain loss: 0.6324, Valid loss: 0.6551\n",
      "Saveing model with loss 0.655 ...\n"
     ]
    },
    {
     "name": "stderr",
     "output_type": "stream",
     "text": [
      "Epoch [36/10000]: 100%|██████████| 322/322 [00:01<00:00, 225.31it/s, loss=0.608]\n"
     ]
    },
    {
     "name": "stdout",
     "output_type": "stream",
     "text": [
      "Epoch [37 / 10000]: Tain loss: 0.6318, Valid loss: 0.6550\n",
      "Saveing model with loss 0.655 ...\n"
     ]
    },
    {
     "name": "stderr",
     "output_type": "stream",
     "text": [
      "Epoch [37/10000]: 100%|██████████| 322/322 [00:01<00:00, 224.37it/s, loss=0.607]\n"
     ]
    },
    {
     "name": "stdout",
     "output_type": "stream",
     "text": [
      "Epoch [38 / 10000]: Tain loss: 0.6312, Valid loss: 0.6549\n",
      "Saveing model with loss 0.655 ...\n"
     ]
    },
    {
     "name": "stderr",
     "output_type": "stream",
     "text": [
      "Epoch [38/10000]: 100%|██████████| 322/322 [00:01<00:00, 221.92it/s, loss=0.606]\n"
     ]
    },
    {
     "name": "stdout",
     "output_type": "stream",
     "text": [
      "Epoch [39 / 10000]: Tain loss: 0.6306, Valid loss: 0.6549\n",
      "Saveing model with loss 0.655 ...\n"
     ]
    },
    {
     "name": "stderr",
     "output_type": "stream",
     "text": [
      "Epoch [39/10000]: 100%|██████████| 322/322 [00:01<00:00, 224.82it/s, loss=0.605]\n"
     ]
    },
    {
     "name": "stdout",
     "output_type": "stream",
     "text": [
      "Epoch [40 / 10000]: Tain loss: 0.6301, Valid loss: 0.6548\n",
      "Saveing model with loss 0.655 ...\n"
     ]
    },
    {
     "name": "stderr",
     "output_type": "stream",
     "text": [
      "Epoch [40/10000]: 100%|██████████| 322/322 [00:01<00:00, 223.99it/s, loss=0.604]\n"
     ]
    },
    {
     "name": "stdout",
     "output_type": "stream",
     "text": [
      "Epoch [41 / 10000]: Tain loss: 0.6296, Valid loss: 0.6548\n",
      "Saveing model with loss 0.655 ...\n"
     ]
    },
    {
     "name": "stderr",
     "output_type": "stream",
     "text": [
      "Epoch [41/10000]: 100%|██████████| 322/322 [00:01<00:00, 222.64it/s, loss=0.603]\n"
     ]
    },
    {
     "name": "stdout",
     "output_type": "stream",
     "text": [
      "Epoch [42 / 10000]: Tain loss: 0.6291, Valid loss: 0.6548\n",
      "Saveing model with loss 0.655 ...\n"
     ]
    },
    {
     "name": "stderr",
     "output_type": "stream",
     "text": [
      "Epoch [42/10000]: 100%|██████████| 322/322 [00:01<00:00, 220.42it/s, loss=0.603]\n"
     ]
    },
    {
     "name": "stdout",
     "output_type": "stream",
     "text": [
      "Epoch [43 / 10000]: Tain loss: 0.6287, Valid loss: 0.6548\n"
     ]
    },
    {
     "name": "stderr",
     "output_type": "stream",
     "text": [
      "Epoch [43/10000]: 100%|██████████| 322/322 [00:01<00:00, 219.03it/s, loss=0.602]\n"
     ]
    },
    {
     "name": "stdout",
     "output_type": "stream",
     "text": [
      "Epoch [44 / 10000]: Tain loss: 0.6283, Valid loss: 0.6547\n",
      "Saveing model with loss 0.655 ...\n"
     ]
    },
    {
     "name": "stderr",
     "output_type": "stream",
     "text": [
      "Epoch [44/10000]: 100%|██████████| 322/322 [00:01<00:00, 219.08it/s, loss=0.601]\n"
     ]
    },
    {
     "name": "stdout",
     "output_type": "stream",
     "text": [
      "Epoch [45 / 10000]: Tain loss: 0.6278, Valid loss: 0.6548\n"
     ]
    },
    {
     "name": "stderr",
     "output_type": "stream",
     "text": [
      "Epoch [45/10000]: 100%|██████████| 322/322 [00:01<00:00, 219.79it/s, loss=0.601]\n"
     ]
    },
    {
     "name": "stdout",
     "output_type": "stream",
     "text": [
      "Epoch [46 / 10000]: Tain loss: 0.6275, Valid loss: 0.6547\n",
      "Saveing model with loss 0.655 ...\n"
     ]
    },
    {
     "name": "stderr",
     "output_type": "stream",
     "text": [
      "Epoch [46/10000]: 100%|██████████| 322/322 [00:01<00:00, 223.41it/s, loss=0.6]  \n"
     ]
    },
    {
     "name": "stdout",
     "output_type": "stream",
     "text": [
      "Epoch [47 / 10000]: Tain loss: 0.6271, Valid loss: 0.6549\n"
     ]
    },
    {
     "name": "stderr",
     "output_type": "stream",
     "text": [
      "Epoch [47/10000]: 100%|██████████| 322/322 [00:01<00:00, 220.40it/s, loss=0.599]\n"
     ]
    },
    {
     "name": "stdout",
     "output_type": "stream",
     "text": [
      "Epoch [48 / 10000]: Tain loss: 0.6267, Valid loss: 0.6548\n"
     ]
    },
    {
     "name": "stderr",
     "output_type": "stream",
     "text": [
      "Epoch [48/10000]: 100%|██████████| 322/322 [00:01<00:00, 223.22it/s, loss=0.599]\n"
     ]
    },
    {
     "name": "stdout",
     "output_type": "stream",
     "text": [
      "Epoch [49 / 10000]: Tain loss: 0.6263, Valid loss: 0.6549\n"
     ]
    },
    {
     "name": "stderr",
     "output_type": "stream",
     "text": [
      "Epoch [49/10000]: 100%|██████████| 322/322 [00:01<00:00, 223.97it/s, loss=0.598]\n"
     ]
    },
    {
     "name": "stdout",
     "output_type": "stream",
     "text": [
      "Epoch [50 / 10000]: Tain loss: 0.6260, Valid loss: 0.6549\n"
     ]
    },
    {
     "name": "stderr",
     "output_type": "stream",
     "text": [
      "Epoch [50/10000]: 100%|██████████| 322/322 [00:01<00:00, 218.21it/s, loss=0.598]\n"
     ]
    },
    {
     "name": "stdout",
     "output_type": "stream",
     "text": [
      "Epoch [51 / 10000]: Tain loss: 0.6257, Valid loss: 0.6549\n"
     ]
    },
    {
     "name": "stderr",
     "output_type": "stream",
     "text": [
      "Epoch [51/10000]: 100%|██████████| 322/322 [00:01<00:00, 222.28it/s, loss=0.597]\n"
     ]
    },
    {
     "name": "stdout",
     "output_type": "stream",
     "text": [
      "Epoch [52 / 10000]: Tain loss: 0.6254, Valid loss: 0.6549\n"
     ]
    },
    {
     "name": "stderr",
     "output_type": "stream",
     "text": [
      "Epoch [52/10000]: 100%|██████████| 322/322 [00:01<00:00, 222.50it/s, loss=0.597]\n"
     ]
    },
    {
     "name": "stdout",
     "output_type": "stream",
     "text": [
      "Epoch [53 / 10000]: Tain loss: 0.6251, Valid loss: 0.6550\n"
     ]
    },
    {
     "name": "stderr",
     "output_type": "stream",
     "text": [
      "Epoch [53/10000]: 100%|██████████| 322/322 [00:01<00:00, 216.98it/s, loss=0.597]\n"
     ]
    },
    {
     "name": "stdout",
     "output_type": "stream",
     "text": [
      "Epoch [54 / 10000]: Tain loss: 0.6248, Valid loss: 0.6548\n"
     ]
    },
    {
     "name": "stderr",
     "output_type": "stream",
     "text": [
      "Epoch [54/10000]: 100%|██████████| 322/322 [00:01<00:00, 225.60it/s, loss=0.596]\n"
     ]
    },
    {
     "name": "stdout",
     "output_type": "stream",
     "text": [
      "Epoch [55 / 10000]: Tain loss: 0.6245, Valid loss: 0.6550\n"
     ]
    },
    {
     "name": "stderr",
     "output_type": "stream",
     "text": [
      "Epoch [55/10000]: 100%|██████████| 322/322 [00:01<00:00, 222.84it/s, loss=0.596]\n"
     ]
    },
    {
     "name": "stdout",
     "output_type": "stream",
     "text": [
      "Epoch [56 / 10000]: Tain loss: 0.6242, Valid loss: 0.6549\n"
     ]
    },
    {
     "name": "stderr",
     "output_type": "stream",
     "text": [
      "Epoch [56/10000]: 100%|██████████| 322/322 [00:01<00:00, 219.17it/s, loss=0.595]\n"
     ]
    },
    {
     "name": "stdout",
     "output_type": "stream",
     "text": [
      "Epoch [57 / 10000]: Tain loss: 0.6238, Valid loss: 0.6550\n"
     ]
    },
    {
     "name": "stderr",
     "output_type": "stream",
     "text": [
      "Epoch [57/10000]: 100%|██████████| 322/322 [00:01<00:00, 223.12it/s, loss=0.595]\n"
     ]
    },
    {
     "name": "stdout",
     "output_type": "stream",
     "text": [
      "Epoch [58 / 10000]: Tain loss: 0.6236, Valid loss: 0.6550\n"
     ]
    },
    {
     "name": "stderr",
     "output_type": "stream",
     "text": [
      "Epoch [58/10000]: 100%|██████████| 322/322 [00:01<00:00, 222.64it/s, loss=0.594]\n"
     ]
    },
    {
     "name": "stdout",
     "output_type": "stream",
     "text": [
      "Epoch [59 / 10000]: Tain loss: 0.6233, Valid loss: 0.6551\n"
     ]
    },
    {
     "name": "stderr",
     "output_type": "stream",
     "text": [
      "Epoch [59/10000]: 100%|██████████| 322/322 [00:01<00:00, 222.34it/s, loss=0.593]\n"
     ]
    },
    {
     "name": "stdout",
     "output_type": "stream",
     "text": [
      "Epoch [60 / 10000]: Tain loss: 0.6231, Valid loss: 0.6551\n"
     ]
    },
    {
     "name": "stderr",
     "output_type": "stream",
     "text": [
      "Epoch [60/10000]: 100%|██████████| 322/322 [00:01<00:00, 223.09it/s, loss=0.593]\n"
     ]
    },
    {
     "name": "stdout",
     "output_type": "stream",
     "text": [
      "Epoch [61 / 10000]: Tain loss: 0.6229, Valid loss: 0.6551\n"
     ]
    },
    {
     "name": "stderr",
     "output_type": "stream",
     "text": [
      "Epoch [61/10000]: 100%|██████████| 322/322 [00:01<00:00, 219.35it/s, loss=0.593]\n"
     ]
    },
    {
     "name": "stdout",
     "output_type": "stream",
     "text": [
      "Epoch [62 / 10000]: Tain loss: 0.6226, Valid loss: 0.6552\n"
     ]
    },
    {
     "name": "stderr",
     "output_type": "stream",
     "text": [
      "Epoch [62/10000]: 100%|██████████| 322/322 [00:01<00:00, 214.32it/s, loss=0.592]\n"
     ]
    },
    {
     "name": "stdout",
     "output_type": "stream",
     "text": [
      "Epoch [63 / 10000]: Tain loss: 0.6224, Valid loss: 0.6552\n"
     ]
    },
    {
     "name": "stderr",
     "output_type": "stream",
     "text": [
      "Epoch [63/10000]: 100%|██████████| 322/322 [00:01<00:00, 211.94it/s, loss=0.592]\n"
     ]
    },
    {
     "name": "stdout",
     "output_type": "stream",
     "text": [
      "Epoch [64 / 10000]: Tain loss: 0.6222, Valid loss: 0.6553\n"
     ]
    },
    {
     "name": "stderr",
     "output_type": "stream",
     "text": [
      "Epoch [64/10000]: 100%|██████████| 322/322 [00:01<00:00, 223.02it/s, loss=0.592]\n"
     ]
    },
    {
     "name": "stdout",
     "output_type": "stream",
     "text": [
      "Epoch [65 / 10000]: Tain loss: 0.6220, Valid loss: 0.6553\n"
     ]
    },
    {
     "name": "stderr",
     "output_type": "stream",
     "text": [
      "Epoch [65/10000]: 100%|██████████| 322/322 [00:01<00:00, 222.22it/s, loss=0.592]\n"
     ]
    },
    {
     "name": "stdout",
     "output_type": "stream",
     "text": [
      "Epoch [66 / 10000]: Tain loss: 0.6218, Valid loss: 0.6553\n"
     ]
    },
    {
     "name": "stderr",
     "output_type": "stream",
     "text": [
      "Epoch [66/10000]: 100%|██████████| 322/322 [00:01<00:00, 219.15it/s, loss=0.592]\n"
     ]
    },
    {
     "name": "stdout",
     "output_type": "stream",
     "text": [
      "Epoch [67 / 10000]: Tain loss: 0.6215, Valid loss: 0.6555\n"
     ]
    },
    {
     "name": "stderr",
     "output_type": "stream",
     "text": [
      "Epoch [67/10000]: 100%|██████████| 322/322 [00:01<00:00, 224.67it/s, loss=0.591]\n"
     ]
    },
    {
     "name": "stdout",
     "output_type": "stream",
     "text": [
      "Epoch [68 / 10000]: Tain loss: 0.6214, Valid loss: 0.6555\n"
     ]
    },
    {
     "name": "stderr",
     "output_type": "stream",
     "text": [
      "Epoch [68/10000]: 100%|██████████| 322/322 [00:01<00:00, 221.27it/s, loss=0.591]\n"
     ]
    },
    {
     "name": "stdout",
     "output_type": "stream",
     "text": [
      "Epoch [69 / 10000]: Tain loss: 0.6212, Valid loss: 0.6554\n"
     ]
    },
    {
     "name": "stderr",
     "output_type": "stream",
     "text": [
      "Epoch [69/10000]: 100%|██████████| 322/322 [00:01<00:00, 220.96it/s, loss=0.591]\n"
     ]
    },
    {
     "name": "stdout",
     "output_type": "stream",
     "text": [
      "Epoch [70 / 10000]: Tain loss: 0.6210, Valid loss: 0.6555\n"
     ]
    },
    {
     "name": "stderr",
     "output_type": "stream",
     "text": [
      "Epoch [70/10000]: 100%|██████████| 322/322 [00:01<00:00, 218.35it/s, loss=0.591]\n"
     ]
    },
    {
     "name": "stdout",
     "output_type": "stream",
     "text": [
      "Epoch [71 / 10000]: Tain loss: 0.6208, Valid loss: 0.6556\n"
     ]
    },
    {
     "name": "stderr",
     "output_type": "stream",
     "text": [
      "Epoch [71/10000]: 100%|██████████| 322/322 [00:01<00:00, 216.23it/s, loss=0.59] \n"
     ]
    },
    {
     "name": "stdout",
     "output_type": "stream",
     "text": [
      "Epoch [72 / 10000]: Tain loss: 0.6207, Valid loss: 0.6556\n"
     ]
    },
    {
     "name": "stderr",
     "output_type": "stream",
     "text": [
      "Epoch [72/10000]: 100%|██████████| 322/322 [00:01<00:00, 216.60it/s, loss=0.59] \n"
     ]
    },
    {
     "name": "stdout",
     "output_type": "stream",
     "text": [
      "Epoch [73 / 10000]: Tain loss: 0.6204, Valid loss: 0.6558\n"
     ]
    },
    {
     "name": "stderr",
     "output_type": "stream",
     "text": [
      "Epoch [73/10000]: 100%|██████████| 322/322 [00:01<00:00, 216.34it/s, loss=0.589]\n"
     ]
    },
    {
     "name": "stdout",
     "output_type": "stream",
     "text": [
      "Epoch [74 / 10000]: Tain loss: 0.6202, Valid loss: 0.6557\n"
     ]
    },
    {
     "name": "stderr",
     "output_type": "stream",
     "text": [
      "Epoch [74/10000]: 100%|██████████| 322/322 [00:01<00:00, 227.10it/s, loss=0.589]\n"
     ]
    },
    {
     "name": "stdout",
     "output_type": "stream",
     "text": [
      "Epoch [75 / 10000]: Tain loss: 0.6200, Valid loss: 0.6558\n"
     ]
    },
    {
     "name": "stderr",
     "output_type": "stream",
     "text": [
      "Epoch [75/10000]: 100%|██████████| 322/322 [00:01<00:00, 223.72it/s, loss=0.588]\n"
     ]
    },
    {
     "name": "stdout",
     "output_type": "stream",
     "text": [
      "Epoch [76 / 10000]: Tain loss: 0.6199, Valid loss: 0.6558\n"
     ]
    },
    {
     "name": "stderr",
     "output_type": "stream",
     "text": [
      "Epoch [76/10000]: 100%|██████████| 322/322 [00:01<00:00, 245.27it/s, loss=0.589]\n"
     ]
    },
    {
     "name": "stdout",
     "output_type": "stream",
     "text": [
      "Epoch [77 / 10000]: Tain loss: 0.6197, Valid loss: 0.6559\n"
     ]
    },
    {
     "name": "stderr",
     "output_type": "stream",
     "text": [
      "Epoch [77/10000]: 100%|██████████| 322/322 [00:01<00:00, 230.41it/s, loss=0.588]\n"
     ]
    },
    {
     "name": "stdout",
     "output_type": "stream",
     "text": [
      "Epoch [78 / 10000]: Tain loss: 0.6196, Valid loss: 0.6559\n"
     ]
    },
    {
     "name": "stderr",
     "output_type": "stream",
     "text": [
      "Epoch [78/10000]: 100%|██████████| 322/322 [00:01<00:00, 235.75it/s, loss=0.588]\n"
     ]
    },
    {
     "name": "stdout",
     "output_type": "stream",
     "text": [
      "Epoch [79 / 10000]: Tain loss: 0.6194, Valid loss: 0.6560\n"
     ]
    },
    {
     "name": "stderr",
     "output_type": "stream",
     "text": [
      "Epoch [79/10000]: 100%|██████████| 322/322 [00:01<00:00, 245.07it/s, loss=0.588]\n"
     ]
    },
    {
     "name": "stdout",
     "output_type": "stream",
     "text": [
      "Epoch [80 / 10000]: Tain loss: 0.6193, Valid loss: 0.6561\n"
     ]
    },
    {
     "name": "stderr",
     "output_type": "stream",
     "text": [
      "Epoch [80/10000]: 100%|██████████| 322/322 [00:01<00:00, 230.53it/s, loss=0.588]\n"
     ]
    },
    {
     "name": "stdout",
     "output_type": "stream",
     "text": [
      "Epoch [81 / 10000]: Tain loss: 0.6192, Valid loss: 0.6560\n"
     ]
    },
    {
     "name": "stderr",
     "output_type": "stream",
     "text": [
      "Epoch [81/10000]: 100%|██████████| 322/322 [00:01<00:00, 236.99it/s, loss=0.588]\n"
     ]
    },
    {
     "name": "stdout",
     "output_type": "stream",
     "text": [
      "Epoch [82 / 10000]: Tain loss: 0.6191, Valid loss: 0.6561\n"
     ]
    },
    {
     "name": "stderr",
     "output_type": "stream",
     "text": [
      "Epoch [82/10000]: 100%|██████████| 322/322 [00:01<00:00, 225.30it/s, loss=0.587]\n"
     ]
    },
    {
     "name": "stdout",
     "output_type": "stream",
     "text": [
      "Epoch [83 / 10000]: Tain loss: 0.6189, Valid loss: 0.6562\n"
     ]
    },
    {
     "name": "stderr",
     "output_type": "stream",
     "text": [
      "Epoch [83/10000]: 100%|██████████| 322/322 [00:01<00:00, 234.71it/s, loss=0.587]\n"
     ]
    },
    {
     "name": "stdout",
     "output_type": "stream",
     "text": [
      "Epoch [84 / 10000]: Tain loss: 0.6187, Valid loss: 0.6562\n"
     ]
    },
    {
     "name": "stderr",
     "output_type": "stream",
     "text": [
      "Epoch [84/10000]: 100%|██████████| 322/322 [00:01<00:00, 243.38it/s, loss=0.587]\n"
     ]
    },
    {
     "name": "stdout",
     "output_type": "stream",
     "text": [
      "Epoch [85 / 10000]: Tain loss: 0.6186, Valid loss: 0.6563\n"
     ]
    },
    {
     "name": "stderr",
     "output_type": "stream",
     "text": [
      "Epoch [85/10000]: 100%|██████████| 322/322 [00:01<00:00, 240.92it/s, loss=0.587]\n"
     ]
    },
    {
     "name": "stdout",
     "output_type": "stream",
     "text": [
      "Epoch [86 / 10000]: Tain loss: 0.6185, Valid loss: 0.6564\n"
     ]
    },
    {
     "name": "stderr",
     "output_type": "stream",
     "text": [
      "Epoch [86/10000]: 100%|██████████| 322/322 [00:01<00:00, 237.67it/s, loss=0.586]\n"
     ]
    },
    {
     "name": "stdout",
     "output_type": "stream",
     "text": [
      "Epoch [87 / 10000]: Tain loss: 0.6184, Valid loss: 0.6566\n"
     ]
    },
    {
     "name": "stderr",
     "output_type": "stream",
     "text": [
      "Epoch [87/10000]: 100%|██████████| 322/322 [00:01<00:00, 236.46it/s, loss=0.586]\n"
     ]
    },
    {
     "name": "stdout",
     "output_type": "stream",
     "text": [
      "Epoch [88 / 10000]: Tain loss: 0.6183, Valid loss: 0.6566\n"
     ]
    },
    {
     "name": "stderr",
     "output_type": "stream",
     "text": [
      "Epoch [88/10000]: 100%|██████████| 322/322 [00:01<00:00, 243.18it/s, loss=0.586]\n"
     ]
    },
    {
     "name": "stdout",
     "output_type": "stream",
     "text": [
      "Epoch [89 / 10000]: Tain loss: 0.6181, Valid loss: 0.6565\n"
     ]
    },
    {
     "name": "stderr",
     "output_type": "stream",
     "text": [
      "Epoch [89/10000]: 100%|██████████| 322/322 [00:01<00:00, 234.09it/s, loss=0.587]\n"
     ]
    },
    {
     "name": "stdout",
     "output_type": "stream",
     "text": [
      "Epoch [90 / 10000]: Tain loss: 0.6180, Valid loss: 0.6565\n"
     ]
    },
    {
     "name": "stderr",
     "output_type": "stream",
     "text": [
      "Epoch [90/10000]: 100%|██████████| 322/322 [00:01<00:00, 241.00it/s, loss=0.587]\n"
     ]
    },
    {
     "name": "stdout",
     "output_type": "stream",
     "text": [
      "Epoch [91 / 10000]: Tain loss: 0.6178, Valid loss: 0.6567\n"
     ]
    },
    {
     "name": "stderr",
     "output_type": "stream",
     "text": [
      "Epoch [91/10000]: 100%|██████████| 322/322 [00:01<00:00, 238.31it/s, loss=0.586]\n"
     ]
    },
    {
     "name": "stdout",
     "output_type": "stream",
     "text": [
      "Epoch [92 / 10000]: Tain loss: 0.6177, Valid loss: 0.6567\n"
     ]
    },
    {
     "name": "stderr",
     "output_type": "stream",
     "text": [
      "Epoch [92/10000]: 100%|██████████| 322/322 [00:01<00:00, 226.26it/s, loss=0.587]\n"
     ]
    },
    {
     "name": "stdout",
     "output_type": "stream",
     "text": [
      "Epoch [93 / 10000]: Tain loss: 0.6176, Valid loss: 0.6568\n"
     ]
    },
    {
     "name": "stderr",
     "output_type": "stream",
     "text": [
      "Epoch [93/10000]: 100%|██████████| 322/322 [00:01<00:00, 221.10it/s, loss=0.586]\n"
     ]
    },
    {
     "name": "stdout",
     "output_type": "stream",
     "text": [
      "Epoch [94 / 10000]: Tain loss: 0.6175, Valid loss: 0.6568\n"
     ]
    },
    {
     "name": "stderr",
     "output_type": "stream",
     "text": [
      "Epoch [94/10000]: 100%|██████████| 322/322 [00:01<00:00, 241.18it/s, loss=0.586]\n"
     ]
    },
    {
     "name": "stdout",
     "output_type": "stream",
     "text": [
      "Epoch [95 / 10000]: Tain loss: 0.6174, Valid loss: 0.6568\n"
     ]
    },
    {
     "name": "stderr",
     "output_type": "stream",
     "text": [
      "Epoch [95/10000]: 100%|██████████| 322/322 [00:01<00:00, 236.46it/s, loss=0.585]\n"
     ]
    },
    {
     "name": "stdout",
     "output_type": "stream",
     "text": [
      "Epoch [96 / 10000]: Tain loss: 0.6172, Valid loss: 0.6569\n"
     ]
    },
    {
     "name": "stderr",
     "output_type": "stream",
     "text": [
      "Epoch [96/10000]: 100%|██████████| 322/322 [00:01<00:00, 238.28it/s, loss=0.585]\n"
     ]
    },
    {
     "name": "stdout",
     "output_type": "stream",
     "text": [
      "Epoch [97 / 10000]: Tain loss: 0.6171, Valid loss: 0.6569\n"
     ]
    },
    {
     "name": "stderr",
     "output_type": "stream",
     "text": [
      "Epoch [97/10000]: 100%|██████████| 322/322 [00:01<00:00, 246.39it/s, loss=0.585]\n"
     ]
    },
    {
     "name": "stdout",
     "output_type": "stream",
     "text": [
      "Epoch [98 / 10000]: Tain loss: 0.6169, Valid loss: 0.6571\n"
     ]
    },
    {
     "name": "stderr",
     "output_type": "stream",
     "text": [
      "Epoch [98/10000]: 100%|██████████| 322/322 [00:01<00:00, 246.96it/s, loss=0.585]\n"
     ]
    },
    {
     "name": "stdout",
     "output_type": "stream",
     "text": [
      "Epoch [99 / 10000]: Tain loss: 0.6168, Valid loss: 0.6571\n"
     ]
    },
    {
     "name": "stderr",
     "output_type": "stream",
     "text": [
      "Epoch [99/10000]: 100%|██████████| 322/322 [00:01<00:00, 245.54it/s, loss=0.585]\n"
     ]
    },
    {
     "name": "stdout",
     "output_type": "stream",
     "text": [
      "Epoch [100 / 10000]: Tain loss: 0.6167, Valid loss: 0.6572\n"
     ]
    },
    {
     "name": "stderr",
     "output_type": "stream",
     "text": [
      "Epoch [100/10000]: 100%|██████████| 322/322 [00:01<00:00, 243.40it/s, loss=0.584]\n"
     ]
    },
    {
     "name": "stdout",
     "output_type": "stream",
     "text": [
      "Epoch [101 / 10000]: Tain loss: 0.6166, Valid loss: 0.6574\n"
     ]
    },
    {
     "name": "stderr",
     "output_type": "stream",
     "text": [
      "Epoch [101/10000]: 100%|██████████| 322/322 [00:01<00:00, 241.98it/s, loss=0.584]\n"
     ]
    },
    {
     "name": "stdout",
     "output_type": "stream",
     "text": [
      "Epoch [102 / 10000]: Tain loss: 0.6165, Valid loss: 0.6573\n"
     ]
    },
    {
     "name": "stderr",
     "output_type": "stream",
     "text": [
      "Epoch [102/10000]: 100%|██████████| 322/322 [00:01<00:00, 247.84it/s, loss=0.584]\n"
     ]
    },
    {
     "name": "stdout",
     "output_type": "stream",
     "text": [
      "Epoch [103 / 10000]: Tain loss: 0.6163, Valid loss: 0.6575\n"
     ]
    },
    {
     "name": "stderr",
     "output_type": "stream",
     "text": [
      "Epoch [103/10000]: 100%|██████████| 322/322 [00:01<00:00, 248.18it/s, loss=0.584]\n"
     ]
    },
    {
     "name": "stdout",
     "output_type": "stream",
     "text": [
      "Epoch [104 / 10000]: Tain loss: 0.6162, Valid loss: 0.6575\n"
     ]
    },
    {
     "name": "stderr",
     "output_type": "stream",
     "text": [
      "Epoch [104/10000]: 100%|██████████| 322/322 [00:01<00:00, 250.04it/s, loss=0.584]\n"
     ]
    },
    {
     "name": "stdout",
     "output_type": "stream",
     "text": [
      "Epoch [105 / 10000]: Tain loss: 0.6161, Valid loss: 0.6576\n"
     ]
    },
    {
     "name": "stderr",
     "output_type": "stream",
     "text": [
      "Epoch [105/10000]: 100%|██████████| 322/322 [00:01<00:00, 236.41it/s, loss=0.584]\n"
     ]
    },
    {
     "name": "stdout",
     "output_type": "stream",
     "text": [
      "Epoch [106 / 10000]: Tain loss: 0.6161, Valid loss: 0.6578\n"
     ]
    },
    {
     "name": "stderr",
     "output_type": "stream",
     "text": [
      "Epoch [106/10000]: 100%|██████████| 322/322 [00:01<00:00, 246.94it/s, loss=0.583]\n"
     ]
    },
    {
     "name": "stdout",
     "output_type": "stream",
     "text": [
      "Epoch [107 / 10000]: Tain loss: 0.6160, Valid loss: 0.6577\n"
     ]
    },
    {
     "name": "stderr",
     "output_type": "stream",
     "text": [
      "Epoch [107/10000]: 100%|██████████| 322/322 [00:01<00:00, 243.14it/s, loss=0.583]\n"
     ]
    },
    {
     "name": "stdout",
     "output_type": "stream",
     "text": [
      "Epoch [108 / 10000]: Tain loss: 0.6159, Valid loss: 0.6577\n"
     ]
    },
    {
     "name": "stderr",
     "output_type": "stream",
     "text": [
      "Epoch [108/10000]: 100%|██████████| 322/322 [00:01<00:00, 244.27it/s, loss=0.584]\n"
     ]
    },
    {
     "name": "stdout",
     "output_type": "stream",
     "text": [
      "Epoch [109 / 10000]: Tain loss: 0.6159, Valid loss: 0.6578\n"
     ]
    },
    {
     "name": "stderr",
     "output_type": "stream",
     "text": [
      "Epoch [109/10000]: 100%|██████████| 322/322 [00:01<00:00, 232.52it/s, loss=0.584]\n"
     ]
    },
    {
     "name": "stdout",
     "output_type": "stream",
     "text": [
      "Epoch [110 / 10000]: Tain loss: 0.6158, Valid loss: 0.6578\n"
     ]
    },
    {
     "name": "stderr",
     "output_type": "stream",
     "text": [
      "Epoch [110/10000]: 100%|██████████| 322/322 [00:01<00:00, 232.37it/s, loss=0.583]\n"
     ]
    },
    {
     "name": "stdout",
     "output_type": "stream",
     "text": [
      "Epoch [111 / 10000]: Tain loss: 0.6156, Valid loss: 0.6578\n"
     ]
    },
    {
     "name": "stderr",
     "output_type": "stream",
     "text": [
      "Epoch [111/10000]: 100%|██████████| 322/322 [00:01<00:00, 232.28it/s, loss=0.583]\n"
     ]
    },
    {
     "name": "stdout",
     "output_type": "stream",
     "text": [
      "Epoch [112 / 10000]: Tain loss: 0.6155, Valid loss: 0.6575\n"
     ]
    },
    {
     "name": "stderr",
     "output_type": "stream",
     "text": [
      "Epoch [112/10000]: 100%|██████████| 322/322 [00:01<00:00, 247.97it/s, loss=0.582]\n"
     ]
    },
    {
     "name": "stdout",
     "output_type": "stream",
     "text": [
      "Epoch [113 / 10000]: Tain loss: 0.6153, Valid loss: 0.6579\n"
     ]
    },
    {
     "name": "stderr",
     "output_type": "stream",
     "text": [
      "Epoch [113/10000]: 100%|██████████| 322/322 [00:01<00:00, 238.35it/s, loss=0.583]\n"
     ]
    },
    {
     "name": "stdout",
     "output_type": "stream",
     "text": [
      "Epoch [114 / 10000]: Tain loss: 0.6153, Valid loss: 0.6579\n"
     ]
    },
    {
     "name": "stderr",
     "output_type": "stream",
     "text": [
      "Epoch [114/10000]: 100%|██████████| 322/322 [00:01<00:00, 241.42it/s, loss=0.582]\n"
     ]
    },
    {
     "name": "stdout",
     "output_type": "stream",
     "text": [
      "Epoch [115 / 10000]: Tain loss: 0.6151, Valid loss: 0.6578\n"
     ]
    },
    {
     "name": "stderr",
     "output_type": "stream",
     "text": [
      "Epoch [115/10000]: 100%|██████████| 322/322 [00:01<00:00, 238.79it/s, loss=0.583]\n"
     ]
    },
    {
     "name": "stdout",
     "output_type": "stream",
     "text": [
      "Epoch [116 / 10000]: Tain loss: 0.6151, Valid loss: 0.6579\n"
     ]
    },
    {
     "name": "stderr",
     "output_type": "stream",
     "text": [
      "Epoch [116/10000]: 100%|██████████| 322/322 [00:01<00:00, 228.81it/s, loss=0.583]\n"
     ]
    },
    {
     "name": "stdout",
     "output_type": "stream",
     "text": [
      "Epoch [117 / 10000]: Tain loss: 0.6149, Valid loss: 0.6581\n"
     ]
    },
    {
     "name": "stderr",
     "output_type": "stream",
     "text": [
      "Epoch [117/10000]: 100%|██████████| 322/322 [00:01<00:00, 223.03it/s, loss=0.582]\n"
     ]
    },
    {
     "name": "stdout",
     "output_type": "stream",
     "text": [
      "Epoch [118 / 10000]: Tain loss: 0.6149, Valid loss: 0.6580\n"
     ]
    },
    {
     "name": "stderr",
     "output_type": "stream",
     "text": [
      "Epoch [118/10000]: 100%|██████████| 322/322 [00:01<00:00, 241.72it/s, loss=0.582]\n"
     ]
    },
    {
     "name": "stdout",
     "output_type": "stream",
     "text": [
      "Epoch [119 / 10000]: Tain loss: 0.6148, Valid loss: 0.6580\n"
     ]
    },
    {
     "name": "stderr",
     "output_type": "stream",
     "text": [
      "Epoch [119/10000]: 100%|██████████| 322/322 [00:01<00:00, 229.11it/s, loss=0.583]\n"
     ]
    },
    {
     "name": "stdout",
     "output_type": "stream",
     "text": [
      "Epoch [120 / 10000]: Tain loss: 0.6147, Valid loss: 0.6581\n"
     ]
    },
    {
     "name": "stderr",
     "output_type": "stream",
     "text": [
      "Epoch [120/10000]: 100%|██████████| 322/322 [00:01<00:00, 225.44it/s, loss=0.582]\n"
     ]
    },
    {
     "name": "stdout",
     "output_type": "stream",
     "text": [
      "Epoch [121 / 10000]: Tain loss: 0.6146, Valid loss: 0.6581\n"
     ]
    },
    {
     "name": "stderr",
     "output_type": "stream",
     "text": [
      "Epoch [121/10000]: 100%|██████████| 322/322 [00:01<00:00, 225.58it/s, loss=0.582]\n"
     ]
    },
    {
     "name": "stdout",
     "output_type": "stream",
     "text": [
      "Epoch [122 / 10000]: Tain loss: 0.6146, Valid loss: 0.6582\n"
     ]
    },
    {
     "name": "stderr",
     "output_type": "stream",
     "text": [
      "Epoch [122/10000]: 100%|██████████| 322/322 [00:01<00:00, 190.80it/s, loss=0.582]\n"
     ]
    },
    {
     "name": "stdout",
     "output_type": "stream",
     "text": [
      "Epoch [123 / 10000]: Tain loss: 0.6144, Valid loss: 0.6582\n"
     ]
    },
    {
     "name": "stderr",
     "output_type": "stream",
     "text": [
      "Epoch [123/10000]: 100%|██████████| 322/322 [00:01<00:00, 219.58it/s, loss=0.581]\n"
     ]
    },
    {
     "name": "stdout",
     "output_type": "stream",
     "text": [
      "Epoch [124 / 10000]: Tain loss: 0.6143, Valid loss: 0.6581\n"
     ]
    },
    {
     "name": "stderr",
     "output_type": "stream",
     "text": [
      "Epoch [124/10000]: 100%|██████████| 322/322 [00:01<00:00, 224.78it/s, loss=0.582]\n"
     ]
    },
    {
     "name": "stdout",
     "output_type": "stream",
     "text": [
      "Epoch [125 / 10000]: Tain loss: 0.6142, Valid loss: 0.6582\n"
     ]
    },
    {
     "name": "stderr",
     "output_type": "stream",
     "text": [
      "Epoch [125/10000]: 100%|██████████| 322/322 [00:01<00:00, 222.35it/s, loss=0.581]\n"
     ]
    },
    {
     "name": "stdout",
     "output_type": "stream",
     "text": [
      "Epoch [126 / 10000]: Tain loss: 0.6141, Valid loss: 0.6583\n"
     ]
    },
    {
     "name": "stderr",
     "output_type": "stream",
     "text": [
      "Epoch [126/10000]: 100%|██████████| 322/322 [00:01<00:00, 224.45it/s, loss=0.581]\n"
     ]
    },
    {
     "name": "stdout",
     "output_type": "stream",
     "text": [
      "Epoch [127 / 10000]: Tain loss: 0.6141, Valid loss: 0.6584\n"
     ]
    },
    {
     "name": "stderr",
     "output_type": "stream",
     "text": [
      "Epoch [127/10000]: 100%|██████████| 322/322 [00:01<00:00, 223.16it/s, loss=0.581]\n"
     ]
    },
    {
     "name": "stdout",
     "output_type": "stream",
     "text": [
      "Epoch [128 / 10000]: Tain loss: 0.6141, Valid loss: 0.6585\n"
     ]
    },
    {
     "name": "stderr",
     "output_type": "stream",
     "text": [
      "Epoch [128/10000]: 100%|██████████| 322/322 [00:01<00:00, 215.64it/s, loss=0.581]\n"
     ]
    },
    {
     "name": "stdout",
     "output_type": "stream",
     "text": [
      "Epoch [129 / 10000]: Tain loss: 0.6139, Valid loss: 0.6584\n"
     ]
    },
    {
     "name": "stderr",
     "output_type": "stream",
     "text": [
      "Epoch [129/10000]: 100%|██████████| 322/322 [00:01<00:00, 219.06it/s, loss=0.58] \n"
     ]
    },
    {
     "name": "stdout",
     "output_type": "stream",
     "text": [
      "Epoch [130 / 10000]: Tain loss: 0.6138, Valid loss: 0.6585\n"
     ]
    },
    {
     "name": "stderr",
     "output_type": "stream",
     "text": [
      "Epoch [130/10000]: 100%|██████████| 322/322 [00:01<00:00, 220.27it/s, loss=0.581]\n"
     ]
    },
    {
     "name": "stdout",
     "output_type": "stream",
     "text": [
      "Epoch [131 / 10000]: Tain loss: 0.6137, Valid loss: 0.6588\n"
     ]
    },
    {
     "name": "stderr",
     "output_type": "stream",
     "text": [
      "Epoch [131/10000]: 100%|██████████| 322/322 [00:01<00:00, 217.10it/s, loss=0.58] \n"
     ]
    },
    {
     "name": "stdout",
     "output_type": "stream",
     "text": [
      "Epoch [132 / 10000]: Tain loss: 0.6136, Valid loss: 0.6586\n"
     ]
    },
    {
     "name": "stderr",
     "output_type": "stream",
     "text": [
      "Epoch [132/10000]: 100%|██████████| 322/322 [00:01<00:00, 233.26it/s, loss=0.581]\n"
     ]
    },
    {
     "name": "stdout",
     "output_type": "stream",
     "text": [
      "Epoch [133 / 10000]: Tain loss: 0.6136, Valid loss: 0.6587\n"
     ]
    },
    {
     "name": "stderr",
     "output_type": "stream",
     "text": [
      "Epoch [133/10000]: 100%|██████████| 322/322 [00:01<00:00, 230.89it/s, loss=0.58] \n"
     ]
    },
    {
     "name": "stdout",
     "output_type": "stream",
     "text": [
      "Epoch [134 / 10000]: Tain loss: 0.6135, Valid loss: 0.6587\n"
     ]
    },
    {
     "name": "stderr",
     "output_type": "stream",
     "text": [
      "Epoch [134/10000]: 100%|██████████| 322/322 [00:01<00:00, 226.39it/s, loss=0.581]\n"
     ]
    },
    {
     "name": "stdout",
     "output_type": "stream",
     "text": [
      "Epoch [135 / 10000]: Tain loss: 0.6135, Valid loss: 0.6587\n"
     ]
    },
    {
     "name": "stderr",
     "output_type": "stream",
     "text": [
      "Epoch [135/10000]: 100%|██████████| 322/322 [00:01<00:00, 231.54it/s, loss=0.581]\n"
     ]
    },
    {
     "name": "stdout",
     "output_type": "stream",
     "text": [
      "Epoch [136 / 10000]: Tain loss: 0.6134, Valid loss: 0.6589\n"
     ]
    },
    {
     "name": "stderr",
     "output_type": "stream",
     "text": [
      "Epoch [136/10000]: 100%|██████████| 322/322 [00:01<00:00, 239.78it/s, loss=0.581]\n"
     ]
    },
    {
     "name": "stdout",
     "output_type": "stream",
     "text": [
      "Epoch [137 / 10000]: Tain loss: 0.6133, Valid loss: 0.6588\n"
     ]
    },
    {
     "name": "stderr",
     "output_type": "stream",
     "text": [
      "Epoch [137/10000]: 100%|██████████| 322/322 [00:01<00:00, 235.68it/s, loss=0.581]\n"
     ]
    },
    {
     "name": "stdout",
     "output_type": "stream",
     "text": [
      "Epoch [138 / 10000]: Tain loss: 0.6132, Valid loss: 0.6590\n"
     ]
    },
    {
     "name": "stderr",
     "output_type": "stream",
     "text": [
      "Epoch [138/10000]: 100%|██████████| 322/322 [00:01<00:00, 231.26it/s, loss=0.58] \n"
     ]
    },
    {
     "name": "stdout",
     "output_type": "stream",
     "text": [
      "Epoch [139 / 10000]: Tain loss: 0.6132, Valid loss: 0.6590\n"
     ]
    },
    {
     "name": "stderr",
     "output_type": "stream",
     "text": [
      "Epoch [139/10000]: 100%|██████████| 322/322 [00:01<00:00, 244.28it/s, loss=0.58] \n"
     ]
    },
    {
     "name": "stdout",
     "output_type": "stream",
     "text": [
      "Epoch [140 / 10000]: Tain loss: 0.6131, Valid loss: 0.6590\n"
     ]
    },
    {
     "name": "stderr",
     "output_type": "stream",
     "text": [
      "Epoch [140/10000]: 100%|██████████| 322/322 [00:01<00:00, 247.37it/s, loss=0.58] \n"
     ]
    },
    {
     "name": "stdout",
     "output_type": "stream",
     "text": [
      "Epoch [141 / 10000]: Tain loss: 0.6130, Valid loss: 0.6591\n"
     ]
    },
    {
     "name": "stderr",
     "output_type": "stream",
     "text": [
      "Epoch [141/10000]: 100%|██████████| 322/322 [00:01<00:00, 234.98it/s, loss=0.58] \n"
     ]
    },
    {
     "name": "stdout",
     "output_type": "stream",
     "text": [
      "Epoch [142 / 10000]: Tain loss: 0.6129, Valid loss: 0.6590\n"
     ]
    },
    {
     "name": "stderr",
     "output_type": "stream",
     "text": [
      "Epoch [142/10000]: 100%|██████████| 322/322 [00:01<00:00, 235.90it/s, loss=0.58] \n"
     ]
    },
    {
     "name": "stdout",
     "output_type": "stream",
     "text": [
      "Epoch [143 / 10000]: Tain loss: 0.6128, Valid loss: 0.6592\n"
     ]
    },
    {
     "name": "stderr",
     "output_type": "stream",
     "text": [
      "Epoch [143/10000]: 100%|██████████| 322/322 [00:01<00:00, 230.99it/s, loss=0.579]\n"
     ]
    },
    {
     "name": "stdout",
     "output_type": "stream",
     "text": [
      "Epoch [144 / 10000]: Tain loss: 0.6127, Valid loss: 0.6593\n"
     ]
    },
    {
     "name": "stderr",
     "output_type": "stream",
     "text": [
      "Epoch [144/10000]: 100%|██████████| 322/322 [00:01<00:00, 235.42it/s, loss=0.58] \n"
     ]
    },
    {
     "name": "stdout",
     "output_type": "stream",
     "text": [
      "Epoch [145 / 10000]: Tain loss: 0.6127, Valid loss: 0.6594\n"
     ]
    },
    {
     "name": "stderr",
     "output_type": "stream",
     "text": [
      "Epoch [145/10000]: 100%|██████████| 322/322 [00:01<00:00, 237.41it/s, loss=0.58] \n"
     ]
    },
    {
     "name": "stdout",
     "output_type": "stream",
     "text": [
      "Epoch [146 / 10000]: Tain loss: 0.6126, Valid loss: 0.6594\n"
     ]
    },
    {
     "name": "stderr",
     "output_type": "stream",
     "text": [
      "Epoch [146/10000]: 100%|██████████| 322/322 [00:01<00:00, 237.41it/s, loss=0.579]\n"
     ]
    },
    {
     "name": "stdout",
     "output_type": "stream",
     "text": [
      "Epoch [147 / 10000]: Tain loss: 0.6126, Valid loss: 0.6593\n"
     ]
    },
    {
     "name": "stderr",
     "output_type": "stream",
     "text": [
      "Epoch [147/10000]: 100%|██████████| 322/322 [00:01<00:00, 218.30it/s, loss=0.579]\n"
     ]
    },
    {
     "name": "stdout",
     "output_type": "stream",
     "text": [
      "Epoch [148 / 10000]: Tain loss: 0.6125, Valid loss: 0.6597\n"
     ]
    },
    {
     "name": "stderr",
     "output_type": "stream",
     "text": [
      "Epoch [148/10000]: 100%|██████████| 322/322 [00:01<00:00, 203.94it/s, loss=0.579]\n"
     ]
    },
    {
     "name": "stdout",
     "output_type": "stream",
     "text": [
      "Epoch [149 / 10000]: Tain loss: 0.6124, Valid loss: 0.6596\n"
     ]
    },
    {
     "name": "stderr",
     "output_type": "stream",
     "text": [
      "Epoch [149/10000]: 100%|██████████| 322/322 [00:01<00:00, 218.78it/s, loss=0.579]\n"
     ]
    },
    {
     "name": "stdout",
     "output_type": "stream",
     "text": [
      "Epoch [150 / 10000]: Tain loss: 0.6124, Valid loss: 0.6596\n"
     ]
    },
    {
     "name": "stderr",
     "output_type": "stream",
     "text": [
      "Epoch [150/10000]: 100%|██████████| 322/322 [00:01<00:00, 214.55it/s, loss=0.579]\n"
     ]
    },
    {
     "name": "stdout",
     "output_type": "stream",
     "text": [
      "Epoch [151 / 10000]: Tain loss: 0.6124, Valid loss: 0.6598\n"
     ]
    },
    {
     "name": "stderr",
     "output_type": "stream",
     "text": [
      "Epoch [151/10000]: 100%|██████████| 322/322 [00:01<00:00, 233.16it/s, loss=0.579]\n"
     ]
    },
    {
     "name": "stdout",
     "output_type": "stream",
     "text": [
      "Epoch [152 / 10000]: Tain loss: 0.6122, Valid loss: 0.6597\n"
     ]
    },
    {
     "name": "stderr",
     "output_type": "stream",
     "text": [
      "Epoch [152/10000]: 100%|██████████| 322/322 [00:01<00:00, 236.91it/s, loss=0.579]\n"
     ]
    },
    {
     "name": "stdout",
     "output_type": "stream",
     "text": [
      "Epoch [153 / 10000]: Tain loss: 0.6122, Valid loss: 0.6597\n"
     ]
    },
    {
     "name": "stderr",
     "output_type": "stream",
     "text": [
      "Epoch [153/10000]: 100%|██████████| 322/322 [00:01<00:00, 243.65it/s, loss=0.578]\n"
     ]
    },
    {
     "name": "stdout",
     "output_type": "stream",
     "text": [
      "Epoch [154 / 10000]: Tain loss: 0.6121, Valid loss: 0.6600\n"
     ]
    },
    {
     "name": "stderr",
     "output_type": "stream",
     "text": [
      "Epoch [154/10000]: 100%|██████████| 322/322 [00:01<00:00, 218.44it/s, loss=0.579]\n"
     ]
    },
    {
     "name": "stdout",
     "output_type": "stream",
     "text": [
      "Epoch [155 / 10000]: Tain loss: 0.6120, Valid loss: 0.6600\n"
     ]
    },
    {
     "name": "stderr",
     "output_type": "stream",
     "text": [
      "Epoch [155/10000]: 100%|██████████| 322/322 [00:01<00:00, 233.27it/s, loss=0.579]\n"
     ]
    },
    {
     "name": "stdout",
     "output_type": "stream",
     "text": [
      "Epoch [156 / 10000]: Tain loss: 0.6120, Valid loss: 0.6601\n"
     ]
    },
    {
     "name": "stderr",
     "output_type": "stream",
     "text": [
      "Epoch [156/10000]: 100%|██████████| 322/322 [00:01<00:00, 239.32it/s, loss=0.578]\n"
     ]
    },
    {
     "name": "stdout",
     "output_type": "stream",
     "text": [
      "Epoch [157 / 10000]: Tain loss: 0.6119, Valid loss: 0.6602\n"
     ]
    },
    {
     "name": "stderr",
     "output_type": "stream",
     "text": [
      "Epoch [157/10000]: 100%|██████████| 322/322 [00:01<00:00, 229.26it/s, loss=0.578]\n"
     ]
    },
    {
     "name": "stdout",
     "output_type": "stream",
     "text": [
      "Epoch [158 / 10000]: Tain loss: 0.6119, Valid loss: 0.6603\n"
     ]
    },
    {
     "name": "stderr",
     "output_type": "stream",
     "text": [
      "Epoch [158/10000]: 100%|██████████| 322/322 [00:01<00:00, 227.46it/s, loss=0.578]\n"
     ]
    },
    {
     "name": "stdout",
     "output_type": "stream",
     "text": [
      "Epoch [159 / 10000]: Tain loss: 0.6119, Valid loss: 0.6603\n"
     ]
    },
    {
     "name": "stderr",
     "output_type": "stream",
     "text": [
      "Epoch [159/10000]: 100%|██████████| 322/322 [00:01<00:00, 242.79it/s, loss=0.578]\n"
     ]
    },
    {
     "name": "stdout",
     "output_type": "stream",
     "text": [
      "Epoch [160 / 10000]: Tain loss: 0.6117, Valid loss: 0.6603\n"
     ]
    },
    {
     "name": "stderr",
     "output_type": "stream",
     "text": [
      "Epoch [160/10000]: 100%|██████████| 322/322 [00:01<00:00, 233.46it/s, loss=0.578]\n"
     ]
    },
    {
     "name": "stdout",
     "output_type": "stream",
     "text": [
      "Epoch [161 / 10000]: Tain loss: 0.6116, Valid loss: 0.6606\n"
     ]
    },
    {
     "name": "stderr",
     "output_type": "stream",
     "text": [
      "Epoch [161/10000]: 100%|██████████| 322/322 [00:01<00:00, 227.11it/s, loss=0.578]\n"
     ]
    },
    {
     "name": "stdout",
     "output_type": "stream",
     "text": [
      "Epoch [162 / 10000]: Tain loss: 0.6116, Valid loss: 0.6604\n"
     ]
    },
    {
     "name": "stderr",
     "output_type": "stream",
     "text": [
      "Epoch [162/10000]: 100%|██████████| 322/322 [00:01<00:00, 249.14it/s, loss=0.578]\n"
     ]
    },
    {
     "name": "stdout",
     "output_type": "stream",
     "text": [
      "Epoch [163 / 10000]: Tain loss: 0.6116, Valid loss: 0.6607\n"
     ]
    },
    {
     "name": "stderr",
     "output_type": "stream",
     "text": [
      "Epoch [163/10000]: 100%|██████████| 322/322 [00:01<00:00, 234.61it/s, loss=0.578]\n"
     ]
    },
    {
     "name": "stdout",
     "output_type": "stream",
     "text": [
      "Epoch [164 / 10000]: Tain loss: 0.6115, Valid loss: 0.6606\n"
     ]
    },
    {
     "name": "stderr",
     "output_type": "stream",
     "text": [
      "Epoch [164/10000]: 100%|██████████| 322/322 [00:01<00:00, 235.19it/s, loss=0.578]\n"
     ]
    },
    {
     "name": "stdout",
     "output_type": "stream",
     "text": [
      "Epoch [165 / 10000]: Tain loss: 0.6114, Valid loss: 0.6609\n"
     ]
    },
    {
     "name": "stderr",
     "output_type": "stream",
     "text": [
      "Epoch [165/10000]: 100%|██████████| 322/322 [00:01<00:00, 234.55it/s, loss=0.578]\n"
     ]
    },
    {
     "name": "stdout",
     "output_type": "stream",
     "text": [
      "Epoch [166 / 10000]: Tain loss: 0.6114, Valid loss: 0.6607\n"
     ]
    },
    {
     "name": "stderr",
     "output_type": "stream",
     "text": [
      "Epoch [166/10000]: 100%|██████████| 322/322 [00:01<00:00, 242.89it/s, loss=0.578]\n"
     ]
    },
    {
     "name": "stdout",
     "output_type": "stream",
     "text": [
      "Epoch [167 / 10000]: Tain loss: 0.6114, Valid loss: 0.6608\n"
     ]
    },
    {
     "name": "stderr",
     "output_type": "stream",
     "text": [
      "Epoch [167/10000]: 100%|██████████| 322/322 [00:01<00:00, 237.81it/s, loss=0.578]\n"
     ]
    },
    {
     "name": "stdout",
     "output_type": "stream",
     "text": [
      "Epoch [168 / 10000]: Tain loss: 0.6114, Valid loss: 0.6609\n"
     ]
    },
    {
     "name": "stderr",
     "output_type": "stream",
     "text": [
      "Epoch [168/10000]: 100%|██████████| 322/322 [00:01<00:00, 240.38it/s, loss=0.578]\n"
     ]
    },
    {
     "name": "stdout",
     "output_type": "stream",
     "text": [
      "Epoch [169 / 10000]: Tain loss: 0.6113, Valid loss: 0.6608\n"
     ]
    },
    {
     "name": "stderr",
     "output_type": "stream",
     "text": [
      "Epoch [169/10000]: 100%|██████████| 322/322 [00:01<00:00, 232.66it/s, loss=0.578]\n"
     ]
    },
    {
     "name": "stdout",
     "output_type": "stream",
     "text": [
      "Epoch [170 / 10000]: Tain loss: 0.6111, Valid loss: 0.6608\n"
     ]
    },
    {
     "name": "stderr",
     "output_type": "stream",
     "text": [
      "Epoch [170/10000]: 100%|██████████| 322/322 [00:01<00:00, 243.65it/s, loss=0.577]\n"
     ]
    },
    {
     "name": "stdout",
     "output_type": "stream",
     "text": [
      "Epoch [171 / 10000]: Tain loss: 0.6110, Valid loss: 0.6609\n"
     ]
    },
    {
     "name": "stderr",
     "output_type": "stream",
     "text": [
      "Epoch [171/10000]: 100%|██████████| 322/322 [00:01<00:00, 232.76it/s, loss=0.577]\n"
     ]
    },
    {
     "name": "stdout",
     "output_type": "stream",
     "text": [
      "Epoch [172 / 10000]: Tain loss: 0.6110, Valid loss: 0.6609\n"
     ]
    },
    {
     "name": "stderr",
     "output_type": "stream",
     "text": [
      "Epoch [172/10000]: 100%|██████████| 322/322 [00:01<00:00, 230.22it/s, loss=0.577]\n"
     ]
    },
    {
     "name": "stdout",
     "output_type": "stream",
     "text": [
      "Epoch [173 / 10000]: Tain loss: 0.6110, Valid loss: 0.6611\n"
     ]
    },
    {
     "name": "stderr",
     "output_type": "stream",
     "text": [
      "Epoch [173/10000]: 100%|██████████| 322/322 [00:01<00:00, 248.54it/s, loss=0.577]\n"
     ]
    },
    {
     "name": "stdout",
     "output_type": "stream",
     "text": [
      "Epoch [174 / 10000]: Tain loss: 0.6110, Valid loss: 0.6609\n"
     ]
    },
    {
     "name": "stderr",
     "output_type": "stream",
     "text": [
      "Epoch [174/10000]: 100%|██████████| 322/322 [00:01<00:00, 251.97it/s, loss=0.578]\n"
     ]
    },
    {
     "name": "stdout",
     "output_type": "stream",
     "text": [
      "Epoch [175 / 10000]: Tain loss: 0.6109, Valid loss: 0.6612\n"
     ]
    },
    {
     "name": "stderr",
     "output_type": "stream",
     "text": [
      "Epoch [175/10000]: 100%|██████████| 322/322 [00:01<00:00, 233.61it/s, loss=0.577]\n"
     ]
    },
    {
     "name": "stdout",
     "output_type": "stream",
     "text": [
      "Epoch [176 / 10000]: Tain loss: 0.6108, Valid loss: 0.6610\n"
     ]
    },
    {
     "name": "stderr",
     "output_type": "stream",
     "text": [
      "Epoch [176/10000]: 100%|██████████| 322/322 [00:01<00:00, 241.95it/s, loss=0.578]\n"
     ]
    },
    {
     "name": "stdout",
     "output_type": "stream",
     "text": [
      "Epoch [177 / 10000]: Tain loss: 0.6108, Valid loss: 0.6610\n"
     ]
    },
    {
     "name": "stderr",
     "output_type": "stream",
     "text": [
      "Epoch [177/10000]: 100%|██████████| 322/322 [00:01<00:00, 224.67it/s, loss=0.577]\n"
     ]
    },
    {
     "name": "stdout",
     "output_type": "stream",
     "text": [
      "Epoch [178 / 10000]: Tain loss: 0.6107, Valid loss: 0.6611\n"
     ]
    },
    {
     "name": "stderr",
     "output_type": "stream",
     "text": [
      "Epoch [178/10000]: 100%|██████████| 322/322 [00:01<00:00, 230.31it/s, loss=0.577]\n"
     ]
    },
    {
     "name": "stdout",
     "output_type": "stream",
     "text": [
      "Epoch [179 / 10000]: Tain loss: 0.6106, Valid loss: 0.6610\n"
     ]
    },
    {
     "name": "stderr",
     "output_type": "stream",
     "text": [
      "Epoch [179/10000]: 100%|██████████| 322/322 [00:01<00:00, 233.77it/s, loss=0.577]\n"
     ]
    },
    {
     "name": "stdout",
     "output_type": "stream",
     "text": [
      "Epoch [180 / 10000]: Tain loss: 0.6106, Valid loss: 0.6613\n"
     ]
    },
    {
     "name": "stderr",
     "output_type": "stream",
     "text": [
      "Epoch [180/10000]: 100%|██████████| 322/322 [00:01<00:00, 249.83it/s, loss=0.577]\n"
     ]
    },
    {
     "name": "stdout",
     "output_type": "stream",
     "text": [
      "Epoch [181 / 10000]: Tain loss: 0.6106, Valid loss: 0.6613\n"
     ]
    },
    {
     "name": "stderr",
     "output_type": "stream",
     "text": [
      "Epoch [181/10000]: 100%|██████████| 322/322 [00:01<00:00, 222.77it/s, loss=0.576]\n"
     ]
    },
    {
     "name": "stdout",
     "output_type": "stream",
     "text": [
      "Epoch [182 / 10000]: Tain loss: 0.6105, Valid loss: 0.6614\n"
     ]
    },
    {
     "name": "stderr",
     "output_type": "stream",
     "text": [
      "Epoch [182/10000]: 100%|██████████| 322/322 [00:01<00:00, 234.57it/s, loss=0.577]\n"
     ]
    },
    {
     "name": "stdout",
     "output_type": "stream",
     "text": [
      "Epoch [183 / 10000]: Tain loss: 0.6105, Valid loss: 0.6613\n"
     ]
    },
    {
     "name": "stderr",
     "output_type": "stream",
     "text": [
      "Epoch [183/10000]: 100%|██████████| 322/322 [00:01<00:00, 232.99it/s, loss=0.576]\n"
     ]
    },
    {
     "name": "stdout",
     "output_type": "stream",
     "text": [
      "Epoch [184 / 10000]: Tain loss: 0.6104, Valid loss: 0.6614\n"
     ]
    },
    {
     "name": "stderr",
     "output_type": "stream",
     "text": [
      "Epoch [184/10000]: 100%|██████████| 322/322 [00:01<00:00, 255.31it/s, loss=0.576]\n"
     ]
    },
    {
     "name": "stdout",
     "output_type": "stream",
     "text": [
      "Epoch [185 / 10000]: Tain loss: 0.6103, Valid loss: 0.6614\n"
     ]
    },
    {
     "name": "stderr",
     "output_type": "stream",
     "text": [
      "Epoch [185/10000]: 100%|██████████| 322/322 [00:01<00:00, 253.36it/s, loss=0.577]\n"
     ]
    },
    {
     "name": "stdout",
     "output_type": "stream",
     "text": [
      "Epoch [186 / 10000]: Tain loss: 0.6103, Valid loss: 0.6614\n"
     ]
    },
    {
     "name": "stderr",
     "output_type": "stream",
     "text": [
      "Epoch [186/10000]: 100%|██████████| 322/322 [00:01<00:00, 251.43it/s, loss=0.577]\n"
     ]
    },
    {
     "name": "stdout",
     "output_type": "stream",
     "text": [
      "Epoch [187 / 10000]: Tain loss: 0.6103, Valid loss: 0.6616\n"
     ]
    },
    {
     "name": "stderr",
     "output_type": "stream",
     "text": [
      "Epoch [187/10000]: 100%|██████████| 322/322 [00:01<00:00, 246.17it/s, loss=0.577]\n"
     ]
    },
    {
     "name": "stdout",
     "output_type": "stream",
     "text": [
      "Epoch [188 / 10000]: Tain loss: 0.6102, Valid loss: 0.6616\n"
     ]
    },
    {
     "name": "stderr",
     "output_type": "stream",
     "text": [
      "Epoch [188/10000]: 100%|██████████| 322/322 [00:01<00:00, 252.53it/s, loss=0.576]\n"
     ]
    },
    {
     "name": "stdout",
     "output_type": "stream",
     "text": [
      "Epoch [189 / 10000]: Tain loss: 0.6102, Valid loss: 0.6616\n"
     ]
    },
    {
     "name": "stderr",
     "output_type": "stream",
     "text": [
      "Epoch [189/10000]: 100%|██████████| 322/322 [00:01<00:00, 252.05it/s, loss=0.576]\n"
     ]
    },
    {
     "name": "stdout",
     "output_type": "stream",
     "text": [
      "Epoch [190 / 10000]: Tain loss: 0.6101, Valid loss: 0.6615\n"
     ]
    },
    {
     "name": "stderr",
     "output_type": "stream",
     "text": [
      "Epoch [190/10000]: 100%|██████████| 322/322 [00:01<00:00, 247.57it/s, loss=0.576]\n"
     ]
    },
    {
     "name": "stdout",
     "output_type": "stream",
     "text": [
      "Epoch [191 / 10000]: Tain loss: 0.6100, Valid loss: 0.6617\n"
     ]
    },
    {
     "name": "stderr",
     "output_type": "stream",
     "text": [
      "Epoch [191/10000]: 100%|██████████| 322/322 [00:01<00:00, 244.42it/s, loss=0.576]\n"
     ]
    },
    {
     "name": "stdout",
     "output_type": "stream",
     "text": [
      "Epoch [192 / 10000]: Tain loss: 0.6100, Valid loss: 0.6619\n"
     ]
    },
    {
     "name": "stderr",
     "output_type": "stream",
     "text": [
      "Epoch [192/10000]: 100%|██████████| 322/322 [00:01<00:00, 247.58it/s, loss=0.577]\n"
     ]
    },
    {
     "name": "stdout",
     "output_type": "stream",
     "text": [
      "Epoch [193 / 10000]: Tain loss: 0.6100, Valid loss: 0.6618\n"
     ]
    },
    {
     "name": "stderr",
     "output_type": "stream",
     "text": [
      "Epoch [193/10000]: 100%|██████████| 322/322 [00:01<00:00, 248.55it/s, loss=0.576]\n"
     ]
    },
    {
     "name": "stdout",
     "output_type": "stream",
     "text": [
      "Epoch [194 / 10000]: Tain loss: 0.6099, Valid loss: 0.6619\n"
     ]
    },
    {
     "name": "stderr",
     "output_type": "stream",
     "text": [
      "Epoch [194/10000]: 100%|██████████| 322/322 [00:01<00:00, 252.84it/s, loss=0.576]\n"
     ]
    },
    {
     "name": "stdout",
     "output_type": "stream",
     "text": [
      "Epoch [195 / 10000]: Tain loss: 0.6098, Valid loss: 0.6618\n"
     ]
    },
    {
     "name": "stderr",
     "output_type": "stream",
     "text": [
      "Epoch [195/10000]: 100%|██████████| 322/322 [00:01<00:00, 252.10it/s, loss=0.576]\n"
     ]
    },
    {
     "name": "stdout",
     "output_type": "stream",
     "text": [
      "Epoch [196 / 10000]: Tain loss: 0.6098, Valid loss: 0.6619\n"
     ]
    },
    {
     "name": "stderr",
     "output_type": "stream",
     "text": [
      "Epoch [196/10000]: 100%|██████████| 322/322 [00:01<00:00, 252.03it/s, loss=0.576]\n"
     ]
    },
    {
     "name": "stdout",
     "output_type": "stream",
     "text": [
      "Epoch [197 / 10000]: Tain loss: 0.6098, Valid loss: 0.6620\n"
     ]
    },
    {
     "name": "stderr",
     "output_type": "stream",
     "text": [
      "Epoch [197/10000]: 100%|██████████| 322/322 [00:01<00:00, 250.47it/s, loss=0.576]\n"
     ]
    },
    {
     "name": "stdout",
     "output_type": "stream",
     "text": [
      "Epoch [198 / 10000]: Tain loss: 0.6098, Valid loss: 0.6619\n"
     ]
    },
    {
     "name": "stderr",
     "output_type": "stream",
     "text": [
      "Epoch [198/10000]: 100%|██████████| 322/322 [00:01<00:00, 250.81it/s, loss=0.575]\n"
     ]
    },
    {
     "name": "stdout",
     "output_type": "stream",
     "text": [
      "Epoch [199 / 10000]: Tain loss: 0.6097, Valid loss: 0.6619\n"
     ]
    },
    {
     "name": "stderr",
     "output_type": "stream",
     "text": [
      "Epoch [199/10000]: 100%|██████████| 322/322 [00:01<00:00, 252.01it/s, loss=0.575]\n"
     ]
    },
    {
     "name": "stdout",
     "output_type": "stream",
     "text": [
      "Epoch [200 / 10000]: Tain loss: 0.6096, Valid loss: 0.6618\n"
     ]
    },
    {
     "name": "stderr",
     "output_type": "stream",
     "text": [
      "Epoch [200/10000]: 100%|██████████| 322/322 [00:01<00:00, 241.24it/s, loss=0.575]\n"
     ]
    },
    {
     "name": "stdout",
     "output_type": "stream",
     "text": [
      "Epoch [201 / 10000]: Tain loss: 0.6096, Valid loss: 0.6621\n"
     ]
    },
    {
     "name": "stderr",
     "output_type": "stream",
     "text": [
      "Epoch [201/10000]: 100%|██████████| 322/322 [00:01<00:00, 236.54it/s, loss=0.576]\n"
     ]
    },
    {
     "name": "stdout",
     "output_type": "stream",
     "text": [
      "Epoch [202 / 10000]: Tain loss: 0.6095, Valid loss: 0.6620\n"
     ]
    },
    {
     "name": "stderr",
     "output_type": "stream",
     "text": [
      "Epoch [202/10000]: 100%|██████████| 322/322 [00:01<00:00, 239.17it/s, loss=0.575]\n"
     ]
    },
    {
     "name": "stdout",
     "output_type": "stream",
     "text": [
      "Epoch [203 / 10000]: Tain loss: 0.6095, Valid loss: 0.6622\n"
     ]
    },
    {
     "name": "stderr",
     "output_type": "stream",
     "text": [
      "Epoch [203/10000]: 100%|██████████| 322/322 [00:01<00:00, 235.55it/s, loss=0.575]\n"
     ]
    },
    {
     "name": "stdout",
     "output_type": "stream",
     "text": [
      "Epoch [204 / 10000]: Tain loss: 0.6094, Valid loss: 0.6621\n"
     ]
    },
    {
     "name": "stderr",
     "output_type": "stream",
     "text": [
      "Epoch [204/10000]: 100%|██████████| 322/322 [00:01<00:00, 221.28it/s, loss=0.575]\n"
     ]
    },
    {
     "name": "stdout",
     "output_type": "stream",
     "text": [
      "Epoch [205 / 10000]: Tain loss: 0.6094, Valid loss: 0.6621\n"
     ]
    },
    {
     "name": "stderr",
     "output_type": "stream",
     "text": [
      "Epoch [205/10000]: 100%|██████████| 322/322 [00:01<00:00, 240.49it/s, loss=0.574]\n"
     ]
    },
    {
     "name": "stdout",
     "output_type": "stream",
     "text": [
      "Epoch [206 / 10000]: Tain loss: 0.6093, Valid loss: 0.6621\n"
     ]
    },
    {
     "name": "stderr",
     "output_type": "stream",
     "text": [
      "Epoch [206/10000]: 100%|██████████| 322/322 [00:01<00:00, 223.03it/s, loss=0.575]\n"
     ]
    },
    {
     "name": "stdout",
     "output_type": "stream",
     "text": [
      "Epoch [207 / 10000]: Tain loss: 0.6093, Valid loss: 0.6623\n"
     ]
    },
    {
     "name": "stderr",
     "output_type": "stream",
     "text": [
      "Epoch [207/10000]: 100%|██████████| 322/322 [00:01<00:00, 236.42it/s, loss=0.575]\n"
     ]
    },
    {
     "name": "stdout",
     "output_type": "stream",
     "text": [
      "Epoch [208 / 10000]: Tain loss: 0.6093, Valid loss: 0.6623\n"
     ]
    },
    {
     "name": "stderr",
     "output_type": "stream",
     "text": [
      "Epoch [208/10000]: 100%|██████████| 322/322 [00:01<00:00, 236.22it/s, loss=0.575]\n"
     ]
    },
    {
     "name": "stdout",
     "output_type": "stream",
     "text": [
      "Epoch [209 / 10000]: Tain loss: 0.6092, Valid loss: 0.6624\n"
     ]
    },
    {
     "name": "stderr",
     "output_type": "stream",
     "text": [
      "Epoch [209/10000]: 100%|██████████| 322/322 [00:01<00:00, 226.56it/s, loss=0.575]\n"
     ]
    },
    {
     "name": "stdout",
     "output_type": "stream",
     "text": [
      "Epoch [210 / 10000]: Tain loss: 0.6092, Valid loss: 0.6625\n"
     ]
    },
    {
     "name": "stderr",
     "output_type": "stream",
     "text": [
      "Epoch [210/10000]: 100%|██████████| 322/322 [00:01<00:00, 238.51it/s, loss=0.575]\n"
     ]
    },
    {
     "name": "stdout",
     "output_type": "stream",
     "text": [
      "Epoch [211 / 10000]: Tain loss: 0.6092, Valid loss: 0.6624\n"
     ]
    },
    {
     "name": "stderr",
     "output_type": "stream",
     "text": [
      "Epoch [211/10000]: 100%|██████████| 322/322 [00:01<00:00, 229.30it/s, loss=0.575]\n"
     ]
    },
    {
     "name": "stdout",
     "output_type": "stream",
     "text": [
      "Epoch [212 / 10000]: Tain loss: 0.6091, Valid loss: 0.6626\n"
     ]
    },
    {
     "name": "stderr",
     "output_type": "stream",
     "text": [
      "Epoch [212/10000]: 100%|██████████| 322/322 [00:01<00:00, 219.03it/s, loss=0.574]\n"
     ]
    },
    {
     "name": "stdout",
     "output_type": "stream",
     "text": [
      "Epoch [213 / 10000]: Tain loss: 0.6090, Valid loss: 0.6624\n"
     ]
    },
    {
     "name": "stderr",
     "output_type": "stream",
     "text": [
      "Epoch [213/10000]: 100%|██████████| 322/322 [00:01<00:00, 245.37it/s, loss=0.576]\n"
     ]
    },
    {
     "name": "stdout",
     "output_type": "stream",
     "text": [
      "Epoch [214 / 10000]: Tain loss: 0.6090, Valid loss: 0.6627\n"
     ]
    },
    {
     "name": "stderr",
     "output_type": "stream",
     "text": [
      "Epoch [214/10000]: 100%|██████████| 322/322 [00:01<00:00, 210.79it/s, loss=0.575]\n"
     ]
    },
    {
     "name": "stdout",
     "output_type": "stream",
     "text": [
      "Epoch [215 / 10000]: Tain loss: 0.6089, Valid loss: 0.6626\n"
     ]
    },
    {
     "name": "stderr",
     "output_type": "stream",
     "text": [
      "Epoch [215/10000]: 100%|██████████| 322/322 [00:01<00:00, 214.01it/s, loss=0.575]\n"
     ]
    },
    {
     "name": "stdout",
     "output_type": "stream",
     "text": [
      "Epoch [216 / 10000]: Tain loss: 0.6089, Valid loss: 0.6629\n"
     ]
    },
    {
     "name": "stderr",
     "output_type": "stream",
     "text": [
      "Epoch [216/10000]: 100%|██████████| 322/322 [00:01<00:00, 234.04it/s, loss=0.575]\n"
     ]
    },
    {
     "name": "stdout",
     "output_type": "stream",
     "text": [
      "Epoch [217 / 10000]: Tain loss: 0.6088, Valid loss: 0.6626\n"
     ]
    },
    {
     "name": "stderr",
     "output_type": "stream",
     "text": [
      "Epoch [217/10000]: 100%|██████████| 322/322 [00:01<00:00, 211.08it/s, loss=0.575]\n"
     ]
    },
    {
     "name": "stdout",
     "output_type": "stream",
     "text": [
      "Epoch [218 / 10000]: Tain loss: 0.6088, Valid loss: 0.6629\n"
     ]
    },
    {
     "name": "stderr",
     "output_type": "stream",
     "text": [
      "Epoch [218/10000]: 100%|██████████| 322/322 [00:01<00:00, 216.70it/s, loss=0.574]\n"
     ]
    },
    {
     "name": "stdout",
     "output_type": "stream",
     "text": [
      "Epoch [219 / 10000]: Tain loss: 0.6087, Valid loss: 0.6628\n"
     ]
    },
    {
     "name": "stderr",
     "output_type": "stream",
     "text": [
      "Epoch [219/10000]: 100%|██████████| 322/322 [00:01<00:00, 221.00it/s, loss=0.575]\n"
     ]
    },
    {
     "name": "stdout",
     "output_type": "stream",
     "text": [
      "Epoch [220 / 10000]: Tain loss: 0.6087, Valid loss: 0.6630\n"
     ]
    },
    {
     "name": "stderr",
     "output_type": "stream",
     "text": [
      "Epoch [220/10000]: 100%|██████████| 322/322 [00:01<00:00, 220.67it/s, loss=0.575]\n"
     ]
    },
    {
     "name": "stdout",
     "output_type": "stream",
     "text": [
      "Epoch [221 / 10000]: Tain loss: 0.6088, Valid loss: 0.6628\n"
     ]
    },
    {
     "name": "stderr",
     "output_type": "stream",
     "text": [
      "Epoch [221/10000]: 100%|██████████| 322/322 [00:01<00:00, 218.69it/s, loss=0.575]\n"
     ]
    },
    {
     "name": "stdout",
     "output_type": "stream",
     "text": [
      "Epoch [222 / 10000]: Tain loss: 0.6087, Valid loss: 0.6630\n"
     ]
    },
    {
     "name": "stderr",
     "output_type": "stream",
     "text": [
      "Epoch [222/10000]: 100%|██████████| 322/322 [00:01<00:00, 221.71it/s, loss=0.574]\n"
     ]
    },
    {
     "name": "stdout",
     "output_type": "stream",
     "text": [
      "Epoch [223 / 10000]: Tain loss: 0.6086, Valid loss: 0.6629\n"
     ]
    },
    {
     "name": "stderr",
     "output_type": "stream",
     "text": [
      "Epoch [223/10000]: 100%|██████████| 322/322 [00:01<00:00, 202.10it/s, loss=0.574]\n"
     ]
    },
    {
     "name": "stdout",
     "output_type": "stream",
     "text": [
      "Epoch [224 / 10000]: Tain loss: 0.6086, Valid loss: 0.6629\n"
     ]
    },
    {
     "name": "stderr",
     "output_type": "stream",
     "text": [
      "Epoch [224/10000]: 100%|██████████| 322/322 [00:01<00:00, 204.25it/s, loss=0.574]\n"
     ]
    },
    {
     "name": "stdout",
     "output_type": "stream",
     "text": [
      "Epoch [225 / 10000]: Tain loss: 0.6084, Valid loss: 0.6630\n"
     ]
    },
    {
     "name": "stderr",
     "output_type": "stream",
     "text": [
      "Epoch [225/10000]: 100%|██████████| 322/322 [00:01<00:00, 199.47it/s, loss=0.574]\n"
     ]
    },
    {
     "name": "stdout",
     "output_type": "stream",
     "text": [
      "Epoch [226 / 10000]: Tain loss: 0.6084, Valid loss: 0.6628\n"
     ]
    },
    {
     "name": "stderr",
     "output_type": "stream",
     "text": [
      "Epoch [226/10000]: 100%|██████████| 322/322 [00:01<00:00, 205.35it/s, loss=0.574]\n"
     ]
    },
    {
     "name": "stdout",
     "output_type": "stream",
     "text": [
      "Epoch [227 / 10000]: Tain loss: 0.6085, Valid loss: 0.6630\n"
     ]
    },
    {
     "name": "stderr",
     "output_type": "stream",
     "text": [
      "Epoch [227/10000]: 100%|██████████| 322/322 [00:01<00:00, 205.82it/s, loss=0.574]\n"
     ]
    },
    {
     "name": "stdout",
     "output_type": "stream",
     "text": [
      "Epoch [228 / 10000]: Tain loss: 0.6084, Valid loss: 0.6631\n"
     ]
    },
    {
     "name": "stderr",
     "output_type": "stream",
     "text": [
      "Epoch [228/10000]: 100%|██████████| 322/322 [00:01<00:00, 202.29it/s, loss=0.574]\n"
     ]
    },
    {
     "name": "stdout",
     "output_type": "stream",
     "text": [
      "Epoch [229 / 10000]: Tain loss: 0.6084, Valid loss: 0.6630\n"
     ]
    },
    {
     "name": "stderr",
     "output_type": "stream",
     "text": [
      "Epoch [229/10000]: 100%|██████████| 322/322 [00:01<00:00, 209.52it/s, loss=0.574]\n"
     ]
    },
    {
     "name": "stdout",
     "output_type": "stream",
     "text": [
      "Epoch [230 / 10000]: Tain loss: 0.6083, Valid loss: 0.6631\n"
     ]
    },
    {
     "name": "stderr",
     "output_type": "stream",
     "text": [
      "Epoch [230/10000]: 100%|██████████| 322/322 [00:01<00:00, 191.31it/s, loss=0.574]\n"
     ]
    },
    {
     "name": "stdout",
     "output_type": "stream",
     "text": [
      "Epoch [231 / 10000]: Tain loss: 0.6083, Valid loss: 0.6630\n"
     ]
    },
    {
     "name": "stderr",
     "output_type": "stream",
     "text": [
      "Epoch [231/10000]: 100%|██████████| 322/322 [00:01<00:00, 190.44it/s, loss=0.574]\n"
     ]
    },
    {
     "name": "stdout",
     "output_type": "stream",
     "text": [
      "Epoch [232 / 10000]: Tain loss: 0.6082, Valid loss: 0.6632\n"
     ]
    },
    {
     "name": "stderr",
     "output_type": "stream",
     "text": [
      "Epoch [232/10000]: 100%|██████████| 322/322 [00:01<00:00, 210.68it/s, loss=0.573]\n"
     ]
    },
    {
     "name": "stdout",
     "output_type": "stream",
     "text": [
      "Epoch [233 / 10000]: Tain loss: 0.6082, Valid loss: 0.6633\n"
     ]
    },
    {
     "name": "stderr",
     "output_type": "stream",
     "text": [
      "Epoch [233/10000]: 100%|██████████| 322/322 [00:01<00:00, 209.66it/s, loss=0.574]\n"
     ]
    },
    {
     "name": "stdout",
     "output_type": "stream",
     "text": [
      "Epoch [234 / 10000]: Tain loss: 0.6082, Valid loss: 0.6632\n"
     ]
    },
    {
     "name": "stderr",
     "output_type": "stream",
     "text": [
      "Epoch [234/10000]: 100%|██████████| 322/322 [00:01<00:00, 222.68it/s, loss=0.574]\n"
     ]
    },
    {
     "name": "stdout",
     "output_type": "stream",
     "text": [
      "Epoch [235 / 10000]: Tain loss: 0.6081, Valid loss: 0.6633\n"
     ]
    },
    {
     "name": "stderr",
     "output_type": "stream",
     "text": [
      "Epoch [235/10000]: 100%|██████████| 322/322 [00:01<00:00, 216.41it/s, loss=0.574]\n"
     ]
    },
    {
     "name": "stdout",
     "output_type": "stream",
     "text": [
      "Epoch [236 / 10000]: Tain loss: 0.6081, Valid loss: 0.6632\n"
     ]
    },
    {
     "name": "stderr",
     "output_type": "stream",
     "text": [
      "Epoch [236/10000]: 100%|██████████| 322/322 [00:01<00:00, 210.59it/s, loss=0.573]\n"
     ]
    },
    {
     "name": "stdout",
     "output_type": "stream",
     "text": [
      "Epoch [237 / 10000]: Tain loss: 0.6081, Valid loss: 0.6634\n"
     ]
    },
    {
     "name": "stderr",
     "output_type": "stream",
     "text": [
      "Epoch [237/10000]: 100%|██████████| 322/322 [00:01<00:00, 217.09it/s, loss=0.573]\n"
     ]
    },
    {
     "name": "stdout",
     "output_type": "stream",
     "text": [
      "Epoch [238 / 10000]: Tain loss: 0.6080, Valid loss: 0.6634\n"
     ]
    },
    {
     "name": "stderr",
     "output_type": "stream",
     "text": [
      "Epoch [238/10000]: 100%|██████████| 322/322 [00:01<00:00, 205.00it/s, loss=0.573]\n"
     ]
    },
    {
     "name": "stdout",
     "output_type": "stream",
     "text": [
      "Epoch [239 / 10000]: Tain loss: 0.6079, Valid loss: 0.6632\n"
     ]
    },
    {
     "name": "stderr",
     "output_type": "stream",
     "text": [
      "Epoch [239/10000]: 100%|██████████| 322/322 [00:01<00:00, 213.68it/s, loss=0.573]\n"
     ]
    },
    {
     "name": "stdout",
     "output_type": "stream",
     "text": [
      "Epoch [240 / 10000]: Tain loss: 0.6079, Valid loss: 0.6633\n"
     ]
    },
    {
     "name": "stderr",
     "output_type": "stream",
     "text": [
      "Epoch [240/10000]: 100%|██████████| 322/322 [00:01<00:00, 219.51it/s, loss=0.573]\n"
     ]
    },
    {
     "name": "stdout",
     "output_type": "stream",
     "text": [
      "Epoch [241 / 10000]: Tain loss: 0.6079, Valid loss: 0.6634\n"
     ]
    },
    {
     "name": "stderr",
     "output_type": "stream",
     "text": [
      "Epoch [241/10000]: 100%|██████████| 322/322 [00:01<00:00, 220.39it/s, loss=0.573]\n"
     ]
    },
    {
     "name": "stdout",
     "output_type": "stream",
     "text": [
      "Epoch [242 / 10000]: Tain loss: 0.6079, Valid loss: 0.6634\n"
     ]
    },
    {
     "name": "stderr",
     "output_type": "stream",
     "text": [
      "Epoch [242/10000]: 100%|██████████| 322/322 [00:01<00:00, 220.40it/s, loss=0.573]\n"
     ]
    },
    {
     "name": "stdout",
     "output_type": "stream",
     "text": [
      "Epoch [243 / 10000]: Tain loss: 0.6078, Valid loss: 0.6635\n"
     ]
    },
    {
     "name": "stderr",
     "output_type": "stream",
     "text": [
      "Epoch [243/10000]: 100%|██████████| 322/322 [00:01<00:00, 221.31it/s, loss=0.573]\n"
     ]
    },
    {
     "name": "stdout",
     "output_type": "stream",
     "text": [
      "Epoch [244 / 10000]: Tain loss: 0.6078, Valid loss: 0.6634\n"
     ]
    },
    {
     "name": "stderr",
     "output_type": "stream",
     "text": [
      "Epoch [244/10000]: 100%|██████████| 322/322 [00:01<00:00, 223.45it/s, loss=0.573]\n"
     ]
    },
    {
     "name": "stdout",
     "output_type": "stream",
     "text": [
      "Epoch [245 / 10000]: Tain loss: 0.6077, Valid loss: 0.6636\n"
     ]
    },
    {
     "name": "stderr",
     "output_type": "stream",
     "text": [
      "Epoch [245/10000]: 100%|██████████| 322/322 [00:01<00:00, 222.08it/s, loss=0.573]\n"
     ]
    },
    {
     "name": "stdout",
     "output_type": "stream",
     "text": [
      "Epoch [246 / 10000]: Tain loss: 0.6077, Valid loss: 0.6636\n"
     ]
    },
    {
     "name": "stderr",
     "output_type": "stream",
     "text": [
      "Epoch [246/10000]: 100%|██████████| 322/322 [00:01<00:00, 213.44it/s, loss=0.573]\n"
     ]
    },
    {
     "name": "stdout",
     "output_type": "stream",
     "text": [
      "Epoch [247 / 10000]: Tain loss: 0.6076, Valid loss: 0.6638\n"
     ]
    },
    {
     "name": "stderr",
     "output_type": "stream",
     "text": [
      "Epoch [247/10000]: 100%|██████████| 322/322 [00:01<00:00, 217.71it/s, loss=0.573]\n"
     ]
    },
    {
     "name": "stdout",
     "output_type": "stream",
     "text": [
      "Epoch [248 / 10000]: Tain loss: 0.6076, Valid loss: 0.6636\n"
     ]
    },
    {
     "name": "stderr",
     "output_type": "stream",
     "text": [
      "Epoch [248/10000]: 100%|██████████| 322/322 [00:01<00:00, 211.79it/s, loss=0.573]\n"
     ]
    },
    {
     "name": "stdout",
     "output_type": "stream",
     "text": [
      "Epoch [249 / 10000]: Tain loss: 0.6076, Valid loss: 0.6636\n"
     ]
    },
    {
     "name": "stderr",
     "output_type": "stream",
     "text": [
      "Epoch [249/10000]: 100%|██████████| 322/322 [00:01<00:00, 218.78it/s, loss=0.572]\n"
     ]
    },
    {
     "name": "stdout",
     "output_type": "stream",
     "text": [
      "Epoch [250 / 10000]: Tain loss: 0.6075, Valid loss: 0.6638\n"
     ]
    },
    {
     "name": "stderr",
     "output_type": "stream",
     "text": [
      "Epoch [250/10000]: 100%|██████████| 322/322 [00:01<00:00, 220.77it/s, loss=0.573]\n"
     ]
    },
    {
     "name": "stdout",
     "output_type": "stream",
     "text": [
      "Epoch [251 / 10000]: Tain loss: 0.6075, Valid loss: 0.6637\n"
     ]
    },
    {
     "name": "stderr",
     "output_type": "stream",
     "text": [
      "Epoch [251/10000]: 100%|██████████| 322/322 [00:01<00:00, 221.75it/s, loss=0.573]\n"
     ]
    },
    {
     "name": "stdout",
     "output_type": "stream",
     "text": [
      "Epoch [252 / 10000]: Tain loss: 0.6075, Valid loss: 0.6639\n"
     ]
    },
    {
     "name": "stderr",
     "output_type": "stream",
     "text": [
      "Epoch [252/10000]: 100%|██████████| 322/322 [00:01<00:00, 217.11it/s, loss=0.572]\n"
     ]
    },
    {
     "name": "stdout",
     "output_type": "stream",
     "text": [
      "Epoch [253 / 10000]: Tain loss: 0.6075, Valid loss: 0.6640\n"
     ]
    },
    {
     "name": "stderr",
     "output_type": "stream",
     "text": [
      "Epoch [253/10000]: 100%|██████████| 322/322 [00:01<00:00, 220.28it/s, loss=0.572]\n"
     ]
    },
    {
     "name": "stdout",
     "output_type": "stream",
     "text": [
      "Epoch [254 / 10000]: Tain loss: 0.6074, Valid loss: 0.6638\n"
     ]
    },
    {
     "name": "stderr",
     "output_type": "stream",
     "text": [
      "Epoch [254/10000]: 100%|██████████| 322/322 [00:01<00:00, 219.80it/s, loss=0.572]\n"
     ]
    },
    {
     "name": "stdout",
     "output_type": "stream",
     "text": [
      "Epoch [255 / 10000]: Tain loss: 0.6074, Valid loss: 0.6639\n"
     ]
    },
    {
     "name": "stderr",
     "output_type": "stream",
     "text": [
      "Epoch [255/10000]: 100%|██████████| 322/322 [00:01<00:00, 223.40it/s, loss=0.573]\n"
     ]
    },
    {
     "name": "stdout",
     "output_type": "stream",
     "text": [
      "Epoch [256 / 10000]: Tain loss: 0.6073, Valid loss: 0.6641\n"
     ]
    },
    {
     "name": "stderr",
     "output_type": "stream",
     "text": [
      "Epoch [256/10000]: 100%|██████████| 322/322 [00:01<00:00, 221.71it/s, loss=0.573]\n"
     ]
    },
    {
     "name": "stdout",
     "output_type": "stream",
     "text": [
      "Epoch [257 / 10000]: Tain loss: 0.6073, Valid loss: 0.6641\n"
     ]
    },
    {
     "name": "stderr",
     "output_type": "stream",
     "text": [
      "Epoch [257/10000]: 100%|██████████| 322/322 [00:01<00:00, 220.96it/s, loss=0.573]\n"
     ]
    },
    {
     "name": "stdout",
     "output_type": "stream",
     "text": [
      "Epoch [258 / 10000]: Tain loss: 0.6073, Valid loss: 0.6642\n"
     ]
    },
    {
     "name": "stderr",
     "output_type": "stream",
     "text": [
      "Epoch [258/10000]: 100%|██████████| 322/322 [00:01<00:00, 222.98it/s, loss=0.572]\n"
     ]
    },
    {
     "name": "stdout",
     "output_type": "stream",
     "text": [
      "Epoch [259 / 10000]: Tain loss: 0.6073, Valid loss: 0.6641\n"
     ]
    },
    {
     "name": "stderr",
     "output_type": "stream",
     "text": [
      "Epoch [259/10000]: 100%|██████████| 322/322 [00:01<00:00, 222.73it/s, loss=0.572]\n"
     ]
    },
    {
     "name": "stdout",
     "output_type": "stream",
     "text": [
      "Epoch [260 / 10000]: Tain loss: 0.6072, Valid loss: 0.6643\n"
     ]
    },
    {
     "name": "stderr",
     "output_type": "stream",
     "text": [
      "Epoch [260/10000]: 100%|██████████| 322/322 [00:01<00:00, 224.28it/s, loss=0.572]\n"
     ]
    },
    {
     "name": "stdout",
     "output_type": "stream",
     "text": [
      "Epoch [261 / 10000]: Tain loss: 0.6072, Valid loss: 0.6640\n"
     ]
    },
    {
     "name": "stderr",
     "output_type": "stream",
     "text": [
      "Epoch [261/10000]: 100%|██████████| 322/322 [00:01<00:00, 223.92it/s, loss=0.572]\n"
     ]
    },
    {
     "name": "stdout",
     "output_type": "stream",
     "text": [
      "Epoch [262 / 10000]: Tain loss: 0.6072, Valid loss: 0.6641\n"
     ]
    },
    {
     "name": "stderr",
     "output_type": "stream",
     "text": [
      "Epoch [262/10000]: 100%|██████████| 322/322 [00:01<00:00, 221.45it/s, loss=0.572]\n"
     ]
    },
    {
     "name": "stdout",
     "output_type": "stream",
     "text": [
      "Epoch [263 / 10000]: Tain loss: 0.6071, Valid loss: 0.6642\n"
     ]
    },
    {
     "name": "stderr",
     "output_type": "stream",
     "text": [
      "Epoch [263/10000]: 100%|██████████| 322/322 [00:01<00:00, 219.63it/s, loss=0.572]\n"
     ]
    },
    {
     "name": "stdout",
     "output_type": "stream",
     "text": [
      "Epoch [264 / 10000]: Tain loss: 0.6071, Valid loss: 0.6644\n"
     ]
    },
    {
     "name": "stderr",
     "output_type": "stream",
     "text": [
      "Epoch [264/10000]: 100%|██████████| 322/322 [00:01<00:00, 223.38it/s, loss=0.572]\n"
     ]
    },
    {
     "name": "stdout",
     "output_type": "stream",
     "text": [
      "Epoch [265 / 10000]: Tain loss: 0.6070, Valid loss: 0.6645\n"
     ]
    },
    {
     "name": "stderr",
     "output_type": "stream",
     "text": [
      "Epoch [265/10000]: 100%|██████████| 322/322 [00:01<00:00, 224.85it/s, loss=0.572]\n"
     ]
    },
    {
     "name": "stdout",
     "output_type": "stream",
     "text": [
      "Epoch [266 / 10000]: Tain loss: 0.6069, Valid loss: 0.6643\n"
     ]
    },
    {
     "name": "stderr",
     "output_type": "stream",
     "text": [
      "Epoch [266/10000]: 100%|██████████| 322/322 [00:01<00:00, 215.58it/s, loss=0.573]\n"
     ]
    },
    {
     "name": "stdout",
     "output_type": "stream",
     "text": [
      "Epoch [267 / 10000]: Tain loss: 0.6070, Valid loss: 0.6645\n"
     ]
    },
    {
     "name": "stderr",
     "output_type": "stream",
     "text": [
      "Epoch [267/10000]: 100%|██████████| 322/322 [00:01<00:00, 220.39it/s, loss=0.572]\n"
     ]
    },
    {
     "name": "stdout",
     "output_type": "stream",
     "text": [
      "Epoch [268 / 10000]: Tain loss: 0.6070, Valid loss: 0.6643\n"
     ]
    },
    {
     "name": "stderr",
     "output_type": "stream",
     "text": [
      "Epoch [268/10000]: 100%|██████████| 322/322 [00:01<00:00, 223.76it/s, loss=0.571]\n"
     ]
    },
    {
     "name": "stdout",
     "output_type": "stream",
     "text": [
      "Epoch [269 / 10000]: Tain loss: 0.6069, Valid loss: 0.6646\n"
     ]
    },
    {
     "name": "stderr",
     "output_type": "stream",
     "text": [
      "Epoch [269/10000]: 100%|██████████| 322/322 [00:01<00:00, 209.95it/s, loss=0.572]\n"
     ]
    },
    {
     "name": "stdout",
     "output_type": "stream",
     "text": [
      "Epoch [270 / 10000]: Tain loss: 0.6069, Valid loss: 0.6644\n"
     ]
    },
    {
     "name": "stderr",
     "output_type": "stream",
     "text": [
      "Epoch [270/10000]: 100%|██████████| 322/322 [00:01<00:00, 203.51it/s, loss=0.572]\n"
     ]
    },
    {
     "name": "stdout",
     "output_type": "stream",
     "text": [
      "Epoch [271 / 10000]: Tain loss: 0.6069, Valid loss: 0.6646\n"
     ]
    },
    {
     "name": "stderr",
     "output_type": "stream",
     "text": [
      "Epoch [271/10000]: 100%|██████████| 322/322 [00:01<00:00, 209.17it/s, loss=0.571]\n"
     ]
    },
    {
     "name": "stdout",
     "output_type": "stream",
     "text": [
      "Epoch [272 / 10000]: Tain loss: 0.6068, Valid loss: 0.6647\n"
     ]
    },
    {
     "name": "stderr",
     "output_type": "stream",
     "text": [
      "Epoch [272/10000]: 100%|██████████| 322/322 [00:01<00:00, 207.00it/s, loss=0.571]\n"
     ]
    },
    {
     "name": "stdout",
     "output_type": "stream",
     "text": [
      "Epoch [273 / 10000]: Tain loss: 0.6067, Valid loss: 0.6647\n"
     ]
    },
    {
     "name": "stderr",
     "output_type": "stream",
     "text": [
      "Epoch [273/10000]: 100%|██████████| 322/322 [00:01<00:00, 202.14it/s, loss=0.571]\n"
     ]
    },
    {
     "name": "stdout",
     "output_type": "stream",
     "text": [
      "Epoch [274 / 10000]: Tain loss: 0.6067, Valid loss: 0.6646\n"
     ]
    },
    {
     "name": "stderr",
     "output_type": "stream",
     "text": [
      "Epoch [274/10000]: 100%|██████████| 322/322 [00:01<00:00, 220.90it/s, loss=0.571]\n"
     ]
    },
    {
     "name": "stdout",
     "output_type": "stream",
     "text": [
      "Epoch [275 / 10000]: Tain loss: 0.6067, Valid loss: 0.6647\n"
     ]
    },
    {
     "name": "stderr",
     "output_type": "stream",
     "text": [
      "Epoch [275/10000]: 100%|██████████| 322/322 [00:01<00:00, 216.60it/s, loss=0.572]\n"
     ]
    },
    {
     "name": "stdout",
     "output_type": "stream",
     "text": [
      "Epoch [276 / 10000]: Tain loss: 0.6067, Valid loss: 0.6647\n"
     ]
    },
    {
     "name": "stderr",
     "output_type": "stream",
     "text": [
      "Epoch [276/10000]: 100%|██████████| 322/322 [00:01<00:00, 205.77it/s, loss=0.572]\n"
     ]
    },
    {
     "name": "stdout",
     "output_type": "stream",
     "text": [
      "Epoch [277 / 10000]: Tain loss: 0.6067, Valid loss: 0.6649\n"
     ]
    },
    {
     "name": "stderr",
     "output_type": "stream",
     "text": [
      "Epoch [277/10000]: 100%|██████████| 322/322 [00:01<00:00, 208.54it/s, loss=0.571]\n"
     ]
    },
    {
     "name": "stdout",
     "output_type": "stream",
     "text": [
      "Epoch [278 / 10000]: Tain loss: 0.6066, Valid loss: 0.6647\n"
     ]
    },
    {
     "name": "stderr",
     "output_type": "stream",
     "text": [
      "Epoch [278/10000]: 100%|██████████| 322/322 [00:01<00:00, 213.52it/s, loss=0.572]\n"
     ]
    },
    {
     "name": "stdout",
     "output_type": "stream",
     "text": [
      "Epoch [279 / 10000]: Tain loss: 0.6066, Valid loss: 0.6648\n"
     ]
    },
    {
     "name": "stderr",
     "output_type": "stream",
     "text": [
      "Epoch [279/10000]: 100%|██████████| 322/322 [00:01<00:00, 216.85it/s, loss=0.571]\n"
     ]
    },
    {
     "name": "stdout",
     "output_type": "stream",
     "text": [
      "Epoch [280 / 10000]: Tain loss: 0.6065, Valid loss: 0.6649\n"
     ]
    },
    {
     "name": "stderr",
     "output_type": "stream",
     "text": [
      "Epoch [280/10000]: 100%|██████████| 322/322 [00:01<00:00, 211.00it/s, loss=0.572]\n"
     ]
    },
    {
     "name": "stdout",
     "output_type": "stream",
     "text": [
      "Epoch [281 / 10000]: Tain loss: 0.6065, Valid loss: 0.6649\n"
     ]
    },
    {
     "name": "stderr",
     "output_type": "stream",
     "text": [
      "Epoch [281/10000]: 100%|██████████| 322/322 [00:01<00:00, 202.66it/s, loss=0.571]\n"
     ]
    },
    {
     "name": "stdout",
     "output_type": "stream",
     "text": [
      "Epoch [282 / 10000]: Tain loss: 0.6065, Valid loss: 0.6649\n"
     ]
    },
    {
     "name": "stderr",
     "output_type": "stream",
     "text": [
      "Epoch [282/10000]: 100%|██████████| 322/322 [00:01<00:00, 203.08it/s, loss=0.571]\n"
     ]
    },
    {
     "name": "stdout",
     "output_type": "stream",
     "text": [
      "Epoch [283 / 10000]: Tain loss: 0.6065, Valid loss: 0.6650\n"
     ]
    },
    {
     "name": "stderr",
     "output_type": "stream",
     "text": [
      "Epoch [283/10000]: 100%|██████████| 322/322 [00:01<00:00, 213.88it/s, loss=0.571]\n"
     ]
    },
    {
     "name": "stdout",
     "output_type": "stream",
     "text": [
      "Epoch [284 / 10000]: Tain loss: 0.6064, Valid loss: 0.6651\n"
     ]
    },
    {
     "name": "stderr",
     "output_type": "stream",
     "text": [
      "Epoch [284/10000]: 100%|██████████| 322/322 [00:01<00:00, 221.31it/s, loss=0.571]\n"
     ]
    },
    {
     "name": "stdout",
     "output_type": "stream",
     "text": [
      "Epoch [285 / 10000]: Tain loss: 0.6064, Valid loss: 0.6650\n"
     ]
    },
    {
     "name": "stderr",
     "output_type": "stream",
     "text": [
      "Epoch [285/10000]: 100%|██████████| 322/322 [00:01<00:00, 222.37it/s, loss=0.571]\n"
     ]
    },
    {
     "name": "stdout",
     "output_type": "stream",
     "text": [
      "Epoch [286 / 10000]: Tain loss: 0.6063, Valid loss: 0.6652\n"
     ]
    },
    {
     "name": "stderr",
     "output_type": "stream",
     "text": [
      "Epoch [286/10000]: 100%|██████████| 322/322 [00:01<00:00, 223.30it/s, loss=0.571]\n"
     ]
    },
    {
     "name": "stdout",
     "output_type": "stream",
     "text": [
      "Epoch [287 / 10000]: Tain loss: 0.6063, Valid loss: 0.6652\n"
     ]
    },
    {
     "name": "stderr",
     "output_type": "stream",
     "text": [
      "Epoch [287/10000]: 100%|██████████| 322/322 [00:01<00:00, 220.95it/s, loss=0.571]\n"
     ]
    },
    {
     "name": "stdout",
     "output_type": "stream",
     "text": [
      "Epoch [288 / 10000]: Tain loss: 0.6063, Valid loss: 0.6653\n"
     ]
    },
    {
     "name": "stderr",
     "output_type": "stream",
     "text": [
      "Epoch [288/10000]: 100%|██████████| 322/322 [00:01<00:00, 223.63it/s, loss=0.571]\n"
     ]
    },
    {
     "name": "stdout",
     "output_type": "stream",
     "text": [
      "Epoch [289 / 10000]: Tain loss: 0.6063, Valid loss: 0.6652\n"
     ]
    },
    {
     "name": "stderr",
     "output_type": "stream",
     "text": [
      "Epoch [289/10000]: 100%|██████████| 322/322 [00:01<00:00, 222.74it/s, loss=0.571]\n"
     ]
    },
    {
     "name": "stdout",
     "output_type": "stream",
     "text": [
      "Epoch [290 / 10000]: Tain loss: 0.6063, Valid loss: 0.6654\n"
     ]
    },
    {
     "name": "stderr",
     "output_type": "stream",
     "text": [
      "Epoch [290/10000]: 100%|██████████| 322/322 [00:01<00:00, 224.32it/s, loss=0.571]\n"
     ]
    },
    {
     "name": "stdout",
     "output_type": "stream",
     "text": [
      "Epoch [291 / 10000]: Tain loss: 0.6062, Valid loss: 0.6654\n"
     ]
    },
    {
     "name": "stderr",
     "output_type": "stream",
     "text": [
      "Epoch [291/10000]: 100%|██████████| 322/322 [00:01<00:00, 223.87it/s, loss=0.571]\n"
     ]
    },
    {
     "name": "stdout",
     "output_type": "stream",
     "text": [
      "Epoch [292 / 10000]: Tain loss: 0.6062, Valid loss: 0.6652\n"
     ]
    },
    {
     "name": "stderr",
     "output_type": "stream",
     "text": [
      "Epoch [292/10000]: 100%|██████████| 322/322 [00:01<00:00, 225.37it/s, loss=0.571]\n"
     ]
    },
    {
     "name": "stdout",
     "output_type": "stream",
     "text": [
      "Epoch [293 / 10000]: Tain loss: 0.6062, Valid loss: 0.6654\n"
     ]
    },
    {
     "name": "stderr",
     "output_type": "stream",
     "text": [
      "Epoch [293/10000]: 100%|██████████| 322/322 [00:01<00:00, 217.48it/s, loss=0.571]\n"
     ]
    },
    {
     "name": "stdout",
     "output_type": "stream",
     "text": [
      "Epoch [294 / 10000]: Tain loss: 0.6062, Valid loss: 0.6655\n"
     ]
    },
    {
     "name": "stderr",
     "output_type": "stream",
     "text": [
      "Epoch [294/10000]: 100%|██████████| 322/322 [00:01<00:00, 223.57it/s, loss=0.571]\n"
     ]
    },
    {
     "name": "stdout",
     "output_type": "stream",
     "text": [
      "Epoch [295 / 10000]: Tain loss: 0.6061, Valid loss: 0.6656\n"
     ]
    },
    {
     "name": "stderr",
     "output_type": "stream",
     "text": [
      "Epoch [295/10000]: 100%|██████████| 322/322 [00:01<00:00, 221.82it/s, loss=0.57] \n"
     ]
    },
    {
     "name": "stdout",
     "output_type": "stream",
     "text": [
      "Epoch [296 / 10000]: Tain loss: 0.6061, Valid loss: 0.6656\n"
     ]
    },
    {
     "name": "stderr",
     "output_type": "stream",
     "text": [
      "Epoch [296/10000]: 100%|██████████| 322/322 [00:01<00:00, 209.43it/s, loss=0.571]\n"
     ]
    },
    {
     "name": "stdout",
     "output_type": "stream",
     "text": [
      "Epoch [297 / 10000]: Tain loss: 0.6061, Valid loss: 0.6656\n"
     ]
    },
    {
     "name": "stderr",
     "output_type": "stream",
     "text": [
      "Epoch [297/10000]: 100%|██████████| 322/322 [00:01<00:00, 206.55it/s, loss=0.571]\n"
     ]
    },
    {
     "name": "stdout",
     "output_type": "stream",
     "text": [
      "Epoch [298 / 10000]: Tain loss: 0.6060, Valid loss: 0.6655\n"
     ]
    },
    {
     "name": "stderr",
     "output_type": "stream",
     "text": [
      "Epoch [298/10000]: 100%|██████████| 322/322 [00:01<00:00, 204.59it/s, loss=0.57] \n"
     ]
    },
    {
     "name": "stdout",
     "output_type": "stream",
     "text": [
      "Epoch [299 / 10000]: Tain loss: 0.6060, Valid loss: 0.6658\n"
     ]
    },
    {
     "name": "stderr",
     "output_type": "stream",
     "text": [
      "Epoch [299/10000]: 100%|██████████| 322/322 [00:01<00:00, 207.95it/s, loss=0.571]\n"
     ]
    },
    {
     "name": "stdout",
     "output_type": "stream",
     "text": [
      "Epoch [300 / 10000]: Tain loss: 0.6060, Valid loss: 0.6656\n"
     ]
    },
    {
     "name": "stderr",
     "output_type": "stream",
     "text": [
      "Epoch [300/10000]: 100%|██████████| 322/322 [00:01<00:00, 206.43it/s, loss=0.571]\n"
     ]
    },
    {
     "name": "stdout",
     "output_type": "stream",
     "text": [
      "Epoch [301 / 10000]: Tain loss: 0.6060, Valid loss: 0.6659\n"
     ]
    },
    {
     "name": "stderr",
     "output_type": "stream",
     "text": [
      "Epoch [301/10000]: 100%|██████████| 322/322 [00:01<00:00, 206.43it/s, loss=0.571]\n"
     ]
    },
    {
     "name": "stdout",
     "output_type": "stream",
     "text": [
      "Epoch [302 / 10000]: Tain loss: 0.6059, Valid loss: 0.6655\n"
     ]
    },
    {
     "name": "stderr",
     "output_type": "stream",
     "text": [
      "Epoch [302/10000]: 100%|██████████| 322/322 [00:01<00:00, 207.42it/s, loss=0.571]\n"
     ]
    },
    {
     "name": "stdout",
     "output_type": "stream",
     "text": [
      "Epoch [303 / 10000]: Tain loss: 0.6058, Valid loss: 0.6658\n"
     ]
    },
    {
     "name": "stderr",
     "output_type": "stream",
     "text": [
      "Epoch [303/10000]: 100%|██████████| 322/322 [00:01<00:00, 207.40it/s, loss=0.571]\n"
     ]
    },
    {
     "name": "stdout",
     "output_type": "stream",
     "text": [
      "Epoch [304 / 10000]: Tain loss: 0.6058, Valid loss: 0.6657\n"
     ]
    },
    {
     "name": "stderr",
     "output_type": "stream",
     "text": [
      "Epoch [304/10000]: 100%|██████████| 322/322 [00:01<00:00, 204.57it/s, loss=0.571]\n"
     ]
    },
    {
     "name": "stdout",
     "output_type": "stream",
     "text": [
      "Epoch [305 / 10000]: Tain loss: 0.6058, Valid loss: 0.6659\n"
     ]
    },
    {
     "name": "stderr",
     "output_type": "stream",
     "text": [
      "Epoch [305/10000]: 100%|██████████| 322/322 [00:01<00:00, 204.55it/s, loss=0.57] \n"
     ]
    },
    {
     "name": "stdout",
     "output_type": "stream",
     "text": [
      "Epoch [306 / 10000]: Tain loss: 0.6058, Valid loss: 0.6658\n"
     ]
    },
    {
     "name": "stderr",
     "output_type": "stream",
     "text": [
      "Epoch [306/10000]: 100%|██████████| 322/322 [00:01<00:00, 205.33it/s, loss=0.57] \n"
     ]
    },
    {
     "name": "stdout",
     "output_type": "stream",
     "text": [
      "Epoch [307 / 10000]: Tain loss: 0.6058, Valid loss: 0.6659\n"
     ]
    },
    {
     "name": "stderr",
     "output_type": "stream",
     "text": [
      "Epoch [307/10000]: 100%|██████████| 322/322 [00:01<00:00, 210.79it/s, loss=0.571]\n"
     ]
    },
    {
     "name": "stdout",
     "output_type": "stream",
     "text": [
      "Epoch [308 / 10000]: Tain loss: 0.6058, Valid loss: 0.6660\n"
     ]
    },
    {
     "name": "stderr",
     "output_type": "stream",
     "text": [
      "Epoch [308/10000]: 100%|██████████| 322/322 [00:01<00:00, 205.90it/s, loss=0.57] \n"
     ]
    },
    {
     "name": "stdout",
     "output_type": "stream",
     "text": [
      "Epoch [309 / 10000]: Tain loss: 0.6058, Valid loss: 0.6659\n"
     ]
    },
    {
     "name": "stderr",
     "output_type": "stream",
     "text": [
      "Epoch [309/10000]: 100%|██████████| 322/322 [00:01<00:00, 206.83it/s, loss=0.57] \n"
     ]
    },
    {
     "name": "stdout",
     "output_type": "stream",
     "text": [
      "Epoch [310 / 10000]: Tain loss: 0.6056, Valid loss: 0.6661\n"
     ]
    },
    {
     "name": "stderr",
     "output_type": "stream",
     "text": [
      "Epoch [310/10000]: 100%|██████████| 322/322 [00:01<00:00, 213.73it/s, loss=0.57] \n"
     ]
    },
    {
     "name": "stdout",
     "output_type": "stream",
     "text": [
      "Epoch [311 / 10000]: Tain loss: 0.6056, Valid loss: 0.6659\n"
     ]
    },
    {
     "name": "stderr",
     "output_type": "stream",
     "text": [
      "Epoch [311/10000]: 100%|██████████| 322/322 [00:01<00:00, 223.98it/s, loss=0.57] \n"
     ]
    },
    {
     "name": "stdout",
     "output_type": "stream",
     "text": [
      "Epoch [312 / 10000]: Tain loss: 0.6057, Valid loss: 0.6662\n"
     ]
    },
    {
     "name": "stderr",
     "output_type": "stream",
     "text": [
      "Epoch [312/10000]: 100%|██████████| 322/322 [00:01<00:00, 223.84it/s, loss=0.571]\n"
     ]
    },
    {
     "name": "stdout",
     "output_type": "stream",
     "text": [
      "Epoch [313 / 10000]: Tain loss: 0.6056, Valid loss: 0.6660\n"
     ]
    },
    {
     "name": "stderr",
     "output_type": "stream",
     "text": [
      "Epoch [313/10000]: 100%|██████████| 322/322 [00:01<00:00, 225.34it/s, loss=0.57] \n"
     ]
    },
    {
     "name": "stdout",
     "output_type": "stream",
     "text": [
      "Epoch [314 / 10000]: Tain loss: 0.6056, Valid loss: 0.6661\n"
     ]
    },
    {
     "name": "stderr",
     "output_type": "stream",
     "text": [
      "Epoch [314/10000]: 100%|██████████| 322/322 [00:01<00:00, 223.85it/s, loss=0.57] \n"
     ]
    },
    {
     "name": "stdout",
     "output_type": "stream",
     "text": [
      "Epoch [315 / 10000]: Tain loss: 0.6055, Valid loss: 0.6662\n"
     ]
    },
    {
     "name": "stderr",
     "output_type": "stream",
     "text": [
      "Epoch [315/10000]: 100%|██████████| 322/322 [00:01<00:00, 223.02it/s, loss=0.57] \n"
     ]
    },
    {
     "name": "stdout",
     "output_type": "stream",
     "text": [
      "Epoch [316 / 10000]: Tain loss: 0.6055, Valid loss: 0.6663\n"
     ]
    },
    {
     "name": "stderr",
     "output_type": "stream",
     "text": [
      "Epoch [316/10000]: 100%|██████████| 322/322 [00:01<00:00, 219.29it/s, loss=0.57] \n"
     ]
    },
    {
     "name": "stdout",
     "output_type": "stream",
     "text": [
      "Epoch [317 / 10000]: Tain loss: 0.6055, Valid loss: 0.6663\n"
     ]
    },
    {
     "name": "stderr",
     "output_type": "stream",
     "text": [
      "Epoch [317/10000]: 100%|██████████| 322/322 [00:01<00:00, 226.04it/s, loss=0.57] \n"
     ]
    },
    {
     "name": "stdout",
     "output_type": "stream",
     "text": [
      "Epoch [318 / 10000]: Tain loss: 0.6055, Valid loss: 0.6663\n"
     ]
    },
    {
     "name": "stderr",
     "output_type": "stream",
     "text": [
      "Epoch [318/10000]: 100%|██████████| 322/322 [00:01<00:00, 222.52it/s, loss=0.57] \n"
     ]
    },
    {
     "name": "stdout",
     "output_type": "stream",
     "text": [
      "Epoch [319 / 10000]: Tain loss: 0.6054, Valid loss: 0.6662\n"
     ]
    },
    {
     "name": "stderr",
     "output_type": "stream",
     "text": [
      "Epoch [319/10000]: 100%|██████████| 322/322 [00:01<00:00, 225.19it/s, loss=0.57] \n"
     ]
    },
    {
     "name": "stdout",
     "output_type": "stream",
     "text": [
      "Epoch [320 / 10000]: Tain loss: 0.6054, Valid loss: 0.6664\n"
     ]
    },
    {
     "name": "stderr",
     "output_type": "stream",
     "text": [
      "Epoch [320/10000]: 100%|██████████| 322/322 [00:01<00:00, 217.43it/s, loss=0.57] \n"
     ]
    },
    {
     "name": "stdout",
     "output_type": "stream",
     "text": [
      "Epoch [321 / 10000]: Tain loss: 0.6054, Valid loss: 0.6665\n"
     ]
    },
    {
     "name": "stderr",
     "output_type": "stream",
     "text": [
      "Epoch [321/10000]: 100%|██████████| 322/322 [00:01<00:00, 196.25it/s, loss=0.571]\n"
     ]
    },
    {
     "name": "stdout",
     "output_type": "stream",
     "text": [
      "Epoch [322 / 10000]: Tain loss: 0.6053, Valid loss: 0.6665\n"
     ]
    },
    {
     "name": "stderr",
     "output_type": "stream",
     "text": [
      "Epoch [322/10000]: 100%|██████████| 322/322 [00:01<00:00, 200.09it/s, loss=0.57] \n"
     ]
    },
    {
     "name": "stdout",
     "output_type": "stream",
     "text": [
      "Epoch [323 / 10000]: Tain loss: 0.6053, Valid loss: 0.6664\n"
     ]
    },
    {
     "name": "stderr",
     "output_type": "stream",
     "text": [
      "Epoch [323/10000]: 100%|██████████| 322/322 [00:01<00:00, 205.77it/s, loss=0.57] \n"
     ]
    },
    {
     "name": "stdout",
     "output_type": "stream",
     "text": [
      "Epoch [324 / 10000]: Tain loss: 0.6053, Valid loss: 0.6665\n"
     ]
    },
    {
     "name": "stderr",
     "output_type": "stream",
     "text": [
      "Epoch [324/10000]: 100%|██████████| 322/322 [00:01<00:00, 205.41it/s, loss=0.569]\n"
     ]
    },
    {
     "name": "stdout",
     "output_type": "stream",
     "text": [
      "Epoch [325 / 10000]: Tain loss: 0.6053, Valid loss: 0.6665\n"
     ]
    },
    {
     "name": "stderr",
     "output_type": "stream",
     "text": [
      "Epoch [325/10000]: 100%|██████████| 322/322 [00:01<00:00, 205.84it/s, loss=0.57] \n"
     ]
    },
    {
     "name": "stdout",
     "output_type": "stream",
     "text": [
      "Epoch [326 / 10000]: Tain loss: 0.6053, Valid loss: 0.6664\n"
     ]
    },
    {
     "name": "stderr",
     "output_type": "stream",
     "text": [
      "Epoch [326/10000]: 100%|██████████| 322/322 [00:01<00:00, 210.04it/s, loss=0.57] \n"
     ]
    },
    {
     "name": "stdout",
     "output_type": "stream",
     "text": [
      "Epoch [327 / 10000]: Tain loss: 0.6053, Valid loss: 0.6666\n"
     ]
    },
    {
     "name": "stderr",
     "output_type": "stream",
     "text": [
      "Epoch [327/10000]: 100%|██████████| 322/322 [00:01<00:00, 202.29it/s, loss=0.57] \n"
     ]
    },
    {
     "name": "stdout",
     "output_type": "stream",
     "text": [
      "Epoch [328 / 10000]: Tain loss: 0.6052, Valid loss: 0.6666\n"
     ]
    },
    {
     "name": "stderr",
     "output_type": "stream",
     "text": [
      "Epoch [328/10000]: 100%|██████████| 322/322 [00:01<00:00, 207.29it/s, loss=0.569]\n"
     ]
    },
    {
     "name": "stdout",
     "output_type": "stream",
     "text": [
      "Epoch [329 / 10000]: Tain loss: 0.6052, Valid loss: 0.6666\n"
     ]
    },
    {
     "name": "stderr",
     "output_type": "stream",
     "text": [
      "Epoch [329/10000]: 100%|██████████| 322/322 [00:01<00:00, 205.05it/s, loss=0.57] \n"
     ]
    },
    {
     "name": "stdout",
     "output_type": "stream",
     "text": [
      "Epoch [330 / 10000]: Tain loss: 0.6051, Valid loss: 0.6666\n"
     ]
    },
    {
     "name": "stderr",
     "output_type": "stream",
     "text": [
      "Epoch [330/10000]: 100%|██████████| 322/322 [00:01<00:00, 199.71it/s, loss=0.57] \n"
     ]
    },
    {
     "name": "stdout",
     "output_type": "stream",
     "text": [
      "Epoch [331 / 10000]: Tain loss: 0.6051, Valid loss: 0.6666\n"
     ]
    },
    {
     "name": "stderr",
     "output_type": "stream",
     "text": [
      "Epoch [331/10000]: 100%|██████████| 322/322 [00:01<00:00, 216.02it/s, loss=0.569]\n"
     ]
    },
    {
     "name": "stdout",
     "output_type": "stream",
     "text": [
      "Epoch [332 / 10000]: Tain loss: 0.6051, Valid loss: 0.6667\n"
     ]
    },
    {
     "name": "stderr",
     "output_type": "stream",
     "text": [
      "Epoch [332/10000]: 100%|██████████| 322/322 [00:01<00:00, 204.80it/s, loss=0.57] \n"
     ]
    },
    {
     "name": "stdout",
     "output_type": "stream",
     "text": [
      "Epoch [333 / 10000]: Tain loss: 0.6051, Valid loss: 0.6666\n"
     ]
    },
    {
     "name": "stderr",
     "output_type": "stream",
     "text": [
      "Epoch [333/10000]: 100%|██████████| 322/322 [00:01<00:00, 189.88it/s, loss=0.569]\n"
     ]
    },
    {
     "name": "stdout",
     "output_type": "stream",
     "text": [
      "Epoch [334 / 10000]: Tain loss: 0.6050, Valid loss: 0.6667\n"
     ]
    },
    {
     "name": "stderr",
     "output_type": "stream",
     "text": [
      "Epoch [334/10000]: 100%|██████████| 322/322 [00:01<00:00, 198.69it/s, loss=0.569]\n"
     ]
    },
    {
     "name": "stdout",
     "output_type": "stream",
     "text": [
      "Epoch [335 / 10000]: Tain loss: 0.6051, Valid loss: 0.6667\n"
     ]
    },
    {
     "name": "stderr",
     "output_type": "stream",
     "text": [
      "Epoch [335/10000]: 100%|██████████| 322/322 [00:01<00:00, 202.26it/s, loss=0.569]\n"
     ]
    },
    {
     "name": "stdout",
     "output_type": "stream",
     "text": [
      "Epoch [336 / 10000]: Tain loss: 0.6051, Valid loss: 0.6668\n"
     ]
    },
    {
     "name": "stderr",
     "output_type": "stream",
     "text": [
      "Epoch [336/10000]: 100%|██████████| 322/322 [00:01<00:00, 206.70it/s, loss=0.569]\n"
     ]
    },
    {
     "name": "stdout",
     "output_type": "stream",
     "text": [
      "Epoch [337 / 10000]: Tain loss: 0.6050, Valid loss: 0.6667\n"
     ]
    },
    {
     "name": "stderr",
     "output_type": "stream",
     "text": [
      "Epoch [337/10000]: 100%|██████████| 322/322 [00:01<00:00, 218.39it/s, loss=0.569]\n"
     ]
    },
    {
     "name": "stdout",
     "output_type": "stream",
     "text": [
      "Epoch [338 / 10000]: Tain loss: 0.6049, Valid loss: 0.6667\n"
     ]
    },
    {
     "name": "stderr",
     "output_type": "stream",
     "text": [
      "Epoch [338/10000]: 100%|██████████| 322/322 [00:01<00:00, 223.22it/s, loss=0.57] \n"
     ]
    },
    {
     "name": "stdout",
     "output_type": "stream",
     "text": [
      "Epoch [339 / 10000]: Tain loss: 0.6049, Valid loss: 0.6669\n"
     ]
    },
    {
     "name": "stderr",
     "output_type": "stream",
     "text": [
      "Epoch [339/10000]: 100%|██████████| 322/322 [00:01<00:00, 218.14it/s, loss=0.569]\n"
     ]
    },
    {
     "name": "stdout",
     "output_type": "stream",
     "text": [
      "Epoch [340 / 10000]: Tain loss: 0.6049, Valid loss: 0.6668\n"
     ]
    },
    {
     "name": "stderr",
     "output_type": "stream",
     "text": [
      "Epoch [340/10000]: 100%|██████████| 322/322 [00:01<00:00, 220.78it/s, loss=0.569]\n"
     ]
    },
    {
     "name": "stdout",
     "output_type": "stream",
     "text": [
      "Epoch [341 / 10000]: Tain loss: 0.6049, Valid loss: 0.6669\n"
     ]
    },
    {
     "name": "stderr",
     "output_type": "stream",
     "text": [
      "Epoch [341/10000]: 100%|██████████| 322/322 [00:01<00:00, 222.00it/s, loss=0.57] \n"
     ]
    },
    {
     "name": "stdout",
     "output_type": "stream",
     "text": [
      "Epoch [342 / 10000]: Tain loss: 0.6049, Valid loss: 0.6669\n"
     ]
    },
    {
     "name": "stderr",
     "output_type": "stream",
     "text": [
      "Epoch [342/10000]: 100%|██████████| 322/322 [00:01<00:00, 220.62it/s, loss=0.569]\n"
     ]
    },
    {
     "name": "stdout",
     "output_type": "stream",
     "text": [
      "Epoch [343 / 10000]: Tain loss: 0.6048, Valid loss: 0.6668\n"
     ]
    },
    {
     "name": "stderr",
     "output_type": "stream",
     "text": [
      "Epoch [343/10000]: 100%|██████████| 322/322 [00:01<00:00, 219.48it/s, loss=0.57] \n"
     ]
    },
    {
     "name": "stdout",
     "output_type": "stream",
     "text": [
      "Epoch [344 / 10000]: Tain loss: 0.6048, Valid loss: 0.6669\n"
     ]
    },
    {
     "name": "stderr",
     "output_type": "stream",
     "text": [
      "Epoch [344/10000]: 100%|██████████| 322/322 [00:01<00:00, 221.97it/s, loss=0.57] \n"
     ]
    },
    {
     "name": "stdout",
     "output_type": "stream",
     "text": [
      "Epoch [345 / 10000]: Tain loss: 0.6048, Valid loss: 0.6669\n"
     ]
    },
    {
     "name": "stderr",
     "output_type": "stream",
     "text": [
      "Epoch [345/10000]: 100%|██████████| 322/322 [00:01<00:00, 221.23it/s, loss=0.57] \n"
     ]
    },
    {
     "name": "stdout",
     "output_type": "stream",
     "text": [
      "Epoch [346 / 10000]: Tain loss: 0.6048, Valid loss: 0.6670\n"
     ]
    },
    {
     "name": "stderr",
     "output_type": "stream",
     "text": [
      "Epoch [346/10000]: 100%|██████████| 322/322 [00:01<00:00, 222.43it/s, loss=0.569]\n"
     ]
    },
    {
     "name": "stdout",
     "output_type": "stream",
     "text": [
      "Epoch [347 / 10000]: Tain loss: 0.6048, Valid loss: 0.6669\n"
     ]
    },
    {
     "name": "stderr",
     "output_type": "stream",
     "text": [
      "Epoch [347/10000]: 100%|██████████| 322/322 [00:01<00:00, 219.85it/s, loss=0.569]\n"
     ]
    },
    {
     "name": "stdout",
     "output_type": "stream",
     "text": [
      "Epoch [348 / 10000]: Tain loss: 0.6047, Valid loss: 0.6670\n"
     ]
    },
    {
     "name": "stderr",
     "output_type": "stream",
     "text": [
      "Epoch [348/10000]: 100%|██████████| 322/322 [00:01<00:00, 222.98it/s, loss=0.569]\n"
     ]
    },
    {
     "name": "stdout",
     "output_type": "stream",
     "text": [
      "Epoch [349 / 10000]: Tain loss: 0.6047, Valid loss: 0.6670\n"
     ]
    },
    {
     "name": "stderr",
     "output_type": "stream",
     "text": [
      "Epoch [349/10000]: 100%|██████████| 322/322 [00:01<00:00, 222.60it/s, loss=0.569]\n"
     ]
    },
    {
     "name": "stdout",
     "output_type": "stream",
     "text": [
      "Epoch [350 / 10000]: Tain loss: 0.6047, Valid loss: 0.6671\n"
     ]
    },
    {
     "name": "stderr",
     "output_type": "stream",
     "text": [
      "Epoch [350/10000]: 100%|██████████| 322/322 [00:01<00:00, 220.82it/s, loss=0.569]\n"
     ]
    },
    {
     "name": "stdout",
     "output_type": "stream",
     "text": [
      "Epoch [351 / 10000]: Tain loss: 0.6047, Valid loss: 0.6671\n"
     ]
    },
    {
     "name": "stderr",
     "output_type": "stream",
     "text": [
      "Epoch [351/10000]: 100%|██████████| 322/322 [00:01<00:00, 217.04it/s, loss=0.569]\n"
     ]
    },
    {
     "name": "stdout",
     "output_type": "stream",
     "text": [
      "Epoch [352 / 10000]: Tain loss: 0.6046, Valid loss: 0.6671\n"
     ]
    },
    {
     "name": "stderr",
     "output_type": "stream",
     "text": [
      "Epoch [352/10000]: 100%|██████████| 322/322 [00:01<00:00, 212.95it/s, loss=0.569]\n"
     ]
    },
    {
     "name": "stdout",
     "output_type": "stream",
     "text": [
      "Epoch [353 / 10000]: Tain loss: 0.6045, Valid loss: 0.6671\n"
     ]
    },
    {
     "name": "stderr",
     "output_type": "stream",
     "text": [
      "Epoch [353/10000]: 100%|██████████| 322/322 [00:01<00:00, 207.18it/s, loss=0.569]\n"
     ]
    },
    {
     "name": "stdout",
     "output_type": "stream",
     "text": [
      "Epoch [354 / 10000]: Tain loss: 0.6045, Valid loss: 0.6672\n"
     ]
    },
    {
     "name": "stderr",
     "output_type": "stream",
     "text": [
      "Epoch [354/10000]: 100%|██████████| 322/322 [00:01<00:00, 216.25it/s, loss=0.569]\n"
     ]
    },
    {
     "name": "stdout",
     "output_type": "stream",
     "text": [
      "Epoch [355 / 10000]: Tain loss: 0.6045, Valid loss: 0.6672\n"
     ]
    },
    {
     "name": "stderr",
     "output_type": "stream",
     "text": [
      "Epoch [355/10000]: 100%|██████████| 322/322 [00:01<00:00, 214.23it/s, loss=0.569]\n"
     ]
    },
    {
     "name": "stdout",
     "output_type": "stream",
     "text": [
      "Epoch [356 / 10000]: Tain loss: 0.6045, Valid loss: 0.6672\n"
     ]
    },
    {
     "name": "stderr",
     "output_type": "stream",
     "text": [
      "Epoch [356/10000]: 100%|██████████| 322/322 [00:01<00:00, 218.06it/s, loss=0.569]\n"
     ]
    },
    {
     "name": "stdout",
     "output_type": "stream",
     "text": [
      "Epoch [357 / 10000]: Tain loss: 0.6046, Valid loss: 0.6673\n"
     ]
    },
    {
     "name": "stderr",
     "output_type": "stream",
     "text": [
      "Epoch [357/10000]: 100%|██████████| 322/322 [00:01<00:00, 205.67it/s, loss=0.569]\n"
     ]
    },
    {
     "name": "stdout",
     "output_type": "stream",
     "text": [
      "Epoch [358 / 10000]: Tain loss: 0.6045, Valid loss: 0.6672\n"
     ]
    },
    {
     "name": "stderr",
     "output_type": "stream",
     "text": [
      "Epoch [358/10000]: 100%|██████████| 322/322 [00:01<00:00, 222.01it/s, loss=0.569]\n"
     ]
    },
    {
     "name": "stdout",
     "output_type": "stream",
     "text": [
      "Epoch [359 / 10000]: Tain loss: 0.6045, Valid loss: 0.6673\n"
     ]
    },
    {
     "name": "stderr",
     "output_type": "stream",
     "text": [
      "Epoch [359/10000]: 100%|██████████| 322/322 [00:01<00:00, 223.46it/s, loss=0.569]\n"
     ]
    },
    {
     "name": "stdout",
     "output_type": "stream",
     "text": [
      "Epoch [360 / 10000]: Tain loss: 0.6045, Valid loss: 0.6673\n"
     ]
    },
    {
     "name": "stderr",
     "output_type": "stream",
     "text": [
      "Epoch [360/10000]: 100%|██████████| 322/322 [00:01<00:00, 220.14it/s, loss=0.569]\n"
     ]
    },
    {
     "name": "stdout",
     "output_type": "stream",
     "text": [
      "Epoch [361 / 10000]: Tain loss: 0.6044, Valid loss: 0.6675\n"
     ]
    },
    {
     "name": "stderr",
     "output_type": "stream",
     "text": [
      "Epoch [361/10000]: 100%|██████████| 322/322 [00:01<00:00, 224.81it/s, loss=0.569]\n"
     ]
    },
    {
     "name": "stdout",
     "output_type": "stream",
     "text": [
      "Epoch [362 / 10000]: Tain loss: 0.6044, Valid loss: 0.6675\n"
     ]
    },
    {
     "name": "stderr",
     "output_type": "stream",
     "text": [
      "Epoch [362/10000]: 100%|██████████| 322/322 [00:01<00:00, 225.99it/s, loss=0.568]\n"
     ]
    },
    {
     "name": "stdout",
     "output_type": "stream",
     "text": [
      "Epoch [363 / 10000]: Tain loss: 0.6044, Valid loss: 0.6674\n"
     ]
    },
    {
     "name": "stderr",
     "output_type": "stream",
     "text": [
      "Epoch [363/10000]: 100%|██████████| 322/322 [00:01<00:00, 224.19it/s, loss=0.569]\n"
     ]
    },
    {
     "name": "stdout",
     "output_type": "stream",
     "text": [
      "Epoch [364 / 10000]: Tain loss: 0.6044, Valid loss: 0.6676\n"
     ]
    },
    {
     "name": "stderr",
     "output_type": "stream",
     "text": [
      "Epoch [364/10000]: 100%|██████████| 322/322 [00:01<00:00, 225.78it/s, loss=0.569]\n"
     ]
    },
    {
     "name": "stdout",
     "output_type": "stream",
     "text": [
      "Epoch [365 / 10000]: Tain loss: 0.6043, Valid loss: 0.6675\n"
     ]
    },
    {
     "name": "stderr",
     "output_type": "stream",
     "text": [
      "Epoch [365/10000]: 100%|██████████| 322/322 [00:01<00:00, 223.59it/s, loss=0.569]\n"
     ]
    },
    {
     "name": "stdout",
     "output_type": "stream",
     "text": [
      "Epoch [366 / 10000]: Tain loss: 0.6043, Valid loss: 0.6676\n"
     ]
    },
    {
     "name": "stderr",
     "output_type": "stream",
     "text": [
      "Epoch [366/10000]: 100%|██████████| 322/322 [00:01<00:00, 219.99it/s, loss=0.569]\n"
     ]
    },
    {
     "name": "stdout",
     "output_type": "stream",
     "text": [
      "Epoch [367 / 10000]: Tain loss: 0.6043, Valid loss: 0.6675\n"
     ]
    },
    {
     "name": "stderr",
     "output_type": "stream",
     "text": [
      "Epoch [367/10000]: 100%|██████████| 322/322 [00:01<00:00, 224.70it/s, loss=0.568]\n"
     ]
    },
    {
     "name": "stdout",
     "output_type": "stream",
     "text": [
      "Epoch [368 / 10000]: Tain loss: 0.6042, Valid loss: 0.6677\n"
     ]
    },
    {
     "name": "stderr",
     "output_type": "stream",
     "text": [
      "Epoch [368/10000]: 100%|██████████| 322/322 [00:01<00:00, 223.21it/s, loss=0.568]\n"
     ]
    },
    {
     "name": "stdout",
     "output_type": "stream",
     "text": [
      "Epoch [369 / 10000]: Tain loss: 0.6042, Valid loss: 0.6676\n"
     ]
    },
    {
     "name": "stderr",
     "output_type": "stream",
     "text": [
      "Epoch [369/10000]: 100%|██████████| 322/322 [00:01<00:00, 220.83it/s, loss=0.569]\n"
     ]
    },
    {
     "name": "stdout",
     "output_type": "stream",
     "text": [
      "Epoch [370 / 10000]: Tain loss: 0.6042, Valid loss: 0.6677\n"
     ]
    },
    {
     "name": "stderr",
     "output_type": "stream",
     "text": [
      "Epoch [370/10000]: 100%|██████████| 322/322 [00:01<00:00, 221.42it/s, loss=0.569]\n"
     ]
    },
    {
     "name": "stdout",
     "output_type": "stream",
     "text": [
      "Epoch [371 / 10000]: Tain loss: 0.6042, Valid loss: 0.6677\n"
     ]
    },
    {
     "name": "stderr",
     "output_type": "stream",
     "text": [
      "Epoch [371/10000]: 100%|██████████| 322/322 [00:01<00:00, 224.16it/s, loss=0.569]\n"
     ]
    },
    {
     "name": "stdout",
     "output_type": "stream",
     "text": [
      "Epoch [372 / 10000]: Tain loss: 0.6042, Valid loss: 0.6678\n"
     ]
    },
    {
     "name": "stderr",
     "output_type": "stream",
     "text": [
      "Epoch [372/10000]: 100%|██████████| 322/322 [00:01<00:00, 223.62it/s, loss=0.569]\n"
     ]
    },
    {
     "name": "stdout",
     "output_type": "stream",
     "text": [
      "Epoch [373 / 10000]: Tain loss: 0.6042, Valid loss: 0.6677\n"
     ]
    },
    {
     "name": "stderr",
     "output_type": "stream",
     "text": [
      "Epoch [373/10000]: 100%|██████████| 322/322 [00:01<00:00, 223.50it/s, loss=0.568]\n"
     ]
    },
    {
     "name": "stdout",
     "output_type": "stream",
     "text": [
      "Epoch [374 / 10000]: Tain loss: 0.6041, Valid loss: 0.6679\n"
     ]
    },
    {
     "name": "stderr",
     "output_type": "stream",
     "text": [
      "Epoch [374/10000]: 100%|██████████| 322/322 [00:01<00:00, 224.57it/s, loss=0.568]\n"
     ]
    },
    {
     "name": "stdout",
     "output_type": "stream",
     "text": [
      "Epoch [375 / 10000]: Tain loss: 0.6041, Valid loss: 0.6679\n"
     ]
    },
    {
     "name": "stderr",
     "output_type": "stream",
     "text": [
      "Epoch [375/10000]: 100%|██████████| 322/322 [00:01<00:00, 220.49it/s, loss=0.568]\n"
     ]
    },
    {
     "name": "stdout",
     "output_type": "stream",
     "text": [
      "Epoch [376 / 10000]: Tain loss: 0.6041, Valid loss: 0.6679\n"
     ]
    },
    {
     "name": "stderr",
     "output_type": "stream",
     "text": [
      "Epoch [376/10000]: 100%|██████████| 322/322 [00:01<00:00, 222.29it/s, loss=0.568]\n"
     ]
    },
    {
     "name": "stdout",
     "output_type": "stream",
     "text": [
      "Epoch [377 / 10000]: Tain loss: 0.6041, Valid loss: 0.6680\n"
     ]
    },
    {
     "name": "stderr",
     "output_type": "stream",
     "text": [
      "Epoch [377/10000]: 100%|██████████| 322/322 [00:01<00:00, 222.49it/s, loss=0.568]\n"
     ]
    },
    {
     "name": "stdout",
     "output_type": "stream",
     "text": [
      "Epoch [378 / 10000]: Tain loss: 0.6041, Valid loss: 0.6680\n"
     ]
    },
    {
     "name": "stderr",
     "output_type": "stream",
     "text": [
      "Epoch [378/10000]: 100%|██████████| 322/322 [00:01<00:00, 224.70it/s, loss=0.568]\n"
     ]
    },
    {
     "name": "stdout",
     "output_type": "stream",
     "text": [
      "Epoch [379 / 10000]: Tain loss: 0.6040, Valid loss: 0.6680\n"
     ]
    },
    {
     "name": "stderr",
     "output_type": "stream",
     "text": [
      "Epoch [379/10000]: 100%|██████████| 322/322 [00:01<00:00, 224.57it/s, loss=0.568]\n"
     ]
    },
    {
     "name": "stdout",
     "output_type": "stream",
     "text": [
      "Epoch [380 / 10000]: Tain loss: 0.6040, Valid loss: 0.6681\n"
     ]
    },
    {
     "name": "stderr",
     "output_type": "stream",
     "text": [
      "Epoch [380/10000]: 100%|██████████| 322/322 [00:01<00:00, 220.80it/s, loss=0.568]\n"
     ]
    },
    {
     "name": "stdout",
     "output_type": "stream",
     "text": [
      "Epoch [381 / 10000]: Tain loss: 0.6040, Valid loss: 0.6681\n"
     ]
    },
    {
     "name": "stderr",
     "output_type": "stream",
     "text": [
      "Epoch [381/10000]: 100%|██████████| 322/322 [00:01<00:00, 221.73it/s, loss=0.568]\n"
     ]
    },
    {
     "name": "stdout",
     "output_type": "stream",
     "text": [
      "Epoch [382 / 10000]: Tain loss: 0.6040, Valid loss: 0.6682\n"
     ]
    },
    {
     "name": "stderr",
     "output_type": "stream",
     "text": [
      "Epoch [382/10000]: 100%|██████████| 322/322 [00:01<00:00, 223.73it/s, loss=0.569]\n"
     ]
    },
    {
     "name": "stdout",
     "output_type": "stream",
     "text": [
      "Epoch [383 / 10000]: Tain loss: 0.6039, Valid loss: 0.6681\n"
     ]
    },
    {
     "name": "stderr",
     "output_type": "stream",
     "text": [
      "Epoch [383/10000]: 100%|██████████| 322/322 [00:01<00:00, 220.78it/s, loss=0.568]\n"
     ]
    },
    {
     "name": "stdout",
     "output_type": "stream",
     "text": [
      "Epoch [384 / 10000]: Tain loss: 0.6039, Valid loss: 0.6682\n"
     ]
    },
    {
     "name": "stderr",
     "output_type": "stream",
     "text": [
      "Epoch [384/10000]: 100%|██████████| 322/322 [00:01<00:00, 225.85it/s, loss=0.568]\n"
     ]
    },
    {
     "name": "stdout",
     "output_type": "stream",
     "text": [
      "Epoch [385 / 10000]: Tain loss: 0.6039, Valid loss: 0.6682\n"
     ]
    },
    {
     "name": "stderr",
     "output_type": "stream",
     "text": [
      "Epoch [385/10000]: 100%|██████████| 322/322 [00:01<00:00, 225.99it/s, loss=0.568]\n"
     ]
    },
    {
     "name": "stdout",
     "output_type": "stream",
     "text": [
      "Epoch [386 / 10000]: Tain loss: 0.6039, Valid loss: 0.6682\n"
     ]
    },
    {
     "name": "stderr",
     "output_type": "stream",
     "text": [
      "Epoch [386/10000]: 100%|██████████| 322/322 [00:01<00:00, 221.88it/s, loss=0.568]\n"
     ]
    },
    {
     "name": "stdout",
     "output_type": "stream",
     "text": [
      "Epoch [387 / 10000]: Tain loss: 0.6038, Valid loss: 0.6682\n"
     ]
    },
    {
     "name": "stderr",
     "output_type": "stream",
     "text": [
      "Epoch [387/10000]: 100%|██████████| 322/322 [00:01<00:00, 222.41it/s, loss=0.568]\n"
     ]
    },
    {
     "name": "stdout",
     "output_type": "stream",
     "text": [
      "Epoch [388 / 10000]: Tain loss: 0.6038, Valid loss: 0.6683\n"
     ]
    },
    {
     "name": "stderr",
     "output_type": "stream",
     "text": [
      "Epoch [388/10000]: 100%|██████████| 322/322 [00:01<00:00, 223.76it/s, loss=0.568]\n"
     ]
    },
    {
     "name": "stdout",
     "output_type": "stream",
     "text": [
      "Epoch [389 / 10000]: Tain loss: 0.6038, Valid loss: 0.6682\n"
     ]
    },
    {
     "name": "stderr",
     "output_type": "stream",
     "text": [
      "Epoch [389/10000]: 100%|██████████| 322/322 [00:01<00:00, 223.73it/s, loss=0.568]\n"
     ]
    },
    {
     "name": "stdout",
     "output_type": "stream",
     "text": [
      "Epoch [390 / 10000]: Tain loss: 0.6038, Valid loss: 0.6683\n"
     ]
    },
    {
     "name": "stderr",
     "output_type": "stream",
     "text": [
      "Epoch [390/10000]: 100%|██████████| 322/322 [00:01<00:00, 226.72it/s, loss=0.568]\n"
     ]
    },
    {
     "name": "stdout",
     "output_type": "stream",
     "text": [
      "Epoch [391 / 10000]: Tain loss: 0.6038, Valid loss: 0.6683\n"
     ]
    },
    {
     "name": "stderr",
     "output_type": "stream",
     "text": [
      "Epoch [391/10000]: 100%|██████████| 322/322 [00:01<00:00, 222.40it/s, loss=0.568]\n"
     ]
    },
    {
     "name": "stdout",
     "output_type": "stream",
     "text": [
      "Epoch [392 / 10000]: Tain loss: 0.6038, Valid loss: 0.6683\n"
     ]
    },
    {
     "name": "stderr",
     "output_type": "stream",
     "text": [
      "Epoch [392/10000]: 100%|██████████| 322/322 [00:01<00:00, 221.32it/s, loss=0.568]\n"
     ]
    },
    {
     "name": "stdout",
     "output_type": "stream",
     "text": [
      "Epoch [393 / 10000]: Tain loss: 0.6037, Valid loss: 0.6683\n"
     ]
    },
    {
     "name": "stderr",
     "output_type": "stream",
     "text": [
      "Epoch [393/10000]: 100%|██████████| 322/322 [00:01<00:00, 226.11it/s, loss=0.568]\n"
     ]
    },
    {
     "name": "stdout",
     "output_type": "stream",
     "text": [
      "Epoch [394 / 10000]: Tain loss: 0.6037, Valid loss: 0.6684\n"
     ]
    },
    {
     "name": "stderr",
     "output_type": "stream",
     "text": [
      "Epoch [394/10000]: 100%|██████████| 322/322 [00:01<00:00, 224.56it/s, loss=0.568]\n"
     ]
    },
    {
     "name": "stdout",
     "output_type": "stream",
     "text": [
      "Epoch [395 / 10000]: Tain loss: 0.6037, Valid loss: 0.6683\n"
     ]
    },
    {
     "name": "stderr",
     "output_type": "stream",
     "text": [
      "Epoch [395/10000]: 100%|██████████| 322/322 [00:01<00:00, 225.29it/s, loss=0.568]\n"
     ]
    },
    {
     "name": "stdout",
     "output_type": "stream",
     "text": [
      "Epoch [396 / 10000]: Tain loss: 0.6037, Valid loss: 0.6684\n"
     ]
    },
    {
     "name": "stderr",
     "output_type": "stream",
     "text": [
      "Epoch [396/10000]: 100%|██████████| 322/322 [00:01<00:00, 221.32it/s, loss=0.567]\n"
     ]
    },
    {
     "name": "stdout",
     "output_type": "stream",
     "text": [
      "Epoch [397 / 10000]: Tain loss: 0.6037, Valid loss: 0.6684\n"
     ]
    },
    {
     "name": "stderr",
     "output_type": "stream",
     "text": [
      "Epoch [397/10000]: 100%|██████████| 322/322 [00:01<00:00, 225.13it/s, loss=0.568]\n"
     ]
    },
    {
     "name": "stdout",
     "output_type": "stream",
     "text": [
      "Epoch [398 / 10000]: Tain loss: 0.6036, Valid loss: 0.6684\n"
     ]
    },
    {
     "name": "stderr",
     "output_type": "stream",
     "text": [
      "Epoch [398/10000]: 100%|██████████| 322/322 [00:01<00:00, 221.35it/s, loss=0.568]\n"
     ]
    },
    {
     "name": "stdout",
     "output_type": "stream",
     "text": [
      "Epoch [399 / 10000]: Tain loss: 0.6036, Valid loss: 0.6685\n"
     ]
    },
    {
     "name": "stderr",
     "output_type": "stream",
     "text": [
      "Epoch [399/10000]: 100%|██████████| 322/322 [00:01<00:00, 222.54it/s, loss=0.568]\n"
     ]
    },
    {
     "name": "stdout",
     "output_type": "stream",
     "text": [
      "Epoch [400 / 10000]: Tain loss: 0.6036, Valid loss: 0.6684\n"
     ]
    },
    {
     "name": "stderr",
     "output_type": "stream",
     "text": [
      "Epoch [400/10000]: 100%|██████████| 322/322 [00:01<00:00, 205.91it/s, loss=0.568]\n"
     ]
    },
    {
     "name": "stdout",
     "output_type": "stream",
     "text": [
      "Epoch [401 / 10000]: Tain loss: 0.6036, Valid loss: 0.6685\n"
     ]
    },
    {
     "name": "stderr",
     "output_type": "stream",
     "text": [
      "Epoch [401/10000]: 100%|██████████| 322/322 [00:01<00:00, 216.89it/s, loss=0.568]\n"
     ]
    },
    {
     "name": "stdout",
     "output_type": "stream",
     "text": [
      "Epoch [402 / 10000]: Tain loss: 0.6036, Valid loss: 0.6685\n"
     ]
    },
    {
     "name": "stderr",
     "output_type": "stream",
     "text": [
      "Epoch [402/10000]: 100%|██████████| 322/322 [00:01<00:00, 227.26it/s, loss=0.568]\n"
     ]
    },
    {
     "name": "stdout",
     "output_type": "stream",
     "text": [
      "Epoch [403 / 10000]: Tain loss: 0.6036, Valid loss: 0.6686\n"
     ]
    },
    {
     "name": "stderr",
     "output_type": "stream",
     "text": [
      "Epoch [403/10000]: 100%|██████████| 322/322 [00:01<00:00, 225.23it/s, loss=0.567]\n"
     ]
    },
    {
     "name": "stdout",
     "output_type": "stream",
     "text": [
      "Epoch [404 / 10000]: Tain loss: 0.6035, Valid loss: 0.6685\n"
     ]
    },
    {
     "name": "stderr",
     "output_type": "stream",
     "text": [
      "Epoch [404/10000]: 100%|██████████| 322/322 [00:01<00:00, 208.61it/s, loss=0.567]\n"
     ]
    },
    {
     "name": "stdout",
     "output_type": "stream",
     "text": [
      "Epoch [405 / 10000]: Tain loss: 0.6035, Valid loss: 0.6686\n"
     ]
    },
    {
     "name": "stderr",
     "output_type": "stream",
     "text": [
      "Epoch [405/10000]: 100%|██████████| 322/322 [00:01<00:00, 225.98it/s, loss=0.568]\n"
     ]
    },
    {
     "name": "stdout",
     "output_type": "stream",
     "text": [
      "Epoch [406 / 10000]: Tain loss: 0.6035, Valid loss: 0.6686\n"
     ]
    },
    {
     "name": "stderr",
     "output_type": "stream",
     "text": [
      "Epoch [406/10000]: 100%|██████████| 322/322 [00:01<00:00, 226.43it/s, loss=0.568]\n"
     ]
    },
    {
     "name": "stdout",
     "output_type": "stream",
     "text": [
      "Epoch [407 / 10000]: Tain loss: 0.6035, Valid loss: 0.6686\n"
     ]
    },
    {
     "name": "stderr",
     "output_type": "stream",
     "text": [
      "Epoch [407/10000]: 100%|██████████| 322/322 [00:01<00:00, 223.87it/s, loss=0.568]\n"
     ]
    },
    {
     "name": "stdout",
     "output_type": "stream",
     "text": [
      "Epoch [408 / 10000]: Tain loss: 0.6034, Valid loss: 0.6687\n"
     ]
    },
    {
     "name": "stderr",
     "output_type": "stream",
     "text": [
      "Epoch [408/10000]: 100%|██████████| 322/322 [00:01<00:00, 219.33it/s, loss=0.567]\n"
     ]
    },
    {
     "name": "stdout",
     "output_type": "stream",
     "text": [
      "Epoch [409 / 10000]: Tain loss: 0.6034, Valid loss: 0.6686\n"
     ]
    },
    {
     "name": "stderr",
     "output_type": "stream",
     "text": [
      "Epoch [409/10000]: 100%|██████████| 322/322 [00:01<00:00, 207.21it/s, loss=0.568]\n"
     ]
    },
    {
     "name": "stdout",
     "output_type": "stream",
     "text": [
      "Epoch [410 / 10000]: Tain loss: 0.6034, Valid loss: 0.6687\n"
     ]
    },
    {
     "name": "stderr",
     "output_type": "stream",
     "text": [
      "Epoch [410/10000]: 100%|██████████| 322/322 [00:01<00:00, 221.63it/s, loss=0.567]\n"
     ]
    },
    {
     "name": "stdout",
     "output_type": "stream",
     "text": [
      "Epoch [411 / 10000]: Tain loss: 0.6034, Valid loss: 0.6687\n"
     ]
    },
    {
     "name": "stderr",
     "output_type": "stream",
     "text": [
      "Epoch [411/10000]: 100%|██████████| 322/322 [00:01<00:00, 211.55it/s, loss=0.567]\n"
     ]
    },
    {
     "name": "stdout",
     "output_type": "stream",
     "text": [
      "Epoch [412 / 10000]: Tain loss: 0.6034, Valid loss: 0.6688\n"
     ]
    },
    {
     "name": "stderr",
     "output_type": "stream",
     "text": [
      "Epoch [412/10000]: 100%|██████████| 322/322 [00:01<00:00, 231.14it/s, loss=0.567]\n"
     ]
    },
    {
     "name": "stdout",
     "output_type": "stream",
     "text": [
      "Epoch [413 / 10000]: Tain loss: 0.6034, Valid loss: 0.6688\n"
     ]
    },
    {
     "name": "stderr",
     "output_type": "stream",
     "text": [
      "Epoch [413/10000]: 100%|██████████| 322/322 [00:01<00:00, 208.60it/s, loss=0.567]\n"
     ]
    },
    {
     "name": "stdout",
     "output_type": "stream",
     "text": [
      "Epoch [414 / 10000]: Tain loss: 0.6033, Valid loss: 0.6688\n"
     ]
    },
    {
     "name": "stderr",
     "output_type": "stream",
     "text": [
      "Epoch [414/10000]: 100%|██████████| 322/322 [00:01<00:00, 215.46it/s, loss=0.568]\n"
     ]
    },
    {
     "name": "stdout",
     "output_type": "stream",
     "text": [
      "Epoch [415 / 10000]: Tain loss: 0.6033, Valid loss: 0.6688\n"
     ]
    },
    {
     "name": "stderr",
     "output_type": "stream",
     "text": [
      "Epoch [415/10000]: 100%|██████████| 322/322 [00:01<00:00, 204.50it/s, loss=0.568]\n"
     ]
    },
    {
     "name": "stdout",
     "output_type": "stream",
     "text": [
      "Epoch [416 / 10000]: Tain loss: 0.6033, Valid loss: 0.6688\n"
     ]
    },
    {
     "name": "stderr",
     "output_type": "stream",
     "text": [
      "Epoch [416/10000]: 100%|██████████| 322/322 [00:01<00:00, 195.14it/s, loss=0.568]\n"
     ]
    },
    {
     "name": "stdout",
     "output_type": "stream",
     "text": [
      "Epoch [417 / 10000]: Tain loss: 0.6033, Valid loss: 0.6689\n"
     ]
    },
    {
     "name": "stderr",
     "output_type": "stream",
     "text": [
      "Epoch [417/10000]: 100%|██████████| 322/322 [00:01<00:00, 219.71it/s, loss=0.567]\n"
     ]
    },
    {
     "name": "stdout",
     "output_type": "stream",
     "text": [
      "Epoch [418 / 10000]: Tain loss: 0.6033, Valid loss: 0.6690\n"
     ]
    },
    {
     "name": "stderr",
     "output_type": "stream",
     "text": [
      "Epoch [418/10000]: 100%|██████████| 322/322 [00:01<00:00, 200.79it/s, loss=0.567]\n"
     ]
    },
    {
     "name": "stdout",
     "output_type": "stream",
     "text": [
      "Epoch [419 / 10000]: Tain loss: 0.6032, Valid loss: 0.6689\n"
     ]
    },
    {
     "name": "stderr",
     "output_type": "stream",
     "text": [
      "Epoch [419/10000]: 100%|██████████| 322/322 [00:01<00:00, 196.47it/s, loss=0.567]\n"
     ]
    },
    {
     "name": "stdout",
     "output_type": "stream",
     "text": [
      "Epoch [420 / 10000]: Tain loss: 0.6032, Valid loss: 0.6690\n"
     ]
    },
    {
     "name": "stderr",
     "output_type": "stream",
     "text": [
      "Epoch [420/10000]: 100%|██████████| 322/322 [00:01<00:00, 195.79it/s, loss=0.567]\n"
     ]
    },
    {
     "name": "stdout",
     "output_type": "stream",
     "text": [
      "Epoch [421 / 10000]: Tain loss: 0.6032, Valid loss: 0.6690\n"
     ]
    },
    {
     "name": "stderr",
     "output_type": "stream",
     "text": [
      "Epoch [421/10000]: 100%|██████████| 322/322 [00:01<00:00, 188.49it/s, loss=0.567]\n"
     ]
    },
    {
     "name": "stdout",
     "output_type": "stream",
     "text": [
      "Epoch [422 / 10000]: Tain loss: 0.6032, Valid loss: 0.6690\n"
     ]
    },
    {
     "name": "stderr",
     "output_type": "stream",
     "text": [
      "Epoch [422/10000]: 100%|██████████| 322/322 [00:01<00:00, 203.36it/s, loss=0.567]\n"
     ]
    },
    {
     "name": "stdout",
     "output_type": "stream",
     "text": [
      "Epoch [423 / 10000]: Tain loss: 0.6031, Valid loss: 0.6691\n"
     ]
    },
    {
     "name": "stderr",
     "output_type": "stream",
     "text": [
      "Epoch [423/10000]: 100%|██████████| 322/322 [00:01<00:00, 214.55it/s, loss=0.567]\n"
     ]
    },
    {
     "name": "stdout",
     "output_type": "stream",
     "text": [
      "Epoch [424 / 10000]: Tain loss: 0.6031, Valid loss: 0.6691\n"
     ]
    },
    {
     "name": "stderr",
     "output_type": "stream",
     "text": [
      "Epoch [424/10000]: 100%|██████████| 322/322 [00:01<00:00, 220.75it/s, loss=0.567]\n"
     ]
    },
    {
     "name": "stdout",
     "output_type": "stream",
     "text": [
      "Epoch [425 / 10000]: Tain loss: 0.6031, Valid loss: 0.6692\n"
     ]
    },
    {
     "name": "stderr",
     "output_type": "stream",
     "text": [
      "Epoch [425/10000]: 100%|██████████| 322/322 [00:01<00:00, 221.26it/s, loss=0.567]\n"
     ]
    },
    {
     "name": "stdout",
     "output_type": "stream",
     "text": [
      "Epoch [426 / 10000]: Tain loss: 0.6031, Valid loss: 0.6691\n"
     ]
    },
    {
     "name": "stderr",
     "output_type": "stream",
     "text": [
      "Epoch [426/10000]: 100%|██████████| 322/322 [00:01<00:00, 240.93it/s, loss=0.567]\n"
     ]
    },
    {
     "name": "stdout",
     "output_type": "stream",
     "text": [
      "Epoch [427 / 10000]: Tain loss: 0.6031, Valid loss: 0.6692\n"
     ]
    },
    {
     "name": "stderr",
     "output_type": "stream",
     "text": [
      "Epoch [427/10000]: 100%|██████████| 322/322 [00:01<00:00, 228.79it/s, loss=0.567]\n"
     ]
    },
    {
     "name": "stdout",
     "output_type": "stream",
     "text": [
      "Epoch [428 / 10000]: Tain loss: 0.6031, Valid loss: 0.6692\n"
     ]
    },
    {
     "name": "stderr",
     "output_type": "stream",
     "text": [
      "Epoch [428/10000]: 100%|██████████| 322/322 [00:01<00:00, 226.34it/s, loss=0.567]\n"
     ]
    },
    {
     "name": "stdout",
     "output_type": "stream",
     "text": [
      "Epoch [429 / 10000]: Tain loss: 0.6031, Valid loss: 0.6693\n"
     ]
    },
    {
     "name": "stderr",
     "output_type": "stream",
     "text": [
      "Epoch [429/10000]: 100%|██████████| 322/322 [00:01<00:00, 228.05it/s, loss=0.567]\n"
     ]
    },
    {
     "name": "stdout",
     "output_type": "stream",
     "text": [
      "Epoch [430 / 10000]: Tain loss: 0.6030, Valid loss: 0.6693\n"
     ]
    },
    {
     "name": "stderr",
     "output_type": "stream",
     "text": [
      "Epoch [430/10000]: 100%|██████████| 322/322 [00:01<00:00, 235.78it/s, loss=0.567]\n"
     ]
    },
    {
     "name": "stdout",
     "output_type": "stream",
     "text": [
      "Epoch [431 / 10000]: Tain loss: 0.6031, Valid loss: 0.6692\n"
     ]
    },
    {
     "name": "stderr",
     "output_type": "stream",
     "text": [
      "Epoch [431/10000]: 100%|██████████| 322/322 [00:01<00:00, 233.39it/s, loss=0.567]\n"
     ]
    },
    {
     "name": "stdout",
     "output_type": "stream",
     "text": [
      "Epoch [432 / 10000]: Tain loss: 0.6030, Valid loss: 0.6695\n"
     ]
    },
    {
     "name": "stderr",
     "output_type": "stream",
     "text": [
      "Epoch [432/10000]: 100%|██████████| 322/322 [00:01<00:00, 229.80it/s, loss=0.567]\n"
     ]
    },
    {
     "name": "stdout",
     "output_type": "stream",
     "text": [
      "Epoch [433 / 10000]: Tain loss: 0.6030, Valid loss: 0.6694\n"
     ]
    },
    {
     "name": "stderr",
     "output_type": "stream",
     "text": [
      "Epoch [433/10000]: 100%|██████████| 322/322 [00:01<00:00, 230.90it/s, loss=0.567]\n"
     ]
    },
    {
     "name": "stdout",
     "output_type": "stream",
     "text": [
      "Epoch [434 / 10000]: Tain loss: 0.6030, Valid loss: 0.6694\n"
     ]
    },
    {
     "name": "stderr",
     "output_type": "stream",
     "text": [
      "Epoch [434/10000]: 100%|██████████| 322/322 [00:01<00:00, 228.97it/s, loss=0.567]\n"
     ]
    },
    {
     "name": "stdout",
     "output_type": "stream",
     "text": [
      "Epoch [435 / 10000]: Tain loss: 0.6030, Valid loss: 0.6694\n"
     ]
    },
    {
     "name": "stderr",
     "output_type": "stream",
     "text": [
      "Epoch [435/10000]: 100%|██████████| 322/322 [00:01<00:00, 226.04it/s, loss=0.567]\n"
     ]
    },
    {
     "name": "stdout",
     "output_type": "stream",
     "text": [
      "Epoch [436 / 10000]: Tain loss: 0.6029, Valid loss: 0.6695\n"
     ]
    },
    {
     "name": "stderr",
     "output_type": "stream",
     "text": [
      "Epoch [436/10000]: 100%|██████████| 322/322 [00:01<00:00, 236.02it/s, loss=0.567]\n"
     ]
    },
    {
     "name": "stdout",
     "output_type": "stream",
     "text": [
      "Epoch [437 / 10000]: Tain loss: 0.6029, Valid loss: 0.6695\n"
     ]
    },
    {
     "name": "stderr",
     "output_type": "stream",
     "text": [
      "Epoch [437/10000]: 100%|██████████| 322/322 [00:01<00:00, 231.73it/s, loss=0.566]\n"
     ]
    },
    {
     "name": "stdout",
     "output_type": "stream",
     "text": [
      "Epoch [438 / 10000]: Tain loss: 0.6029, Valid loss: 0.6696\n"
     ]
    },
    {
     "name": "stderr",
     "output_type": "stream",
     "text": [
      "Epoch [438/10000]: 100%|██████████| 322/322 [00:01<00:00, 217.53it/s, loss=0.566]\n"
     ]
    },
    {
     "name": "stdout",
     "output_type": "stream",
     "text": [
      "Epoch [439 / 10000]: Tain loss: 0.6029, Valid loss: 0.6695\n"
     ]
    },
    {
     "name": "stderr",
     "output_type": "stream",
     "text": [
      "Epoch [439/10000]: 100%|██████████| 322/322 [00:01<00:00, 238.25it/s, loss=0.566]\n"
     ]
    },
    {
     "name": "stdout",
     "output_type": "stream",
     "text": [
      "Epoch [440 / 10000]: Tain loss: 0.6029, Valid loss: 0.6696\n"
     ]
    },
    {
     "name": "stderr",
     "output_type": "stream",
     "text": [
      "Epoch [440/10000]: 100%|██████████| 322/322 [00:01<00:00, 234.90it/s, loss=0.567]\n"
     ]
    },
    {
     "name": "stdout",
     "output_type": "stream",
     "text": [
      "Epoch [441 / 10000]: Tain loss: 0.6029, Valid loss: 0.6696\n"
     ]
    },
    {
     "name": "stderr",
     "output_type": "stream",
     "text": [
      "Epoch [441/10000]: 100%|██████████| 322/322 [00:01<00:00, 223.19it/s, loss=0.567]\n"
     ]
    },
    {
     "name": "stdout",
     "output_type": "stream",
     "text": [
      "Epoch [442 / 10000]: Tain loss: 0.6028, Valid loss: 0.6696\n"
     ]
    },
    {
     "name": "stderr",
     "output_type": "stream",
     "text": [
      "Epoch [442/10000]: 100%|██████████| 322/322 [00:01<00:00, 231.99it/s, loss=0.567]\n"
     ]
    },
    {
     "name": "stdout",
     "output_type": "stream",
     "text": [
      "Epoch [443 / 10000]: Tain loss: 0.6028, Valid loss: 0.6696\n"
     ]
    },
    {
     "name": "stderr",
     "output_type": "stream",
     "text": [
      "Epoch [443/10000]: 100%|██████████| 322/322 [00:01<00:00, 233.10it/s, loss=0.567]\n"
     ]
    },
    {
     "name": "stdout",
     "output_type": "stream",
     "text": [
      "Epoch [444 / 10000]: Tain loss: 0.6028, Valid loss: 0.6696\n"
     ]
    },
    {
     "name": "stderr",
     "output_type": "stream",
     "text": [
      "Epoch [444/10000]: 100%|██████████| 322/322 [00:01<00:00, 230.59it/s, loss=0.566]\n"
     ]
    },
    {
     "name": "stdout",
     "output_type": "stream",
     "text": [
      "Epoch [445 / 10000]: Tain loss: 0.6028, Valid loss: 0.6697\n"
     ]
    },
    {
     "name": "stderr",
     "output_type": "stream",
     "text": [
      "Epoch [445/10000]: 100%|██████████| 322/322 [00:01<00:00, 230.62it/s, loss=0.566]\n"
     ]
    },
    {
     "name": "stdout",
     "output_type": "stream",
     "text": [
      "Epoch [446 / 10000]: Tain loss: 0.6028, Valid loss: 0.6697\n",
      "\n",
      "Model is not imporving, so we halt the training session\n"
     ]
    }
   ],
   "source": [
    "model = LSTMAE(inputDim=cellNumPDG).to(device)\n",
    "# print(next(model.parameters()).device)\n",
    "trainer(train_loader, valid_loader, model, config, device)"
   ]
  },
  {
   "cell_type": "code",
   "execution_count": null,
   "metadata": {},
   "outputs": [],
   "source": [
    "%reload_ext tensorboard\n",
    "%tensorboard --logdir=./runs/"
   ]
  },
  {
   "cell_type": "markdown",
   "metadata": {},
   "source": [
    "#### 比较使用Day1数据训练的AE在数据MOV和PDG中的表现（均使用Day1数据测试，Mouse1）"
   ]
  },
  {
   "cell_type": "code",
   "execution_count": 10,
   "metadata": {},
   "outputs": [],
   "source": [
    "# MAPE 平均绝对百分比误差\n",
    "# formula np.sum((y-yhat) ** 2 / y**2, axis=1) / cellNum\n",
    "# 更换方法 np.sum((y-yhat) ** 2 / y**2, axis=1) / cellNum\n",
    "def getMAPE(y, yHat):\n",
    "    seqenceNum, sequenceLen, cellNum = y.shape\n",
    "    y, yHat = y.reshape(seqenceNum, sequenceLen*cellNum), yHat.reshape(seqenceNum, sequenceLen*cellNum)\n",
    "    return np.sum(np.abs(y-yHat) / np.abs(y), axis=1) / (cellNum*sequenceLen)"
   ]
  },
  {
   "cell_type": "code",
   "execution_count": 9,
   "metadata": {},
   "outputs": [],
   "source": [
    "def getMSE(y, yHat):\n",
    "    seqenceNum, sequenceLen, cellNum = y.shape\n",
    "    y, yHat = y.reshape(seqenceNum, sequenceLen*cellNum), yHat.reshape(seqenceNum, sequenceLen*cellNum)\n",
    "    return np.sum((y-yHat)**2, axis=1) / (cellNum*sequenceLen)"
   ]
  },
  {
   "cell_type": "code",
   "execution_count": 10,
   "metadata": {},
   "outputs": [],
   "source": [
    "device = 'cuda' if torch.cuda.is_available() else 'cpu' \n",
    "Day1LSTMAE = LSTMAE(config['cellNumPDG'])\n",
    "Day1LSTMAE.load_state_dict(torch.load(config['best_model']))\n",
    "Day1LSTMAE = Day1LSTMAE.to(device)"
   ]
  },
  {
   "cell_type": "code",
   "execution_count": 11,
   "metadata": {},
   "outputs": [],
   "source": [
    "MOV_data = np.load('./myData/MOV_data_split_LSTMAE.npy')\n",
    "PDG_data = np.load('./myData/PDG_data_split_LSTMAE.npy')\n",
    "\n",
    "MOV_dataset = RespData(MOV_data)\n",
    "PDG_dataset = RespData(PDG_data)\n",
    "\n",
    "MOV_loader = DataLoader(MOV_dataset, batch_size=16)\n",
    "PDG_loader = DataLoader(PDG_dataset, batch_size=16)"
   ]
  },
  {
   "cell_type": "code",
   "execution_count": 12,
   "metadata": {},
   "outputs": [
    {
     "name": "stderr",
     "output_type": "stream",
     "text": [
      "100%|██████████| 645/645 [00:07<00:00, 85.74it/s] \n",
      "100%|██████████| 357/357 [00:02<00:00, 127.70it/s]\n"
     ]
    }
   ],
   "source": [
    "MOV_prediction = predict(MOV_loader, Day1LSTMAE, device)\n",
    "PDG_prediction = predict(PDG_loader, Day1LSTMAE, device)"
   ]
  },
  {
   "cell_type": "code",
   "execution_count": 13,
   "metadata": {},
   "outputs": [],
   "source": [
    "def draw_hitogram(df, column='MAPE'):\n",
    "    sns.set_theme(style=\"ticks\")\n",
    "\n",
    "    f, ax = plt.subplots(figsize=(7, 5))\n",
    "    sns.despine(f)\n",
    "\n",
    "    sns.histplot(\n",
    "        df,\n",
    "        x=column,\n",
    "        multiple=\"stack\",\n",
    "        palette=\"light:m_r\",\n",
    "        edgecolor=\".3\",\n",
    "        linewidth=.5,\n",
    "        log_scale=False,\n",
    "    )\n",
    "    ax.xaxis.set_major_formatter(mpl.ticker.ScalarFormatter())\n",
    "    # ax.set_xticks([500, 1000, 2000, 5000, 10000])"
   ]
  },
  {
   "cell_type": "code",
   "execution_count": 14,
   "metadata": {},
   "outputs": [],
   "source": [
    "# print(type(PDG_data_split))"
   ]
  },
  {
   "cell_type": "code",
   "execution_count": 15,
   "metadata": {},
   "outputs": [],
   "source": [
    "PDG_MSE = getMSE(PDG_data, PDG_prediction.numpy())\n",
    "MOV_MSE = getMSE(MOV_data, MOV_prediction.numpy())\n",
    "\n",
    "PDG_df = pd.DataFrame(PDG_MSE, columns=['MSE'])\n",
    "MOV_df = pd.DataFrame(MOV_MSE, columns=['MSE'])"
   ]
  },
  {
   "cell_type": "code",
   "execution_count": 16,
   "metadata": {},
   "outputs": [
    {
     "data": {
      "text/plain": [
       "Text(0.5, 1.0, 'Day1 LSTMAE MSE in PDG')"
      ]
     },
     "execution_count": 16,
     "metadata": {},
     "output_type": "execute_result"
    },
    {
     "data": {
      "image/png": "[encoded data removed]",
      "text/plain": [
       "<Figure size 504x360 with 1 Axes>"
      ]
     },
     "metadata": {},
     "output_type": "display_data"
    }
   ],
   "source": [
    "draw_hitogram(PDG_df, column='MSE')\n",
    "plt.title('Day1 LSTMAE MSE in PDG', fontsize='xx-large',fontweight='heavy')\n",
    "# plt.savefig('./LSTMAE_PDG.jpg', dpi=400)"
   ]
  },
  {
   "cell_type": "code",
   "execution_count": 17,
   "metadata": {},
   "outputs": [
    {
     "data": {
      "text/plain": [
       "Text(0.5, 1.0, 'Day1 LSTMAE MSE in MOV')"
      ]
     },
     "execution_count": 17,
     "metadata": {},
     "output_type": "execute_result"
    },
    {
     "data": {
      "image/png": "[encoded data removed]",
      "text/plain": [
       "<Figure size 504x360 with 1 Axes>"
      ]
     },
     "metadata": {},
     "output_type": "display_data"
    }
   ],
   "source": [
    "draw_hitogram(MOV_df, column='MSE')\n",
    "plt.title('Day1 LSTMAE MSE in MOV', fontsize='xx-large',fontweight='heavy')\n",
    "# plt.savefig('./LSTMAE_MOV.jpg', dpi=400)"
   ]
  },
  {
   "cell_type": "markdown",
   "metadata": {},
   "source": [
    "- 生成白噪声序列对比\n",
    "- 不同时间的计算误差分布\n",
    "- 对比MOV\n",
    "- 使用不同的误差指标"
   ]
  },
  {
   "cell_type": "markdown",
   "metadata": {},
   "source": [
    "#### 比较白噪声"
   ]
  },
  {
   "cell_type": "code",
   "execution_count": 18,
   "metadata": {},
   "outputs": [],
   "source": [
    "whiteNoise = np.random.normal(0, 1, (10000, 6, config['cellNumPDG']))\n",
    "whiteNoise_dataset = RespData(whiteNoise)\n",
    "whiteNoise_dataloader = DataLoader(whiteNoise_dataset, batch_size=16)"
   ]
  },
  {
   "cell_type": "code",
   "execution_count": 19,
   "metadata": {},
   "outputs": [
    {
     "name": "stderr",
     "output_type": "stream",
     "text": [
      "100%|██████████| 625/625 [00:06<00:00, 89.42it/s] \n"
     ]
    }
   ],
   "source": [
    "whiteNoise_prediction = predict(whiteNoise_dataloader, Day1LSTMAE, device)"
   ]
  },
  {
   "cell_type": "code",
   "execution_count": 20,
   "metadata": {},
   "outputs": [],
   "source": [
    "whiteNoise_MSE = getMSE(whiteNoise, whiteNoise_prediction.numpy())\n",
    "whiteNoise_df = pd.DataFrame(whiteNoise_MSE, columns=['MSE'])"
   ]
  },
  {
   "cell_type": "code",
   "execution_count": 21,
   "metadata": {},
   "outputs": [
    {
     "data": {
      "text/plain": [
       "Text(0.5, 1.0, 'Day1 LSTMAE MSE in White Noise')"
      ]
     },
     "execution_count": 21,
     "metadata": {},
     "output_type": "execute_result"
    },
    {
     "data": {
      "image/png": "[encoded data removed]",
      "text/plain": [
       "<Figure size 504x360 with 1 Axes>"
      ]
     },
     "metadata": {},
     "output_type": "display_data"
    }
   ],
   "source": [
    "draw_hitogram(whiteNoise_df, column='MSE')\n",
    "plt.title('Day1 LSTMAE MSE in White Noise', fontsize='xx-large',fontweight='heavy')\n",
    "# plt.savefig('./LSTMAE_WhiteNoise')"
   ]
  },
  {
   "cell_type": "markdown",
   "metadata": {},
   "source": [
    "#### 比对不同时间预测误差"
   ]
  },
  {
   "cell_type": "code",
   "execution_count": 22,
   "metadata": {},
   "outputs": [],
   "source": [
    "def getPDGDataset(sessionData):\n",
    "    repeatNum, frameNum, cellNum = sessionData.shape\n",
    "    sessionData = sessionData.reshape((repeatNum*frameNum, cellNum))\n",
    "    sessionData = (sessionData - np.mean(sessionData, axis=1, keepdims=True)) / np.std(sessionData, axis=1, keepdims=True)\n",
    "    sessionData = sessionData.reshape((repeatNum, frameNum, cellNum))\n",
    "\n",
    "    # split the data, stride 6, step 1\n",
    "    sessionData = splitResp(sessionData)\n",
    "\n",
    "    return sessionData"
   ]
  },
  {
   "cell_type": "code",
   "execution_count": 23,
   "metadata": {},
   "outputs": [],
   "source": [
    "Respdata = io.loadmat('./Main experiments/Mouse 1/RespData.mat')\n",
    "Respdata = Respdata['RespData'][0][0][0][0][0][0]"
   ]
  },
  {
   "cell_type": "code",
   "execution_count": 24,
   "metadata": {},
   "outputs": [],
   "source": [
    "repeatNum, frameNum, cellNum, sessionNum = Respdata.shape\n",
    "# PDG_Data = [getPDGDataset(Respdata[:, :, :, i]) for i in range(sessionNum)]\n",
    "PDG_Data = [np.load(f'./myData/Mouse1/Session{i}_PDG_split_LSTM.npy') for i in range(5)]\n"
   ]
  },
  {
   "cell_type": "code",
   "execution_count": 25,
   "metadata": {},
   "outputs": [],
   "source": [
    "PDG_Dataset = [RespData(d) for d in PDG_Data]\n",
    "PDG_Dataloader = [DataLoader(dataset, batch_size=16) for dataset in PDG_Dataset]"
   ]
  },
  {
   "cell_type": "code",
   "execution_count": 26,
   "metadata": {},
   "outputs": [
    {
     "name": "stderr",
     "output_type": "stream",
     "text": [
      "100%|██████████| 357/357 [00:02<00:00, 142.47it/s]\n",
      "100%|██████████| 357/357 [00:02<00:00, 152.32it/s]\n",
      "100%|██████████| 357/357 [00:02<00:00, 127.31it/s]\n",
      "100%|██████████| 357/357 [00:02<00:00, 149.88it/s]\n",
      "100%|██████████| 357/357 [00:02<00:00, 152.77it/s]\n"
     ]
    }
   ],
   "source": [
    "PDG_Predictions = [predict(dataloader, Day1LSTMAE, device) for dataloader in PDG_Dataloader]"
   ]
  },
  {
   "cell_type": "code",
   "execution_count": 27,
   "metadata": {},
   "outputs": [],
   "source": [
    "PDG_MSE = [getMSE(d, pred.numpy()) for d, pred in zip(PDG_Data, PDG_Predictions)]"
   ]
  },
  {
   "cell_type": "code",
   "execution_count": 28,
   "metadata": {},
   "outputs": [],
   "source": [
    "PDG_df = [pd.DataFrame(mse, columns=[f'MSE Day {i*7}']) for i, mse in enumerate(PDG_MSE)]"
   ]
  },
  {
   "cell_type": "code",
   "execution_count": 29,
   "metadata": {},
   "outputs": [
    {
     "data": {
      "image/png": "[encoded data removed]",
      "text/plain": [
       "<Figure size 504x360 with 1 Axes>"
      ]
     },
     "metadata": {},
     "output_type": "display_data"
    },
    {
     "data": {
      "image/png": "[encoded data removed]",
      "text/plain": [
       "<Figure size 504x360 with 1 Axes>"
      ]
     },
     "metadata": {},
     "output_type": "display_data"
    },
    {
     "data": {
      "image/png": "[encoded data removed]",
      "text/plain": [
       "<Figure size 504x360 with 1 Axes>"
      ]
     },
     "metadata": {},
     "output_type": "display_data"
    },
    {
     "data": {
      "image/png": "[encoded data removed]",
      "text/plain": [
       "<Figure size 504x360 with 1 Axes>"
      ]
     },
     "metadata": {},
     "output_type": "display_data"
    },
    {
     "data": {
      "image/png": "[encoded data removed]",
      "text/plain": [
       "<Figure size 504x360 with 1 Axes>"
      ]
     },
     "metadata": {},
     "output_type": "display_data"
    }
   ],
   "source": [
    "for i in range(5):\n",
    "    draw_hitogram(PDG_df[i][PDG_df[i][f'MSE Day {i*7}'] <= 5], f'MSE Day {i*7}')\n",
    "    plt.title(f'Day{i*7} LSTMAE MSE in PDG', fontsize='xx-large',fontweight='heavy')\n",
    "    plt.savefig(f'LSTMAE{i}.jpg', dpi=400)"
   ]
  },
  {
   "cell_type": "code",
   "execution_count": 30,
   "metadata": {},
   "outputs": [
    {
     "data": {
      "image/png": "[encoded data removed]",
      "text/plain": [
       "<Figure size 432x288 with 1 Axes>"
      ]
     },
     "metadata": {},
     "output_type": "display_data"
    },
    {
     "data": {
      "text/plain": [
       "<Figure size 432x288 with 0 Axes>"
      ]
     },
     "metadata": {},
     "output_type": "display_data"
    }
   ],
   "source": [
    "# Fixing random state for reproducibility\n",
    "np.random.seed(19680801)\n",
    "\n",
    "plt.style.use('bmh')\n",
    "\n",
    "fig, ax = plt.subplots()\n",
    "# print(PDG_df)\n",
    "ax.hist(PDG_df[0]['MSE Day 0'], histtype=\"stepfilled\", bins=25, alpha=0.8, density=True, label='Day0')\n",
    "ax.hist(PDG_df[1]['MSE Day 7'], histtype=\"stepfilled\", bins=25, alpha=0.8, density=True, label='Day7')\n",
    "ax.hist(PDG_df[2]['MSE Day 14'], histtype=\"stepfilled\", bins=25, alpha=0.8, density=True, label='Day14')\n",
    "ax.hist(PDG_df[3]['MSE Day 21'], histtype=\"stepfilled\", bins=25, alpha=0.8, density=True, label='Day21')\n",
    "ax.hist(PDG_df[4]['MSE Day 28'], histtype=\"stepfilled\", bins=25, alpha=0.8, density=True, label='Day28')\n",
    "ax.hist(MOV_df['MSE'], histtype=\"stepfilled\", bins=25, alpha=0.8, density=True, label='MOV')\n",
    "ax.hist(whiteNoise_df['MSE'], histtype=\"stepfilled\", bins=25, alpha=0.8, density=True, label='WN')\n",
    "ax.set_title(\"Different Session MSE\")\n",
    "\n",
    "ax.legend(loc='upper left')\n",
    "\n",
    "plt.show()\n",
    "plt.savefig('./LSTMAE_DAY.jpg', dpi=400)"
   ]
  },
  {
   "cell_type": "code",
   "execution_count": 31,
   "metadata": {},
   "outputs": [
    {
     "data": {
      "image/png": "[encoded data removed]",
      "text/plain": [
       "<Figure size 432x288 with 1 Axes>"
      ]
     },
     "metadata": {},
     "output_type": "display_data"
    },
    {
     "data": {
      "text/plain": [
       "<Figure size 432x288 with 0 Axes>"
      ]
     },
     "metadata": {},
     "output_type": "display_data"
    }
   ],
   "source": [
    "# Fixing random state for reproducibility\n",
    "np.random.seed(19680801)\n",
    "\n",
    "plt.style.use('bmh')\n",
    "\n",
    "fig, ax = plt.subplots()\n",
    "# print(PDG_df)\n",
    "ax.hist(PDG_df[0]['MSE Day 0'], histtype=\"stepfilled\", bins=25, alpha=0.8, density=True, label='PDG')\n",
    "ax.hist(whiteNoise_df['MSE'], histtype=\"stepfilled\", bins=25, alpha=0.8, density=True, label='WN')\n",
    "ax.hist(MOV_df['MSE'], histtype=\"stepfilled\", bins=25, alpha=0.8, density=True, label='MOV')\n",
    "ax.set_title(\"Different Signal MSE\")\n",
    "\n",
    "ax.legend(loc='upper left')\n",
    "\n",
    "plt.show()\n",
    "\n",
    "plt.savefig('./LSTMAE_SIGNAL.jpg', dpi=400)"
   ]
  },
  {
   "cell_type": "code",
   "execution_count": null,
   "metadata": {},
   "outputs": [],
   "source": []
  }
 ],
 "metadata": {
  "kernelspec": {
   "display_name": "Python 3.7.9 64-bit",
   "language": "python",
   "name": "python3"
  },
  "language_info": {
   "codemirror_mode": {
    "name": "ipython",
    "version": 3
   },
   "file_extension": ".py",
   "mimetype": "text/x-python",
   "name": "python",
   "nbconvert_exporter": "python",
   "pygments_lexer": "ipython3",
   "version": "3.7.9"
  },
  "orig_nbformat": 4,
  "vscode": {
   "interpreter": {
    "hash": "f1215c2695fb854c4ba7da04e87047ff6ad0cd3a897d5f699d6446d61aa011c7"
   }
  }
 },
 "nbformat": 4,
 "nbformat_minor": 2
}
